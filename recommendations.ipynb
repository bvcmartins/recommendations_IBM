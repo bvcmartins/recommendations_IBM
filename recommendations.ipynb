{
 "cells": [
  {
   "cell_type": "markdown",
   "metadata": {},
   "source": [
    "# Recommendations with IBM\n",
    "\n",
    "In this notebook, you will be putting your recommendation skills to use on real data from the IBM Watson Studio platform. \n",
    "\n",
    "\n",
    "You may either submit your notebook through the workspace here, or you may work from your local machine and submit through the next page.  Either way assure that your code passes the project [RUBRIC](https://review.udacity.com/#!/rubrics/2322/view).  **Please save regularly.**\n",
    "\n",
    "By following the table of contents, you will build out a number of different methods for making recommendations that can be used for different situations. \n",
    "\n",
    "\n",
    "## Table of Contents\n",
    "\n",
    "I. [Exploratory Data Analysis](#Exploratory-Data-Analysis)<br>\n",
    "II. [Rank Based Recommendations](#Rank)<br>\n",
    "III. [User-User Based Collaborative Filtering](#User-User)<br>\n",
    "IV. [Content Based Recommendations (EXTRA - NOT REQUIRED)](#Content-Recs)<br>\n",
    "V. [Matrix Factorization](#Matrix-Fact)<br>\n",
    "VI. [Extras & Concluding](#conclusions)\n",
    "\n",
    "At the end of the notebook, you will find directions for how to submit your work.  Let's get started by importing the necessary libraries and reading in the data."
   ]
  },
  {
   "cell_type": "code",
   "execution_count": 271,
   "metadata": {},
   "outputs": [],
   "source": [
    "import pandas as pd\n",
    "import numpy as np\n",
    "import matplotlib.pyplot as plt\n",
    "%matplotlib inline\n",
    "\n",
    "import project_tests as t\n",
    "\n",
    "import itertools\n",
    "from difflib import SequenceMatcher\n",
    "\n",
    "from collections import OrderedDict"
   ]
  },
  {
   "cell_type": "code",
   "execution_count": 2,
   "metadata": {},
   "outputs": [],
   "source": [
    "pd.set_option('display.max_rows', 500)\n",
    "pd.set_option('display.max_columns', 500)\n",
    "pd.set_option('display.width', 1000)"
   ]
  },
  {
   "cell_type": "markdown",
   "metadata": {},
   "source": [
    "#### Load user-item interactions file"
   ]
  },
  {
   "cell_type": "code",
   "execution_count": 3,
   "metadata": {},
   "outputs": [
    {
     "data": {
      "text/html": [
       "<div>\n",
       "<style scoped>\n",
       "    .dataframe tbody tr th:only-of-type {\n",
       "        vertical-align: middle;\n",
       "    }\n",
       "\n",
       "    .dataframe tbody tr th {\n",
       "        vertical-align: top;\n",
       "    }\n",
       "\n",
       "    .dataframe thead th {\n",
       "        text-align: right;\n",
       "    }\n",
       "</style>\n",
       "<table border=\"1\" class=\"dataframe\">\n",
       "  <thead>\n",
       "    <tr style=\"text-align: right;\">\n",
       "      <th></th>\n",
       "      <th>article_id</th>\n",
       "      <th>title</th>\n",
       "      <th>email</th>\n",
       "    </tr>\n",
       "  </thead>\n",
       "  <tbody>\n",
       "    <tr>\n",
       "      <th>0</th>\n",
       "      <td>1430.0</td>\n",
       "      <td>using pixiedust for fast, flexible, and easier...</td>\n",
       "      <td>ef5f11f77ba020cd36e1105a00ab868bbdbf7fe7</td>\n",
       "    </tr>\n",
       "    <tr>\n",
       "      <th>1</th>\n",
       "      <td>1314.0</td>\n",
       "      <td>healthcare python streaming application demo</td>\n",
       "      <td>083cbdfa93c8444beaa4c5f5e0f5f9198e4f9e0b</td>\n",
       "    </tr>\n",
       "    <tr>\n",
       "      <th>2</th>\n",
       "      <td>1429.0</td>\n",
       "      <td>use deep learning for image classification</td>\n",
       "      <td>b96a4f2e92d8572034b1e9b28f9ac673765cd074</td>\n",
       "    </tr>\n",
       "    <tr>\n",
       "      <th>3</th>\n",
       "      <td>1338.0</td>\n",
       "      <td>ml optimization using cognitive assistant</td>\n",
       "      <td>06485706b34a5c9bf2a0ecdac41daf7e7654ceb7</td>\n",
       "    </tr>\n",
       "    <tr>\n",
       "      <th>4</th>\n",
       "      <td>1276.0</td>\n",
       "      <td>deploy your python model as a restful api</td>\n",
       "      <td>f01220c46fc92c6e6b161b1849de11faacd7ccb2</td>\n",
       "    </tr>\n",
       "  </tbody>\n",
       "</table>\n",
       "</div>"
      ],
      "text/plain": [
       "   article_id                                              title                                     email\n",
       "0      1430.0  using pixiedust for fast, flexible, and easier...  ef5f11f77ba020cd36e1105a00ab868bbdbf7fe7\n",
       "1      1314.0       healthcare python streaming application demo  083cbdfa93c8444beaa4c5f5e0f5f9198e4f9e0b\n",
       "2      1429.0         use deep learning for image classification  b96a4f2e92d8572034b1e9b28f9ac673765cd074\n",
       "3      1338.0          ml optimization using cognitive assistant  06485706b34a5c9bf2a0ecdac41daf7e7654ceb7\n",
       "4      1276.0          deploy your python model as a restful api  f01220c46fc92c6e6b161b1849de11faacd7ccb2"
      ]
     },
     "execution_count": 3,
     "metadata": {},
     "output_type": "execute_result"
    }
   ],
   "source": [
    "df = pd.read_csv('data/user-item-interactions.csv')\n",
    "df.drop('Unnamed: 0', axis=1, inplace=True)\n",
    "df.head()"
   ]
  },
  {
   "cell_type": "markdown",
   "metadata": {},
   "source": [
    "#### Check number of unique users"
   ]
  },
  {
   "cell_type": "code",
   "execution_count": 4,
   "metadata": {},
   "outputs": [
    {
     "data": {
      "text/plain": [
       "5149"
      ]
     },
     "execution_count": 4,
     "metadata": {},
     "output_type": "execute_result"
    }
   ],
   "source": [
    "df.email.unique().shape[0]"
   ]
  },
  {
   "cell_type": "markdown",
   "metadata": {},
   "source": [
    "#### There are missing emails"
   ]
  },
  {
   "cell_type": "code",
   "execution_count": 5,
   "metadata": {},
   "outputs": [
    {
     "data": {
      "text/html": [
       "<div>\n",
       "<style scoped>\n",
       "    .dataframe tbody tr th:only-of-type {\n",
       "        vertical-align: middle;\n",
       "    }\n",
       "\n",
       "    .dataframe tbody tr th {\n",
       "        vertical-align: top;\n",
       "    }\n",
       "\n",
       "    .dataframe thead th {\n",
       "        text-align: right;\n",
       "    }\n",
       "</style>\n",
       "<table border=\"1\" class=\"dataframe\">\n",
       "  <thead>\n",
       "    <tr style=\"text-align: right;\">\n",
       "      <th></th>\n",
       "      <th>article_id</th>\n",
       "      <th>title</th>\n",
       "      <th>email</th>\n",
       "    </tr>\n",
       "  </thead>\n",
       "  <tbody>\n",
       "    <tr>\n",
       "      <th>25131</th>\n",
       "      <td>1016.0</td>\n",
       "      <td>why you should master r (even if it might even...</td>\n",
       "      <td>NaN</td>\n",
       "    </tr>\n",
       "    <tr>\n",
       "      <th>29758</th>\n",
       "      <td>1393.0</td>\n",
       "      <td>the nurse assignment problem</td>\n",
       "      <td>NaN</td>\n",
       "    </tr>\n",
       "    <tr>\n",
       "      <th>29759</th>\n",
       "      <td>20.0</td>\n",
       "      <td>working interactively with rstudio and noteboo...</td>\n",
       "      <td>NaN</td>\n",
       "    </tr>\n",
       "    <tr>\n",
       "      <th>29760</th>\n",
       "      <td>1174.0</td>\n",
       "      <td>breast cancer wisconsin (diagnostic) data set</td>\n",
       "      <td>NaN</td>\n",
       "    </tr>\n",
       "    <tr>\n",
       "      <th>29761</th>\n",
       "      <td>62.0</td>\n",
       "      <td>data visualization: the importance of excludin...</td>\n",
       "      <td>NaN</td>\n",
       "    </tr>\n",
       "    <tr>\n",
       "      <th>35264</th>\n",
       "      <td>224.0</td>\n",
       "      <td>using apply, sapply, lapply in r</td>\n",
       "      <td>NaN</td>\n",
       "    </tr>\n",
       "    <tr>\n",
       "      <th>35276</th>\n",
       "      <td>961.0</td>\n",
       "      <td>beyond parallelize and collect</td>\n",
       "      <td>NaN</td>\n",
       "    </tr>\n",
       "    <tr>\n",
       "      <th>35277</th>\n",
       "      <td>268.0</td>\n",
       "      <td>sector correlations shiny app</td>\n",
       "      <td>NaN</td>\n",
       "    </tr>\n",
       "    <tr>\n",
       "      <th>35278</th>\n",
       "      <td>268.0</td>\n",
       "      <td>sector correlations shiny app</td>\n",
       "      <td>NaN</td>\n",
       "    </tr>\n",
       "    <tr>\n",
       "      <th>35279</th>\n",
       "      <td>268.0</td>\n",
       "      <td>sector correlations shiny app</td>\n",
       "      <td>NaN</td>\n",
       "    </tr>\n",
       "    <tr>\n",
       "      <th>35280</th>\n",
       "      <td>268.0</td>\n",
       "      <td>sector correlations shiny app</td>\n",
       "      <td>NaN</td>\n",
       "    </tr>\n",
       "    <tr>\n",
       "      <th>35281</th>\n",
       "      <td>415.0</td>\n",
       "      <td>using machine learning to predict value of hom...</td>\n",
       "      <td>NaN</td>\n",
       "    </tr>\n",
       "    <tr>\n",
       "      <th>35282</th>\n",
       "      <td>846.0</td>\n",
       "      <td>pearson correlation aggregation on sparksql</td>\n",
       "      <td>NaN</td>\n",
       "    </tr>\n",
       "    <tr>\n",
       "      <th>35283</th>\n",
       "      <td>268.0</td>\n",
       "      <td>sector correlations shiny app</td>\n",
       "      <td>NaN</td>\n",
       "    </tr>\n",
       "    <tr>\n",
       "      <th>35284</th>\n",
       "      <td>162.0</td>\n",
       "      <td>an introduction to stock market data analysis ...</td>\n",
       "      <td>NaN</td>\n",
       "    </tr>\n",
       "    <tr>\n",
       "      <th>42749</th>\n",
       "      <td>647.0</td>\n",
       "      <td>getting started with apache mahout</td>\n",
       "      <td>NaN</td>\n",
       "    </tr>\n",
       "    <tr>\n",
       "      <th>42750</th>\n",
       "      <td>965.0</td>\n",
       "      <td>data visualization playbook: revisiting the ba...</td>\n",
       "      <td>NaN</td>\n",
       "    </tr>\n",
       "  </tbody>\n",
       "</table>\n",
       "</div>"
      ],
      "text/plain": [
       "       article_id                                              title email\n",
       "25131      1016.0  why you should master r (even if it might even...   NaN\n",
       "29758      1393.0                       the nurse assignment problem   NaN\n",
       "29759        20.0  working interactively with rstudio and noteboo...   NaN\n",
       "29760      1174.0      breast cancer wisconsin (diagnostic) data set   NaN\n",
       "29761        62.0  data visualization: the importance of excludin...   NaN\n",
       "35264       224.0                   using apply, sapply, lapply in r   NaN\n",
       "35276       961.0                     beyond parallelize and collect   NaN\n",
       "35277       268.0                      sector correlations shiny app   NaN\n",
       "35278       268.0                      sector correlations shiny app   NaN\n",
       "35279       268.0                      sector correlations shiny app   NaN\n",
       "35280       268.0                      sector correlations shiny app   NaN\n",
       "35281       415.0  using machine learning to predict value of hom...   NaN\n",
       "35282       846.0        pearson correlation aggregation on sparksql   NaN\n",
       "35283       268.0                      sector correlations shiny app   NaN\n",
       "35284       162.0  an introduction to stock market data analysis ...   NaN\n",
       "42749       647.0                 getting started with apache mahout   NaN\n",
       "42750       965.0  data visualization playbook: revisiting the ba...   NaN"
      ]
     },
     "execution_count": 5,
     "metadata": {},
     "output_type": "execute_result"
    }
   ],
   "source": [
    "df[df.email.isnull()]"
   ]
  },
  {
   "cell_type": "markdown",
   "metadata": {},
   "source": [
    "#### Load contents file"
   ]
  },
  {
   "cell_type": "code",
   "execution_count": 6,
   "metadata": {},
   "outputs": [
    {
     "data": {
      "text/html": [
       "<div>\n",
       "<style scoped>\n",
       "    .dataframe tbody tr th:only-of-type {\n",
       "        vertical-align: middle;\n",
       "    }\n",
       "\n",
       "    .dataframe tbody tr th {\n",
       "        vertical-align: top;\n",
       "    }\n",
       "\n",
       "    .dataframe thead th {\n",
       "        text-align: right;\n",
       "    }\n",
       "</style>\n",
       "<table border=\"1\" class=\"dataframe\">\n",
       "  <thead>\n",
       "    <tr style=\"text-align: right;\">\n",
       "      <th></th>\n",
       "      <th>doc_body</th>\n",
       "      <th>doc_description</th>\n",
       "      <th>doc_full_name</th>\n",
       "      <th>doc_status</th>\n",
       "      <th>article_id</th>\n",
       "    </tr>\n",
       "  </thead>\n",
       "  <tbody>\n",
       "    <tr>\n",
       "      <th>0</th>\n",
       "      <td>Skip navigation Sign in SearchLoading...\\r\\n\\r...</td>\n",
       "      <td>Detect bad readings in real time using Python ...</td>\n",
       "      <td>Detect Malfunctioning IoT Sensors with Streami...</td>\n",
       "      <td>Live</td>\n",
       "      <td>0</td>\n",
       "    </tr>\n",
       "    <tr>\n",
       "      <th>1</th>\n",
       "      <td>No Free Hunch Navigation * kaggle.com\\r\\n\\r\\n ...</td>\n",
       "      <td>See the forest, see the trees. Here lies the c...</td>\n",
       "      <td>Communicating data science: A guide to present...</td>\n",
       "      <td>Live</td>\n",
       "      <td>1</td>\n",
       "    </tr>\n",
       "    <tr>\n",
       "      <th>2</th>\n",
       "      <td>☰ * Login\\r\\n * Sign Up\\r\\n\\r\\n * Learning Pat...</td>\n",
       "      <td>Here’s this week’s news in Data Science and Bi...</td>\n",
       "      <td>This Week in Data Science (April 18, 2017)</td>\n",
       "      <td>Live</td>\n",
       "      <td>2</td>\n",
       "    </tr>\n",
       "    <tr>\n",
       "      <th>3</th>\n",
       "      <td>DATALAYER: HIGH THROUGHPUT, LOW LATENCY AT SCA...</td>\n",
       "      <td>Learn how distributed DBs solve the problem of...</td>\n",
       "      <td>DataLayer Conference: Boost the performance of...</td>\n",
       "      <td>Live</td>\n",
       "      <td>3</td>\n",
       "    </tr>\n",
       "    <tr>\n",
       "      <th>4</th>\n",
       "      <td>Skip navigation Sign in SearchLoading...\\r\\n\\r...</td>\n",
       "      <td>This video demonstrates the power of IBM DataS...</td>\n",
       "      <td>Analyze NY Restaurant data using Spark in DSX</td>\n",
       "      <td>Live</td>\n",
       "      <td>4</td>\n",
       "    </tr>\n",
       "  </tbody>\n",
       "</table>\n",
       "</div>"
      ],
      "text/plain": [
       "                                            doc_body                                    doc_description                                      doc_full_name doc_status  article_id\n",
       "0  Skip navigation Sign in SearchLoading...\\r\\n\\r...  Detect bad readings in real time using Python ...  Detect Malfunctioning IoT Sensors with Streami...       Live           0\n",
       "1  No Free Hunch Navigation * kaggle.com\\r\\n\\r\\n ...  See the forest, see the trees. Here lies the c...  Communicating data science: A guide to present...       Live           1\n",
       "2  ☰ * Login\\r\\n * Sign Up\\r\\n\\r\\n * Learning Pat...  Here’s this week’s news in Data Science and Bi...         This Week in Data Science (April 18, 2017)       Live           2\n",
       "3  DATALAYER: HIGH THROUGHPUT, LOW LATENCY AT SCA...  Learn how distributed DBs solve the problem of...  DataLayer Conference: Boost the performance of...       Live           3\n",
       "4  Skip navigation Sign in SearchLoading...\\r\\n\\r...  This video demonstrates the power of IBM DataS...      Analyze NY Restaurant data using Spark in DSX       Live           4"
      ]
     },
     "execution_count": 6,
     "metadata": {},
     "output_type": "execute_result"
    }
   ],
   "source": [
    "df_content = pd.read_csv('data/articles_community.csv')\n",
    "df_content.drop('Unnamed: 0', axis=1, inplace=True)\n",
    "df_content.head()"
   ]
  },
  {
   "cell_type": "markdown",
   "metadata": {},
   "source": [
    "### <a class=\"anchor\" id=\"Exploratory-Data-Analysis\">Part I : Exploratory Data Analysis</a>\n",
    "\n",
    "Use the dictionary and cells below to provide some insight into the descriptive statistics of the data.\n",
    "\n",
    "`1.` What is the distribution of how many articles a user interacts with in the dataset?  Provide a visual and descriptive statistics to assist with giving a look at the number of times each user interacts with an article.  "
   ]
  },
  {
   "cell_type": "markdown",
   "metadata": {},
   "source": [
    "#### There are 5149 unique users, 5148 with valid emails and 17 null emails which were grouped as a single email."
   ]
  },
  {
   "cell_type": "code",
   "execution_count": 7,
   "metadata": {},
   "outputs": [
    {
     "name": "stdout",
     "output_type": "stream",
     "text": [
      "Total email entries:  5149\n",
      "Null email entries:  17\n",
      "Valid users:  5148\n"
     ]
    }
   ],
   "source": [
    "total_email_entries = df.email.unique().shape[0] \n",
    "null_email_entries = df[df.email.isnull()].shape[0]\n",
    "print('Total email entries: ', total_email_entries)\n",
    "print('Null email entries: ', null_email_entries)\n",
    "print('Valid users: ', total_email_entries - 1)"
   ]
  },
  {
   "cell_type": "markdown",
   "metadata": {},
   "source": [
    "#### Remove duplicates in df"
   ]
  },
  {
   "cell_type": "code",
   "execution_count": 8,
   "metadata": {},
   "outputs": [],
   "source": [
    "df2 = df.copy()"
   ]
  },
  {
   "cell_type": "code",
   "execution_count": 9,
   "metadata": {},
   "outputs": [
    {
     "data": {
      "text/plain": [
       "((45993, 3), (45993, 3))"
      ]
     },
     "execution_count": 9,
     "metadata": {},
     "output_type": "execute_result"
    }
   ],
   "source": [
    "df.shape, df2.shape"
   ]
  },
  {
   "cell_type": "markdown",
   "metadata": {},
   "source": [
    "#### 50% of users interact with 3 articles. Outliers interacted with as many as 364 articles. "
   ]
  },
  {
   "cell_type": "code",
   "execution_count": 10,
   "metadata": {},
   "outputs": [
    {
     "data": {
      "text/html": [
       "<div>\n",
       "<style scoped>\n",
       "    .dataframe tbody tr th:only-of-type {\n",
       "        vertical-align: middle;\n",
       "    }\n",
       "\n",
       "    .dataframe tbody tr th {\n",
       "        vertical-align: top;\n",
       "    }\n",
       "\n",
       "    .dataframe thead th {\n",
       "        text-align: right;\n",
       "    }\n",
       "</style>\n",
       "<table border=\"1\" class=\"dataframe\">\n",
       "  <thead>\n",
       "    <tr style=\"text-align: right;\">\n",
       "      <th></th>\n",
       "      <th>number_articles</th>\n",
       "    </tr>\n",
       "  </thead>\n",
       "  <tbody>\n",
       "    <tr>\n",
       "      <th>count</th>\n",
       "      <td>5148.000000</td>\n",
       "    </tr>\n",
       "    <tr>\n",
       "      <th>mean</th>\n",
       "      <td>8.930847</td>\n",
       "    </tr>\n",
       "    <tr>\n",
       "      <th>std</th>\n",
       "      <td>16.802267</td>\n",
       "    </tr>\n",
       "    <tr>\n",
       "      <th>min</th>\n",
       "      <td>1.000000</td>\n",
       "    </tr>\n",
       "    <tr>\n",
       "      <th>25%</th>\n",
       "      <td>1.000000</td>\n",
       "    </tr>\n",
       "    <tr>\n",
       "      <th>50%</th>\n",
       "      <td>3.000000</td>\n",
       "    </tr>\n",
       "    <tr>\n",
       "      <th>75%</th>\n",
       "      <td>9.000000</td>\n",
       "    </tr>\n",
       "    <tr>\n",
       "      <th>max</th>\n",
       "      <td>364.000000</td>\n",
       "    </tr>\n",
       "  </tbody>\n",
       "</table>\n",
       "</div>"
      ],
      "text/plain": [
       "       number_articles\n",
       "count      5148.000000\n",
       "mean          8.930847\n",
       "std          16.802267\n",
       "min           1.000000\n",
       "25%           1.000000\n",
       "50%           3.000000\n",
       "75%           9.000000\n",
       "max         364.000000"
      ]
     },
     "execution_count": 10,
     "metadata": {},
     "output_type": "execute_result"
    }
   ],
   "source": [
    "df_ = df.groupby('email').agg({'article_id':'size'})\\\n",
    ".rename(columns={'article_id':'number_articles'})\n",
    "df_.describe()"
   ]
  },
  {
   "cell_type": "code",
   "execution_count": 11,
   "metadata": {},
   "outputs": [
    {
     "data": {
      "image/png": "[encoded data removed]",
      "text/plain": [
       "<Figure size 432x288 with 1 Axes>"
      ]
     },
     "metadata": {
      "needs_background": "light"
     },
     "output_type": "display_data"
    }
   ],
   "source": [
    "plt.hist(df_.number_articles, bins=30, log=True)\n",
    "plt.xlabel('Number of articles')\n",
    "plt.ylabel('Count')\n",
    "plt.title('Number of articles viewed by user');"
   ]
  },
  {
   "cell_type": "code",
   "execution_count": 12,
   "metadata": {},
   "outputs": [
    {
     "name": "stdout",
     "output_type": "stream",
     "text": [
      "median val:  3.0\n",
      "max views by user:  364\n"
     ]
    }
   ],
   "source": [
    "# Fill in the median and maximum number of user_article interactios below\n",
    "\n",
    "median_val = df_.median()[0] # 50% of individuals interact with _ number of articles or fewer.\n",
    "max_views_by_user = df_.max()[0] # The maximum number of user-article interactions by any 1 user is _.\n",
    "print('median val: ',median_val)\n",
    "print('max views by user: ', max_views_by_user)"
   ]
  },
  {
   "cell_type": "markdown",
   "metadata": {},
   "source": [
    "`2.` Explore and remove duplicate articles from the **df_content** dataframe.  "
   ]
  },
  {
   "cell_type": "markdown",
   "metadata": {},
   "source": [
    "#### Initial shape of df_content"
   ]
  },
  {
   "cell_type": "code",
   "execution_count": 13,
   "metadata": {},
   "outputs": [
    {
     "data": {
      "text/plain": [
       "(1056, 5)"
      ]
     },
     "execution_count": 13,
     "metadata": {},
     "output_type": "execute_result"
    }
   ],
   "source": [
    "df_content.shape"
   ]
  },
  {
   "cell_type": "markdown",
   "metadata": {},
   "source": [
    "#### There are article_id duplicates"
   ]
  },
  {
   "cell_type": "code",
   "execution_count": 14,
   "metadata": {},
   "outputs": [
    {
     "data": {
      "text/plain": [
       "(1051, 5)"
      ]
     },
     "execution_count": 14,
     "metadata": {},
     "output_type": "execute_result"
    }
   ],
   "source": [
    "df_content.drop_duplicates(subset=['article_id']).shape"
   ]
  },
  {
   "cell_type": "markdown",
   "metadata": {},
   "source": [
    "#### All were dropped except for the first occurrence"
   ]
  },
  {
   "cell_type": "code",
   "execution_count": 15,
   "metadata": {},
   "outputs": [],
   "source": [
    "df_content.drop_duplicates(subset=['article_id'], inplace=True)"
   ]
  },
  {
   "cell_type": "markdown",
   "metadata": {},
   "source": [
    "`3.` Use the cells below to find:\n",
    "\n",
    "**a.** The number of unique articles that have an interaction with a user.  \n",
    "**b.** The number of unique articles in the dataset (whether they have any interactions or not).<br>\n",
    "**c.** The number of unique users in the dataset. (excluding null values) <br>\n",
    "**d.** The number of user-article interactions in the dataset."
   ]
  },
  {
   "cell_type": "markdown",
   "metadata": {},
   "source": [
    "#### Number of unique articles that have an interaction with a user: 714\n"
   ]
  },
  {
   "cell_type": "code",
   "execution_count": 16,
   "metadata": {},
   "outputs": [],
   "source": [
    "unique_articles = df.article_id.unique().shape[0]"
   ]
  },
  {
   "cell_type": "code",
   "execution_count": 17,
   "metadata": {},
   "outputs": [
    {
     "data": {
      "text/plain": [
       "(5149,)"
      ]
     },
     "execution_count": 17,
     "metadata": {},
     "output_type": "execute_result"
    }
   ],
   "source": [
    "df.email.unique().shape"
   ]
  },
  {
   "cell_type": "markdown",
   "metadata": {},
   "source": [
    "#### Number of unique articles in dataset: 1051"
   ]
  },
  {
   "cell_type": "code",
   "execution_count": 18,
   "metadata": {},
   "outputs": [
    {
     "data": {
      "text/plain": [
       "1051"
      ]
     },
     "execution_count": 18,
     "metadata": {},
     "output_type": "execute_result"
    }
   ],
   "source": [
    "total_articles = df_content.article_id.unique().shape[0]\n",
    "total_articles"
   ]
  },
  {
   "cell_type": "markdown",
   "metadata": {},
   "source": [
    "#### Number of unique users in dataset: 5148 and one null"
   ]
  },
  {
   "cell_type": "code",
   "execution_count": 19,
   "metadata": {},
   "outputs": [
    {
     "data": {
      "text/plain": [
       "5149"
      ]
     },
     "execution_count": 19,
     "metadata": {},
     "output_type": "execute_result"
    }
   ],
   "source": [
    "unique_users = df.email.unique().shape[0]\n",
    "unique_users"
   ]
  },
  {
   "cell_type": "markdown",
   "metadata": {},
   "source": [
    "#### Number of user-article interactions in dataset: 45993"
   ]
  },
  {
   "cell_type": "code",
   "execution_count": 20,
   "metadata": {},
   "outputs": [
    {
     "data": {
      "text/html": [
       "<div>\n",
       "<style scoped>\n",
       "    .dataframe tbody tr th:only-of-type {\n",
       "        vertical-align: middle;\n",
       "    }\n",
       "\n",
       "    .dataframe tbody tr th {\n",
       "        vertical-align: top;\n",
       "    }\n",
       "\n",
       "    .dataframe thead th {\n",
       "        text-align: right;\n",
       "    }\n",
       "</style>\n",
       "<table border=\"1\" class=\"dataframe\">\n",
       "  <thead>\n",
       "    <tr style=\"text-align: right;\">\n",
       "      <th></th>\n",
       "      <th>article_id</th>\n",
       "      <th>title</th>\n",
       "      <th>email</th>\n",
       "    </tr>\n",
       "  </thead>\n",
       "  <tbody>\n",
       "    <tr>\n",
       "      <th>0</th>\n",
       "      <td>1430.0</td>\n",
       "      <td>using pixiedust for fast, flexible, and easier...</td>\n",
       "      <td>ef5f11f77ba020cd36e1105a00ab868bbdbf7fe7</td>\n",
       "    </tr>\n",
       "    <tr>\n",
       "      <th>1</th>\n",
       "      <td>1314.0</td>\n",
       "      <td>healthcare python streaming application demo</td>\n",
       "      <td>083cbdfa93c8444beaa4c5f5e0f5f9198e4f9e0b</td>\n",
       "    </tr>\n",
       "    <tr>\n",
       "      <th>2</th>\n",
       "      <td>1429.0</td>\n",
       "      <td>use deep learning for image classification</td>\n",
       "      <td>b96a4f2e92d8572034b1e9b28f9ac673765cd074</td>\n",
       "    </tr>\n",
       "    <tr>\n",
       "      <th>3</th>\n",
       "      <td>1338.0</td>\n",
       "      <td>ml optimization using cognitive assistant</td>\n",
       "      <td>06485706b34a5c9bf2a0ecdac41daf7e7654ceb7</td>\n",
       "    </tr>\n",
       "    <tr>\n",
       "      <th>4</th>\n",
       "      <td>1276.0</td>\n",
       "      <td>deploy your python model as a restful api</td>\n",
       "      <td>f01220c46fc92c6e6b161b1849de11faacd7ccb2</td>\n",
       "    </tr>\n",
       "  </tbody>\n",
       "</table>\n",
       "</div>"
      ],
      "text/plain": [
       "   article_id                                              title                                     email\n",
       "0      1430.0  using pixiedust for fast, flexible, and easier...  ef5f11f77ba020cd36e1105a00ab868bbdbf7fe7\n",
       "1      1314.0       healthcare python streaming application demo  083cbdfa93c8444beaa4c5f5e0f5f9198e4f9e0b\n",
       "2      1429.0         use deep learning for image classification  b96a4f2e92d8572034b1e9b28f9ac673765cd074\n",
       "3      1338.0          ml optimization using cognitive assistant  06485706b34a5c9bf2a0ecdac41daf7e7654ceb7\n",
       "4      1276.0          deploy your python model as a restful api  f01220c46fc92c6e6b161b1849de11faacd7ccb2"
      ]
     },
     "execution_count": 20,
     "metadata": {},
     "output_type": "execute_result"
    }
   ],
   "source": [
    "df.head()"
   ]
  },
  {
   "cell_type": "code",
   "execution_count": 21,
   "metadata": {},
   "outputs": [
    {
     "name": "stdout",
     "output_type": "stream",
     "text": [
      "user-article interactions:  45993\n"
     ]
    }
   ],
   "source": [
    "user_article_interactions = df.shape[0]\n",
    "print('user-article interactions: ', user_article_interactions)"
   ]
  },
  {
   "cell_type": "markdown",
   "metadata": {},
   "source": [
    "`4.` Use the cells below to find the most viewed **article_id**, as well as how often it was viewed.  After talking to the company leaders, the `email_mapper` function was deemed a reasonable way to map users to ids.  There were a small number of null values, and it was found that all of these null values likely belonged to a single user (which is how they are stored using the function below)."
   ]
  },
  {
   "cell_type": "code",
   "execution_count": 22,
   "metadata": {},
   "outputs": [
    {
     "data": {
      "text/plain": [
       "True"
      ]
     },
     "execution_count": 22,
     "metadata": {},
     "output_type": "execute_result"
    }
   ],
   "source": [
    "df2.isnull().values.any()"
   ]
  },
  {
   "cell_type": "markdown",
   "metadata": {},
   "source": [
    "#### Top 5 most viewed articles were 1429, 1330, 1431, 1427, 1364"
   ]
  },
  {
   "cell_type": "code",
   "execution_count": 23,
   "metadata": {},
   "outputs": [
    {
     "data": {
      "text/html": [
       "<div>\n",
       "<style scoped>\n",
       "    .dataframe tbody tr th:only-of-type {\n",
       "        vertical-align: middle;\n",
       "    }\n",
       "\n",
       "    .dataframe tbody tr th {\n",
       "        vertical-align: top;\n",
       "    }\n",
       "\n",
       "    .dataframe thead th {\n",
       "        text-align: right;\n",
       "    }\n",
       "</style>\n",
       "<table border=\"1\" class=\"dataframe\">\n",
       "  <thead>\n",
       "    <tr style=\"text-align: right;\">\n",
       "      <th></th>\n",
       "      <th>article_id</th>\n",
       "      <th>title</th>\n",
       "      <th>email</th>\n",
       "    </tr>\n",
       "  </thead>\n",
       "  <tbody>\n",
       "    <tr>\n",
       "      <th>0</th>\n",
       "      <td>1430.0</td>\n",
       "      <td>using pixiedust for fast, flexible, and easier...</td>\n",
       "      <td>ef5f11f77ba020cd36e1105a00ab868bbdbf7fe7</td>\n",
       "    </tr>\n",
       "    <tr>\n",
       "      <th>1</th>\n",
       "      <td>1314.0</td>\n",
       "      <td>healthcare python streaming application demo</td>\n",
       "      <td>083cbdfa93c8444beaa4c5f5e0f5f9198e4f9e0b</td>\n",
       "    </tr>\n",
       "    <tr>\n",
       "      <th>2</th>\n",
       "      <td>1429.0</td>\n",
       "      <td>use deep learning for image classification</td>\n",
       "      <td>b96a4f2e92d8572034b1e9b28f9ac673765cd074</td>\n",
       "    </tr>\n",
       "    <tr>\n",
       "      <th>3</th>\n",
       "      <td>1338.0</td>\n",
       "      <td>ml optimization using cognitive assistant</td>\n",
       "      <td>06485706b34a5c9bf2a0ecdac41daf7e7654ceb7</td>\n",
       "    </tr>\n",
       "    <tr>\n",
       "      <th>4</th>\n",
       "      <td>1276.0</td>\n",
       "      <td>deploy your python model as a restful api</td>\n",
       "      <td>f01220c46fc92c6e6b161b1849de11faacd7ccb2</td>\n",
       "    </tr>\n",
       "  </tbody>\n",
       "</table>\n",
       "</div>"
      ],
      "text/plain": [
       "   article_id                                              title                                     email\n",
       "0      1430.0  using pixiedust for fast, flexible, and easier...  ef5f11f77ba020cd36e1105a00ab868bbdbf7fe7\n",
       "1      1314.0       healthcare python streaming application demo  083cbdfa93c8444beaa4c5f5e0f5f9198e4f9e0b\n",
       "2      1429.0         use deep learning for image classification  b96a4f2e92d8572034b1e9b28f9ac673765cd074\n",
       "3      1338.0          ml optimization using cognitive assistant  06485706b34a5c9bf2a0ecdac41daf7e7654ceb7\n",
       "4      1276.0          deploy your python model as a restful api  f01220c46fc92c6e6b161b1849de11faacd7ccb2"
      ]
     },
     "execution_count": 23,
     "metadata": {},
     "output_type": "execute_result"
    }
   ],
   "source": [
    "df.head()"
   ]
  },
  {
   "cell_type": "code",
   "execution_count": 24,
   "metadata": {},
   "outputs": [
    {
     "data": {
      "text/html": [
       "<div>\n",
       "<style scoped>\n",
       "    .dataframe tbody tr th:only-of-type {\n",
       "        vertical-align: middle;\n",
       "    }\n",
       "\n",
       "    .dataframe tbody tr th {\n",
       "        vertical-align: top;\n",
       "    }\n",
       "\n",
       "    .dataframe thead th {\n",
       "        text-align: right;\n",
       "    }\n",
       "</style>\n",
       "<table border=\"1\" class=\"dataframe\">\n",
       "  <thead>\n",
       "    <tr style=\"text-align: right;\">\n",
       "      <th></th>\n",
       "      <th>article_id</th>\n",
       "      <th>0</th>\n",
       "    </tr>\n",
       "  </thead>\n",
       "  <tbody>\n",
       "    <tr>\n",
       "      <th>0</th>\n",
       "      <td>1429.0</td>\n",
       "      <td>937</td>\n",
       "    </tr>\n",
       "    <tr>\n",
       "      <th>1</th>\n",
       "      <td>1330.0</td>\n",
       "      <td>927</td>\n",
       "    </tr>\n",
       "    <tr>\n",
       "      <th>2</th>\n",
       "      <td>1431.0</td>\n",
       "      <td>671</td>\n",
       "    </tr>\n",
       "    <tr>\n",
       "      <th>3</th>\n",
       "      <td>1427.0</td>\n",
       "      <td>643</td>\n",
       "    </tr>\n",
       "    <tr>\n",
       "      <th>4</th>\n",
       "      <td>1364.0</td>\n",
       "      <td>627</td>\n",
       "    </tr>\n",
       "  </tbody>\n",
       "</table>\n",
       "</div>"
      ],
      "text/plain": [
       "   article_id    0\n",
       "0      1429.0  937\n",
       "1      1330.0  927\n",
       "2      1431.0  671\n",
       "3      1427.0  643\n",
       "4      1364.0  627"
      ]
     },
     "execution_count": 24,
     "metadata": {},
     "output_type": "execute_result"
    }
   ],
   "source": [
    "df_articles = df.groupby('article_id').size().sort_values(ascending=False).reset_index()\n",
    "df_articles.head()"
   ]
  },
  {
   "cell_type": "code",
   "execution_count": 25,
   "metadata": {},
   "outputs": [
    {
     "data": {
      "text/plain": [
       "1429.0"
      ]
     },
     "execution_count": 25,
     "metadata": {},
     "output_type": "execute_result"
    }
   ],
   "source": [
    "df_articles.iloc[0,0]"
   ]
  },
  {
   "cell_type": "code",
   "execution_count": 26,
   "metadata": {},
   "outputs": [
    {
     "name": "stdout",
     "output_type": "stream",
     "text": [
      "most_viewed_article_id:  1429.0\n",
      "max_vies:  937\n"
     ]
    }
   ],
   "source": [
    "most_viewed_article_id = str(df_articles.iloc[0,0]) # The most viewed article in the dataset as a string with one value following the decimal \n",
    "max_views = df_articles.iloc[0,1] # The most viewed article in the dataset was viewed how many times?\n",
    "print('most_viewed_article_id: ', most_viewed_article_id)\n",
    "print('max_vies: ', max_views)"
   ]
  },
  {
   "cell_type": "code",
   "execution_count": 27,
   "metadata": {},
   "outputs": [
    {
     "data": {
      "text/html": [
       "<div>\n",
       "<style scoped>\n",
       "    .dataframe tbody tr th:only-of-type {\n",
       "        vertical-align: middle;\n",
       "    }\n",
       "\n",
       "    .dataframe tbody tr th {\n",
       "        vertical-align: top;\n",
       "    }\n",
       "\n",
       "    .dataframe thead th {\n",
       "        text-align: right;\n",
       "    }\n",
       "</style>\n",
       "<table border=\"1\" class=\"dataframe\">\n",
       "  <thead>\n",
       "    <tr style=\"text-align: right;\">\n",
       "      <th></th>\n",
       "      <th>article_id</th>\n",
       "      <th>title</th>\n",
       "      <th>email</th>\n",
       "      <th>user_id</th>\n",
       "    </tr>\n",
       "  </thead>\n",
       "  <tbody>\n",
       "    <tr>\n",
       "      <th>0</th>\n",
       "      <td>1430.0</td>\n",
       "      <td>using pixiedust for fast, flexible, and easier...</td>\n",
       "      <td>ef5f11f77ba020cd36e1105a00ab868bbdbf7fe7</td>\n",
       "      <td>1</td>\n",
       "    </tr>\n",
       "    <tr>\n",
       "      <th>1</th>\n",
       "      <td>1314.0</td>\n",
       "      <td>healthcare python streaming application demo</td>\n",
       "      <td>083cbdfa93c8444beaa4c5f5e0f5f9198e4f9e0b</td>\n",
       "      <td>2</td>\n",
       "    </tr>\n",
       "    <tr>\n",
       "      <th>2</th>\n",
       "      <td>1429.0</td>\n",
       "      <td>use deep learning for image classification</td>\n",
       "      <td>b96a4f2e92d8572034b1e9b28f9ac673765cd074</td>\n",
       "      <td>3</td>\n",
       "    </tr>\n",
       "    <tr>\n",
       "      <th>3</th>\n",
       "      <td>1338.0</td>\n",
       "      <td>ml optimization using cognitive assistant</td>\n",
       "      <td>06485706b34a5c9bf2a0ecdac41daf7e7654ceb7</td>\n",
       "      <td>4</td>\n",
       "    </tr>\n",
       "    <tr>\n",
       "      <th>4</th>\n",
       "      <td>1276.0</td>\n",
       "      <td>deploy your python model as a restful api</td>\n",
       "      <td>f01220c46fc92c6e6b161b1849de11faacd7ccb2</td>\n",
       "      <td>5</td>\n",
       "    </tr>\n",
       "  </tbody>\n",
       "</table>\n",
       "</div>"
      ],
      "text/plain": [
       "   article_id                                              title                                     email  user_id\n",
       "0      1430.0  using pixiedust for fast, flexible, and easier...  ef5f11f77ba020cd36e1105a00ab868bbdbf7fe7        1\n",
       "1      1314.0       healthcare python streaming application demo  083cbdfa93c8444beaa4c5f5e0f5f9198e4f9e0b        2\n",
       "2      1429.0         use deep learning for image classification  b96a4f2e92d8572034b1e9b28f9ac673765cd074        3\n",
       "3      1338.0          ml optimization using cognitive assistant  06485706b34a5c9bf2a0ecdac41daf7e7654ceb7        4\n",
       "4      1276.0          deploy your python model as a restful api  f01220c46fc92c6e6b161b1849de11faacd7ccb2        5"
      ]
     },
     "execution_count": 27,
     "metadata": {},
     "output_type": "execute_result"
    }
   ],
   "source": [
    "def email_mapper():\n",
    "    coded_dict = dict()\n",
    "    cter = 1\n",
    "    email_encoded = []\n",
    "    \n",
    "    for val in df['email']:\n",
    "        if val not in coded_dict:\n",
    "            coded_dict[val] = cter\n",
    "            cter+=1\n",
    "        \n",
    "        email_encoded.append(coded_dict[val])\n",
    "    return email_encoded\n",
    "\n",
    "\n",
    "df_tmp = df.copy()\n",
    "\n",
    "email_encoded = email_mapper()\n",
    "#del df_tmp['email']\n",
    "df_tmp['user_id'] = email_encoded\n",
    "\n",
    "# show header\n",
    "df_tmp.head()"
   ]
  },
  {
   "cell_type": "code",
   "execution_count": 28,
   "metadata": {},
   "outputs": [
    {
     "data": {
      "text/plain": [
       "user_id\n",
       "66      36\n",
       "646     36\n",
       "712     36\n",
       "820     36\n",
       "3058    36\n",
       "3960    36\n",
       "4130    36\n",
       "4241    36\n",
       "dtype: int64"
      ]
     },
     "execution_count": 28,
     "metadata": {},
     "output_type": "execute_result"
    }
   ],
   "source": [
    "tmp_grouped = df_tmp.groupby('user_id').size()\n",
    "tmp_grouped[tmp_grouped==36]"
   ]
  },
  {
   "cell_type": "code",
   "execution_count": 29,
   "metadata": {},
   "outputs": [],
   "source": [
    "def my_email_mapper(df):\n",
    "    user_dict = {email:(i+1) for i, email in enumerate(df.email.unique())}\n",
    "    df['user_id'] = df.email.apply(lambda x: user_dict[x])\n",
    "    \n",
    "    return df "
   ]
  },
  {
   "cell_type": "code",
   "execution_count": 30,
   "metadata": {},
   "outputs": [],
   "source": [
    "df2 = df.copy()\n",
    "df2 = my_email_mapper(df2)\n",
    "df2 = df2.groupby('user_id').apply(lambda x: x.sort_values('article_id')).drop_duplicates()\n",
    "df2 = df2.droplevel(0)"
   ]
  },
  {
   "cell_type": "code",
   "execution_count": 31,
   "metadata": {},
   "outputs": [
    {
     "data": {
      "text/html": [
       "<div>\n",
       "<style scoped>\n",
       "    .dataframe tbody tr th:only-of-type {\n",
       "        vertical-align: middle;\n",
       "    }\n",
       "\n",
       "    .dataframe tbody tr th {\n",
       "        vertical-align: top;\n",
       "    }\n",
       "\n",
       "    .dataframe thead th {\n",
       "        text-align: right;\n",
       "    }\n",
       "</style>\n",
       "<table border=\"1\" class=\"dataframe\">\n",
       "  <thead>\n",
       "    <tr style=\"text-align: right;\">\n",
       "      <th></th>\n",
       "      <th>article_id</th>\n",
       "      <th>title</th>\n",
       "      <th>email</th>\n",
       "      <th>user_id</th>\n",
       "    </tr>\n",
       "  </thead>\n",
       "  <tbody>\n",
       "    <tr>\n",
       "      <th>29759</th>\n",
       "      <td>20.0</td>\n",
       "      <td>working interactively with rstudio and noteboo...</td>\n",
       "      <td>NaN</td>\n",
       "      <td>2917</td>\n",
       "    </tr>\n",
       "    <tr>\n",
       "      <th>29761</th>\n",
       "      <td>62.0</td>\n",
       "      <td>data visualization: the importance of excludin...</td>\n",
       "      <td>NaN</td>\n",
       "      <td>2917</td>\n",
       "    </tr>\n",
       "    <tr>\n",
       "      <th>35284</th>\n",
       "      <td>162.0</td>\n",
       "      <td>an introduction to stock market data analysis ...</td>\n",
       "      <td>NaN</td>\n",
       "      <td>2917</td>\n",
       "    </tr>\n",
       "    <tr>\n",
       "      <th>35264</th>\n",
       "      <td>224.0</td>\n",
       "      <td>using apply, sapply, lapply in r</td>\n",
       "      <td>NaN</td>\n",
       "      <td>2917</td>\n",
       "    </tr>\n",
       "    <tr>\n",
       "      <th>35278</th>\n",
       "      <td>268.0</td>\n",
       "      <td>sector correlations shiny app</td>\n",
       "      <td>NaN</td>\n",
       "      <td>2917</td>\n",
       "    </tr>\n",
       "    <tr>\n",
       "      <th>35281</th>\n",
       "      <td>415.0</td>\n",
       "      <td>using machine learning to predict value of hom...</td>\n",
       "      <td>NaN</td>\n",
       "      <td>2917</td>\n",
       "    </tr>\n",
       "    <tr>\n",
       "      <th>42749</th>\n",
       "      <td>647.0</td>\n",
       "      <td>getting started with apache mahout</td>\n",
       "      <td>NaN</td>\n",
       "      <td>2917</td>\n",
       "    </tr>\n",
       "    <tr>\n",
       "      <th>35282</th>\n",
       "      <td>846.0</td>\n",
       "      <td>pearson correlation aggregation on sparksql</td>\n",
       "      <td>NaN</td>\n",
       "      <td>2917</td>\n",
       "    </tr>\n",
       "    <tr>\n",
       "      <th>35276</th>\n",
       "      <td>961.0</td>\n",
       "      <td>beyond parallelize and collect</td>\n",
       "      <td>NaN</td>\n",
       "      <td>2917</td>\n",
       "    </tr>\n",
       "    <tr>\n",
       "      <th>42750</th>\n",
       "      <td>965.0</td>\n",
       "      <td>data visualization playbook: revisiting the ba...</td>\n",
       "      <td>NaN</td>\n",
       "      <td>2917</td>\n",
       "    </tr>\n",
       "    <tr>\n",
       "      <th>25131</th>\n",
       "      <td>1016.0</td>\n",
       "      <td>why you should master r (even if it might even...</td>\n",
       "      <td>NaN</td>\n",
       "      <td>2917</td>\n",
       "    </tr>\n",
       "    <tr>\n",
       "      <th>29760</th>\n",
       "      <td>1174.0</td>\n",
       "      <td>breast cancer wisconsin (diagnostic) data set</td>\n",
       "      <td>NaN</td>\n",
       "      <td>2917</td>\n",
       "    </tr>\n",
       "    <tr>\n",
       "      <th>29758</th>\n",
       "      <td>1393.0</td>\n",
       "      <td>the nurse assignment problem</td>\n",
       "      <td>NaN</td>\n",
       "      <td>2917</td>\n",
       "    </tr>\n",
       "  </tbody>\n",
       "</table>\n",
       "</div>"
      ],
      "text/plain": [
       "       article_id                                              title email  user_id\n",
       "29759        20.0  working interactively with rstudio and noteboo...   NaN     2917\n",
       "29761        62.0  data visualization: the importance of excludin...   NaN     2917\n",
       "35284       162.0  an introduction to stock market data analysis ...   NaN     2917\n",
       "35264       224.0                   using apply, sapply, lapply in r   NaN     2917\n",
       "35278       268.0                      sector correlations shiny app   NaN     2917\n",
       "35281       415.0  using machine learning to predict value of hom...   NaN     2917\n",
       "42749       647.0                 getting started with apache mahout   NaN     2917\n",
       "35282       846.0        pearson correlation aggregation on sparksql   NaN     2917\n",
       "35276       961.0                     beyond parallelize and collect   NaN     2917\n",
       "42750       965.0  data visualization playbook: revisiting the ba...   NaN     2917\n",
       "25131      1016.0  why you should master r (even if it might even...   NaN     2917\n",
       "29760      1174.0      breast cancer wisconsin (diagnostic) data set   NaN     2917\n",
       "29758      1393.0                       the nurse assignment problem   NaN     2917"
      ]
     },
     "execution_count": 31,
     "metadata": {},
     "output_type": "execute_result"
    }
   ],
   "source": [
    "df2[df2.user_id==2917]"
   ]
  },
  {
   "cell_type": "code",
   "execution_count": 32,
   "metadata": {},
   "outputs": [
    {
     "data": {
      "text/plain": [
       "(714,)"
      ]
     },
     "execution_count": 32,
     "metadata": {},
     "output_type": "execute_result"
    }
   ],
   "source": [
    "df2.article_id.unique().shape"
   ]
  },
  {
   "cell_type": "code",
   "execution_count": 33,
   "metadata": {},
   "outputs": [
    {
     "data": {
      "text/plain": [
       "714"
      ]
     },
     "execution_count": 33,
     "metadata": {},
     "output_type": "execute_result"
    }
   ],
   "source": [
    "df_merge = df2.merge(df_content, left_on='article_id', right_on='article_id', how='left')\n",
    "df_merge.head()\n",
    "\n",
    "df_merge.article_id.unique().shape[0]"
   ]
  },
  {
   "cell_type": "code",
   "execution_count": 34,
   "metadata": {},
   "outputs": [],
   "source": [
    "#df_merge.groupby('user_id').size().head()\n",
    "df.dropna(inplace=True)"
   ]
  },
  {
   "cell_type": "code",
   "execution_count": 35,
   "metadata": {},
   "outputs": [
    {
     "data": {
      "text/plain": [
       "5148"
      ]
     },
     "execution_count": 35,
     "metadata": {},
     "output_type": "execute_result"
    }
   ],
   "source": [
    "unique_users = df.email.unique().shape[0]\n",
    "unique_users"
   ]
  },
  {
   "cell_type": "code",
   "execution_count": 36,
   "metadata": {},
   "outputs": [
    {
     "name": "stdout",
     "output_type": "stream",
     "text": [
      "It looks like you have everything right here! Nice job!\n"
     ]
    }
   ],
   "source": [
    "## If you stored all your results in the variable names above, \n",
    "## you shouldn't need to change anything in this cell\n",
    "\n",
    "sol_1_dict = {\n",
    "    '`50% of individuals have _____ or fewer interactions.`': median_val,\n",
    "    '`The total number of user-article interactions in the dataset is ______.`': user_article_interactions,\n",
    "    '`The maximum number of user-article interactions by any 1 user is ______.`': max_views_by_user,\n",
    "    '`The most viewed article in the dataset was viewed _____ times.`': max_views,\n",
    "    '`The article_id of the most viewed article is ______.`': most_viewed_article_id,\n",
    "    '`The number of unique articles that have at least 1 rating ______.`': unique_articles,\n",
    "    '`The number of unique users in the dataset is ______`': unique_users,\n",
    "    '`The number of unique articles on the IBM platform`': total_articles\n",
    "}\n",
    "\n",
    "# Test your dictionary against the solution\n",
    "t.sol_1_test(sol_1_dict)"
   ]
  },
  {
   "cell_type": "markdown",
   "metadata": {},
   "source": [
    "### <a class=\"anchor\" id=\"Rank\">Part II: Rank-Based Recommendations</a>\n",
    "\n",
    "Unlike in the earlier lessons, we don't actually have ratings for whether a user liked an article or not.  We only know that a user has interacted with an article.  In these cases, the popularity of an article can really only be based on how often an article was interacted with.\n",
    "\n",
    "`1.` Fill in the function below to return the **n** top articles ordered with most interactions as the top. Test your function using the tests below."
   ]
  },
  {
   "cell_type": "code",
   "execution_count": 37,
   "metadata": {},
   "outputs": [],
   "source": [
    "def get_top_articles(n, df=df):\n",
    "    '''\n",
    "    INPUT:\n",
    "    n - (int) the number of top articles to return\n",
    "    df - (pandas dataframe) df as defined at the top of the notebook \n",
    "    \n",
    "    OUTPUT:\n",
    "    top_articles - (list) A list of the top 'n' article titles \n",
    "    \n",
    "    '''\n",
    "    list_top = df.\\\n",
    "    groupby('article_id').\\\n",
    "    agg({'email':'size'}).\\\n",
    "    sort_values('email', ascending=False).\\\n",
    "    reset_index().iloc[0:n,0].values\n",
    "\n",
    "    return df[df.article_id.isin(list_top)]['title'].values"
   ]
  },
  {
   "cell_type": "code",
   "execution_count": 38,
   "metadata": {},
   "outputs": [
    {
     "name": "stdout",
     "output_type": "stream",
     "text": [
      "['healthcare python streaming application demo'\n",
      " 'use deep learning for image classification'\n",
      " 'use deep learning for image classification' ...\n",
      " 'insights from new york car accident reports'\n",
      " 'visualize car data with brunel'\n",
      " 'insights from new york car accident reports']\n"
     ]
    }
   ],
   "source": [
    "print(get_top_articles(10, df))"
   ]
  },
  {
   "cell_type": "code",
   "execution_count": 39,
   "metadata": {},
   "outputs": [],
   "source": [
    "def get_top_article_ids(n, df=df):\n",
    "    '''\n",
    "    INPUT:\n",
    "    n - (int) the number of top articles to return\n",
    "    df - (pandas dataframe) df as defined at the top of the notebook \n",
    "    \n",
    "    OUTPUT:\n",
    "    top_articles - (list) A list of the top 'n' article titles \n",
    "    \n",
    "    '''\n",
    "    # Your code here\n",
    "    return df.\\\n",
    "        groupby('article_id').\\\n",
    "        agg({'email':'size'}).\\\n",
    "        sort_values('email', ascending=False).reset_index().iloc[0:n,0].values"
   ]
  },
  {
   "cell_type": "code",
   "execution_count": 40,
   "metadata": {},
   "outputs": [
    {
     "name": "stdout",
     "output_type": "stream",
     "text": [
      "[1429. 1330. 1431. 1427. 1364. 1314. 1293. 1170. 1162. 1304.]\n"
     ]
    }
   ],
   "source": [
    "print(get_top_article_ids(10))"
   ]
  },
  {
   "cell_type": "code",
   "execution_count": 41,
   "metadata": {},
   "outputs": [
    {
     "name": "stdout",
     "output_type": "stream",
     "text": [
      "Your top_5 looks like the solution list! Nice job.\n",
      "Your top_10 looks like the solution list! Nice job.\n",
      "Your top_20 looks like the solution list! Nice job.\n"
     ]
    }
   ],
   "source": [
    "# Test your function by returning the top 5, 10, and 20 articles\n",
    "top_5 = get_top_articles(5)\n",
    "top_10 = get_top_articles(10)\n",
    "top_20 = get_top_articles(20)\n",
    "\n",
    "# Test each of your three lists from above\n",
    "t.sol_2_test(get_top_articles)"
   ]
  },
  {
   "cell_type": "markdown",
   "metadata": {},
   "source": [
    "### <a class=\"anchor\" id=\"User-User\">Part III: User-User Based Collaborative Filtering</a>\n",
    "\n",
    "\n",
    "`1.` Use the function below to reformat the **df** dataframe to be shaped with users as the rows and articles as the columns.  \n",
    "\n",
    "* Each **user** should only appear in each **row** once.\n",
    "\n",
    "\n",
    "* Each **article** should only show up in one **column**.  \n",
    "\n",
    "\n",
    "* **If a user has interacted with an article, then place a 1 where the user-row meets for that article-column**.  It does not matter how many times a user has interacted with the article, all entries where a user has interacted with an article should be a 1.  \n",
    "\n",
    "\n",
    "* **If a user has not interacted with an item, then place a zero where the user-row meets for that article-column**. \n",
    "\n",
    "Use the tests to make sure the basic structure of your matrix matches what is expected by the solution."
   ]
  },
  {
   "cell_type": "code",
   "execution_count": 42,
   "metadata": {},
   "outputs": [],
   "source": [
    "# create the user-article matrix with 1's and 0's\n",
    "\n",
    "def create_user_item_matrix(df):\n",
    "    '''\n",
    "    INPUT:\n",
    "    df - pandas dataframe with article_id, title, user_id columns\n",
    "    \n",
    "    OUTPUT:\n",
    "    user_item - user item matrix \n",
    "    \n",
    "    Description:\n",
    "    Return a matrix with user ids as rows and article ids on the columns with 1 values where a user interacted with \n",
    "    an article and a 0 otherwise\n",
    "    '''\n",
    "    # Fill in the function here\n",
    "    \n",
    "    return pd.crosstab(df['user_id'], df['article_id'])"
   ]
  },
  {
   "cell_type": "code",
   "execution_count": 43,
   "metadata": {},
   "outputs": [],
   "source": [
    "user_item = create_user_item_matrix(df2)"
   ]
  },
  {
   "cell_type": "code",
   "execution_count": 44,
   "metadata": {},
   "outputs": [
    {
     "data": {
      "text/html": [
       "<div>\n",
       "<style scoped>\n",
       "    .dataframe tbody tr th:only-of-type {\n",
       "        vertical-align: middle;\n",
       "    }\n",
       "\n",
       "    .dataframe tbody tr th {\n",
       "        vertical-align: top;\n",
       "    }\n",
       "\n",
       "    .dataframe thead th {\n",
       "        text-align: right;\n",
       "    }\n",
       "</style>\n",
       "<table border=\"1\" class=\"dataframe\">\n",
       "  <thead>\n",
       "    <tr style=\"text-align: right;\">\n",
       "      <th></th>\n",
       "      <th>article_id</th>\n",
       "      <th>title</th>\n",
       "      <th>email</th>\n",
       "      <th>user_id</th>\n",
       "    </tr>\n",
       "  </thead>\n",
       "  <tbody>\n",
       "    <tr>\n",
       "      <th>16</th>\n",
       "      <td>12.0</td>\n",
       "      <td>timeseries data analysis of iot events by usin...</td>\n",
       "      <td>fc4e4290f2f320d80711bbe019618cc5be8815fa</td>\n",
       "      <td>11</td>\n",
       "    </tr>\n",
       "    <tr>\n",
       "      <th>2223</th>\n",
       "      <td>29.0</td>\n",
       "      <td>experience iot with coursera</td>\n",
       "      <td>fc4e4290f2f320d80711bbe019618cc5be8815fa</td>\n",
       "      <td>11</td>\n",
       "    </tr>\n",
       "    <tr>\n",
       "      <th>1474</th>\n",
       "      <td>33.0</td>\n",
       "      <td>using brunel in ipython/jupyter notebooks</td>\n",
       "      <td>fc4e4290f2f320d80711bbe019618cc5be8815fa</td>\n",
       "      <td>11</td>\n",
       "    </tr>\n",
       "    <tr>\n",
       "      <th>9556</th>\n",
       "      <td>43.0</td>\n",
       "      <td>deep learning with tensorflow course by big da...</td>\n",
       "      <td>fc4e4290f2f320d80711bbe019618cc5be8815fa</td>\n",
       "      <td>11</td>\n",
       "    </tr>\n",
       "    <tr>\n",
       "      <th>5762</th>\n",
       "      <td>74.0</td>\n",
       "      <td>the 3 kinds of context: machine learning and t...</td>\n",
       "      <td>fc4e4290f2f320d80711bbe019618cc5be8815fa</td>\n",
       "      <td>11</td>\n",
       "    </tr>\n",
       "    <tr>\n",
       "      <th>509</th>\n",
       "      <td>164.0</td>\n",
       "      <td>learn tensorflow and deep learning together an...</td>\n",
       "      <td>fc4e4290f2f320d80711bbe019618cc5be8815fa</td>\n",
       "      <td>11</td>\n",
       "    </tr>\n",
       "    <tr>\n",
       "      <th>24029</th>\n",
       "      <td>409.0</td>\n",
       "      <td>using github for project control in dsx</td>\n",
       "      <td>fc4e4290f2f320d80711bbe019618cc5be8815fa</td>\n",
       "      <td>11</td>\n",
       "    </tr>\n",
       "    <tr>\n",
       "      <th>846</th>\n",
       "      <td>460.0</td>\n",
       "      <td>web picks - dataminingapps</td>\n",
       "      <td>fc4e4290f2f320d80711bbe019618cc5be8815fa</td>\n",
       "      <td>11</td>\n",
       "    </tr>\n",
       "    <tr>\n",
       "      <th>11289</th>\n",
       "      <td>491.0</td>\n",
       "      <td>this week in data science (may 23, 2017)</td>\n",
       "      <td>fc4e4290f2f320d80711bbe019618cc5be8815fa</td>\n",
       "      <td>11</td>\n",
       "    </tr>\n",
       "    <tr>\n",
       "      <th>1621</th>\n",
       "      <td>495.0</td>\n",
       "      <td>top 10 machine learning algorithms for beginners</td>\n",
       "      <td>fc4e4290f2f320d80711bbe019618cc5be8815fa</td>\n",
       "      <td>11</td>\n",
       "    </tr>\n",
       "    <tr>\n",
       "      <th>346</th>\n",
       "      <td>645.0</td>\n",
       "      <td>how to perform a logistic regression in r</td>\n",
       "      <td>fc4e4290f2f320d80711bbe019618cc5be8815fa</td>\n",
       "      <td>11</td>\n",
       "    </tr>\n",
       "    <tr>\n",
       "      <th>1608</th>\n",
       "      <td>720.0</td>\n",
       "      <td>data visualization playbook: telling the data ...</td>\n",
       "      <td>fc4e4290f2f320d80711bbe019618cc5be8815fa</td>\n",
       "      <td>11</td>\n",
       "    </tr>\n",
       "    <tr>\n",
       "      <th>15504</th>\n",
       "      <td>812.0</td>\n",
       "      <td>machine learning exercises in python, part 1</td>\n",
       "      <td>fc4e4290f2f320d80711bbe019618cc5be8815fa</td>\n",
       "      <td>11</td>\n",
       "    </tr>\n",
       "    <tr>\n",
       "      <th>1489</th>\n",
       "      <td>957.0</td>\n",
       "      <td>brunel interactive visualizations in jupyter n...</td>\n",
       "      <td>fc4e4290f2f320d80711bbe019618cc5be8815fa</td>\n",
       "      <td>11</td>\n",
       "    </tr>\n",
       "    <tr>\n",
       "      <th>17084</th>\n",
       "      <td>958.0</td>\n",
       "      <td>using dsx notebooks to analyze github data</td>\n",
       "      <td>fc4e4290f2f320d80711bbe019618cc5be8815fa</td>\n",
       "      <td>11</td>\n",
       "    </tr>\n",
       "    <tr>\n",
       "      <th>9257</th>\n",
       "      <td>968.0</td>\n",
       "      <td>shiny 0.13.0</td>\n",
       "      <td>fc4e4290f2f320d80711bbe019618cc5be8815fa</td>\n",
       "      <td>11</td>\n",
       "    </tr>\n",
       "    <tr>\n",
       "      <th>100</th>\n",
       "      <td>977.0</td>\n",
       "      <td>apache spark as the new engine of genomics</td>\n",
       "      <td>fc4e4290f2f320d80711bbe019618cc5be8815fa</td>\n",
       "      <td>11</td>\n",
       "    </tr>\n",
       "    <tr>\n",
       "      <th>10</th>\n",
       "      <td>993.0</td>\n",
       "      <td>configuring the apache spark sql context</td>\n",
       "      <td>fc4e4290f2f320d80711bbe019618cc5be8815fa</td>\n",
       "      <td>11</td>\n",
       "    </tr>\n",
       "    <tr>\n",
       "      <th>6500</th>\n",
       "      <td>1025.0</td>\n",
       "      <td>data tidying in data science experience</td>\n",
       "      <td>fc4e4290f2f320d80711bbe019618cc5be8815fa</td>\n",
       "      <td>11</td>\n",
       "    </tr>\n",
       "    <tr>\n",
       "      <th>17082</th>\n",
       "      <td>1271.0</td>\n",
       "      <td>customer demographics and sales</td>\n",
       "      <td>fc4e4290f2f320d80711bbe019618cc5be8815fa</td>\n",
       "      <td>11</td>\n",
       "    </tr>\n",
       "    <tr>\n",
       "      <th>6773</th>\n",
       "      <td>1276.0</td>\n",
       "      <td>deploy your python model as a restful api</td>\n",
       "      <td>fc4e4290f2f320d80711bbe019618cc5be8815fa</td>\n",
       "      <td>11</td>\n",
       "    </tr>\n",
       "    <tr>\n",
       "      <th>1535</th>\n",
       "      <td>1314.0</td>\n",
       "      <td>healthcare python streaming application demo</td>\n",
       "      <td>fc4e4290f2f320d80711bbe019618cc5be8815fa</td>\n",
       "      <td>11</td>\n",
       "    </tr>\n",
       "    <tr>\n",
       "      <th>1618</th>\n",
       "      <td>1330.0</td>\n",
       "      <td>insights from new york car accident reports</td>\n",
       "      <td>fc4e4290f2f320d80711bbe019618cc5be8815fa</td>\n",
       "      <td>11</td>\n",
       "    </tr>\n",
       "    <tr>\n",
       "      <th>824</th>\n",
       "      <td>1358.0</td>\n",
       "      <td>part-time employment rate, worldwide, by count...</td>\n",
       "      <td>fc4e4290f2f320d80711bbe019618cc5be8815fa</td>\n",
       "      <td>11</td>\n",
       "    </tr>\n",
       "    <tr>\n",
       "      <th>1685</th>\n",
       "      <td>1360.0</td>\n",
       "      <td>pixieapp for outlier detection</td>\n",
       "      <td>fc4e4290f2f320d80711bbe019618cc5be8815fa</td>\n",
       "      <td>11</td>\n",
       "    </tr>\n",
       "    <tr>\n",
       "      <th>7993</th>\n",
       "      <td>1364.0</td>\n",
       "      <td>predicting churn with the spss random tree alg...</td>\n",
       "      <td>fc4e4290f2f320d80711bbe019618cc5be8815fa</td>\n",
       "      <td>11</td>\n",
       "    </tr>\n",
       "    <tr>\n",
       "      <th>1625</th>\n",
       "      <td>1427.0</td>\n",
       "      <td>use xgboost, scikit-learn &amp; ibm watson machine...</td>\n",
       "      <td>fc4e4290f2f320d80711bbe019618cc5be8815fa</td>\n",
       "      <td>11</td>\n",
       "    </tr>\n",
       "    <tr>\n",
       "      <th>7663</th>\n",
       "      <td>1429.0</td>\n",
       "      <td>use deep learning for image classification</td>\n",
       "      <td>fc4e4290f2f320d80711bbe019618cc5be8815fa</td>\n",
       "      <td>11</td>\n",
       "    </tr>\n",
       "    <tr>\n",
       "      <th>5893</th>\n",
       "      <td>1431.0</td>\n",
       "      <td>visualize car data with brunel</td>\n",
       "      <td>fc4e4290f2f320d80711bbe019618cc5be8815fa</td>\n",
       "      <td>11</td>\n",
       "    </tr>\n",
       "    <tr>\n",
       "      <th>1441</th>\n",
       "      <td>1432.0</td>\n",
       "      <td>visualize data with the matplotlib library</td>\n",
       "      <td>fc4e4290f2f320d80711bbe019618cc5be8815fa</td>\n",
       "      <td>11</td>\n",
       "    </tr>\n",
       "  </tbody>\n",
       "</table>\n",
       "</div>"
      ],
      "text/plain": [
       "       article_id                                              title                                     email  user_id\n",
       "16           12.0  timeseries data analysis of iot events by usin...  fc4e4290f2f320d80711bbe019618cc5be8815fa       11\n",
       "2223         29.0                       experience iot with coursera  fc4e4290f2f320d80711bbe019618cc5be8815fa       11\n",
       "1474         33.0          using brunel in ipython/jupyter notebooks  fc4e4290f2f320d80711bbe019618cc5be8815fa       11\n",
       "9556         43.0  deep learning with tensorflow course by big da...  fc4e4290f2f320d80711bbe019618cc5be8815fa       11\n",
       "5762         74.0  the 3 kinds of context: machine learning and t...  fc4e4290f2f320d80711bbe019618cc5be8815fa       11\n",
       "509         164.0  learn tensorflow and deep learning together an...  fc4e4290f2f320d80711bbe019618cc5be8815fa       11\n",
       "24029       409.0            using github for project control in dsx  fc4e4290f2f320d80711bbe019618cc5be8815fa       11\n",
       "846         460.0                         web picks - dataminingapps  fc4e4290f2f320d80711bbe019618cc5be8815fa       11\n",
       "11289       491.0           this week in data science (may 23, 2017)  fc4e4290f2f320d80711bbe019618cc5be8815fa       11\n",
       "1621        495.0   top 10 machine learning algorithms for beginners  fc4e4290f2f320d80711bbe019618cc5be8815fa       11\n",
       "346         645.0          how to perform a logistic regression in r  fc4e4290f2f320d80711bbe019618cc5be8815fa       11\n",
       "1608        720.0  data visualization playbook: telling the data ...  fc4e4290f2f320d80711bbe019618cc5be8815fa       11\n",
       "15504       812.0       machine learning exercises in python, part 1  fc4e4290f2f320d80711bbe019618cc5be8815fa       11\n",
       "1489        957.0  brunel interactive visualizations in jupyter n...  fc4e4290f2f320d80711bbe019618cc5be8815fa       11\n",
       "17084       958.0         using dsx notebooks to analyze github data  fc4e4290f2f320d80711bbe019618cc5be8815fa       11\n",
       "9257        968.0                                       shiny 0.13.0  fc4e4290f2f320d80711bbe019618cc5be8815fa       11\n",
       "100         977.0         apache spark as the new engine of genomics  fc4e4290f2f320d80711bbe019618cc5be8815fa       11\n",
       "10          993.0           configuring the apache spark sql context  fc4e4290f2f320d80711bbe019618cc5be8815fa       11\n",
       "6500       1025.0            data tidying in data science experience  fc4e4290f2f320d80711bbe019618cc5be8815fa       11\n",
       "17082      1271.0                    customer demographics and sales  fc4e4290f2f320d80711bbe019618cc5be8815fa       11\n",
       "6773       1276.0          deploy your python model as a restful api  fc4e4290f2f320d80711bbe019618cc5be8815fa       11\n",
       "1535       1314.0       healthcare python streaming application demo  fc4e4290f2f320d80711bbe019618cc5be8815fa       11\n",
       "1618       1330.0        insights from new york car accident reports  fc4e4290f2f320d80711bbe019618cc5be8815fa       11\n",
       "824        1358.0  part-time employment rate, worldwide, by count...  fc4e4290f2f320d80711bbe019618cc5be8815fa       11\n",
       "1685       1360.0                     pixieapp for outlier detection  fc4e4290f2f320d80711bbe019618cc5be8815fa       11\n",
       "7993       1364.0  predicting churn with the spss random tree alg...  fc4e4290f2f320d80711bbe019618cc5be8815fa       11\n",
       "1625       1427.0  use xgboost, scikit-learn & ibm watson machine...  fc4e4290f2f320d80711bbe019618cc5be8815fa       11\n",
       "7663       1429.0         use deep learning for image classification  fc4e4290f2f320d80711bbe019618cc5be8815fa       11\n",
       "5893       1431.0                     visualize car data with brunel  fc4e4290f2f320d80711bbe019618cc5be8815fa       11\n",
       "1441       1432.0         visualize data with the matplotlib library  fc4e4290f2f320d80711bbe019618cc5be8815fa       11"
      ]
     },
     "execution_count": 44,
     "metadata": {},
     "output_type": "execute_result"
    }
   ],
   "source": [
    "df2.groupby('user_id').apply(lambda x: x.sort_values('article_id')).xs(11)"
   ]
  },
  {
   "cell_type": "code",
   "execution_count": 45,
   "metadata": {},
   "outputs": [
    {
     "data": {
      "text/html": [
       "<div>\n",
       "<style scoped>\n",
       "    .dataframe tbody tr th:only-of-type {\n",
       "        vertical-align: middle;\n",
       "    }\n",
       "\n",
       "    .dataframe tbody tr th {\n",
       "        vertical-align: top;\n",
       "    }\n",
       "\n",
       "    .dataframe thead th {\n",
       "        text-align: right;\n",
       "    }\n",
       "</style>\n",
       "<table border=\"1\" class=\"dataframe\">\n",
       "  <thead>\n",
       "    <tr style=\"text-align: right;\">\n",
       "      <th></th>\n",
       "      <th>article_id</th>\n",
       "      <th>title</th>\n",
       "      <th>email</th>\n",
       "      <th>user_id</th>\n",
       "    </tr>\n",
       "  </thead>\n",
       "  <tbody>\n",
       "    <tr>\n",
       "      <th>29759</th>\n",
       "      <td>20.0</td>\n",
       "      <td>working interactively with rstudio and noteboo...</td>\n",
       "      <td>NaN</td>\n",
       "      <td>2917</td>\n",
       "    </tr>\n",
       "    <tr>\n",
       "      <th>29761</th>\n",
       "      <td>62.0</td>\n",
       "      <td>data visualization: the importance of excludin...</td>\n",
       "      <td>NaN</td>\n",
       "      <td>2917</td>\n",
       "    </tr>\n",
       "    <tr>\n",
       "      <th>35284</th>\n",
       "      <td>162.0</td>\n",
       "      <td>an introduction to stock market data analysis ...</td>\n",
       "      <td>NaN</td>\n",
       "      <td>2917</td>\n",
       "    </tr>\n",
       "    <tr>\n",
       "      <th>35264</th>\n",
       "      <td>224.0</td>\n",
       "      <td>using apply, sapply, lapply in r</td>\n",
       "      <td>NaN</td>\n",
       "      <td>2917</td>\n",
       "    </tr>\n",
       "    <tr>\n",
       "      <th>35278</th>\n",
       "      <td>268.0</td>\n",
       "      <td>sector correlations shiny app</td>\n",
       "      <td>NaN</td>\n",
       "      <td>2917</td>\n",
       "    </tr>\n",
       "    <tr>\n",
       "      <th>35281</th>\n",
       "      <td>415.0</td>\n",
       "      <td>using machine learning to predict value of hom...</td>\n",
       "      <td>NaN</td>\n",
       "      <td>2917</td>\n",
       "    </tr>\n",
       "    <tr>\n",
       "      <th>42749</th>\n",
       "      <td>647.0</td>\n",
       "      <td>getting started with apache mahout</td>\n",
       "      <td>NaN</td>\n",
       "      <td>2917</td>\n",
       "    </tr>\n",
       "    <tr>\n",
       "      <th>35282</th>\n",
       "      <td>846.0</td>\n",
       "      <td>pearson correlation aggregation on sparksql</td>\n",
       "      <td>NaN</td>\n",
       "      <td>2917</td>\n",
       "    </tr>\n",
       "    <tr>\n",
       "      <th>35276</th>\n",
       "      <td>961.0</td>\n",
       "      <td>beyond parallelize and collect</td>\n",
       "      <td>NaN</td>\n",
       "      <td>2917</td>\n",
       "    </tr>\n",
       "    <tr>\n",
       "      <th>42750</th>\n",
       "      <td>965.0</td>\n",
       "      <td>data visualization playbook: revisiting the ba...</td>\n",
       "      <td>NaN</td>\n",
       "      <td>2917</td>\n",
       "    </tr>\n",
       "    <tr>\n",
       "      <th>25131</th>\n",
       "      <td>1016.0</td>\n",
       "      <td>why you should master r (even if it might even...</td>\n",
       "      <td>NaN</td>\n",
       "      <td>2917</td>\n",
       "    </tr>\n",
       "    <tr>\n",
       "      <th>29760</th>\n",
       "      <td>1174.0</td>\n",
       "      <td>breast cancer wisconsin (diagnostic) data set</td>\n",
       "      <td>NaN</td>\n",
       "      <td>2917</td>\n",
       "    </tr>\n",
       "    <tr>\n",
       "      <th>29758</th>\n",
       "      <td>1393.0</td>\n",
       "      <td>the nurse assignment problem</td>\n",
       "      <td>NaN</td>\n",
       "      <td>2917</td>\n",
       "    </tr>\n",
       "  </tbody>\n",
       "</table>\n",
       "</div>"
      ],
      "text/plain": [
       "       article_id                                              title email  user_id\n",
       "29759        20.0  working interactively with rstudio and noteboo...   NaN     2917\n",
       "29761        62.0  data visualization: the importance of excludin...   NaN     2917\n",
       "35284       162.0  an introduction to stock market data analysis ...   NaN     2917\n",
       "35264       224.0                   using apply, sapply, lapply in r   NaN     2917\n",
       "35278       268.0                      sector correlations shiny app   NaN     2917\n",
       "35281       415.0  using machine learning to predict value of hom...   NaN     2917\n",
       "42749       647.0                 getting started with apache mahout   NaN     2917\n",
       "35282       846.0        pearson correlation aggregation on sparksql   NaN     2917\n",
       "35276       961.0                     beyond parallelize and collect   NaN     2917\n",
       "42750       965.0  data visualization playbook: revisiting the ba...   NaN     2917\n",
       "25131      1016.0  why you should master r (even if it might even...   NaN     2917\n",
       "29760      1174.0      breast cancer wisconsin (diagnostic) data set   NaN     2917\n",
       "29758      1393.0                       the nurse assignment problem   NaN     2917"
      ]
     },
     "execution_count": 45,
     "metadata": {},
     "output_type": "execute_result"
    }
   ],
   "source": [
    "#df2[df2.email.isnull()]\n",
    "df2[df2.email.isnull()]"
   ]
  },
  {
   "cell_type": "code",
   "execution_count": 46,
   "metadata": {},
   "outputs": [
    {
     "data": {
      "text/plain": [
       "array([0, 1])"
      ]
     },
     "execution_count": 46,
     "metadata": {},
     "output_type": "execute_result"
    }
   ],
   "source": [
    "np.unique(user_item.values)"
   ]
  },
  {
   "cell_type": "code",
   "execution_count": 47,
   "metadata": {},
   "outputs": [
    {
     "data": {
      "text/plain": [
       "36"
      ]
     },
     "execution_count": 47,
     "metadata": {},
     "output_type": "execute_result"
    }
   ],
   "source": [
    "user_item.sum(axis=1)[1]"
   ]
  },
  {
   "cell_type": "code",
   "execution_count": 48,
   "metadata": {},
   "outputs": [
    {
     "data": {
      "text/plain": [
       "(5149, 714)"
      ]
     },
     "execution_count": 48,
     "metadata": {},
     "output_type": "execute_result"
    }
   ],
   "source": [
    "user_item.shape"
   ]
  },
  {
   "cell_type": "code",
   "execution_count": 49,
   "metadata": {},
   "outputs": [
    {
     "name": "stdout",
     "output_type": "stream",
     "text": [
      "You have passed our quick tests!  Please proceed!\n"
     ]
    }
   ],
   "source": [
    "## Tests: You should just need to run this cell.  Don't change the code.\n",
    "assert user_item.shape[0] == 5149, \"Oops!  The number of users in the user-article matrix doesn't look right.\"\n",
    "assert user_item.shape[1] == 714, \"Oops!  The number of articles in the user-article matrix doesn't look right.\"\n",
    "assert user_item.sum(axis=1)[1] == 36, \"Oops!  The number of articles seen by user 1 doesn't look right.\"\n",
    "\n",
    "print(\"You have passed our quick tests!  Please proceed!\")"
   ]
  },
  {
   "cell_type": "markdown",
   "metadata": {},
   "source": [
    "`2.` Complete the function below which should take a user_id and provide an ordered list of the most similar users to that user (from most similar to least similar).  The returned result should not contain the provided user_id, as we know that each user is similar to him/herself. Because the results for each user here are binary, it (perhaps) makes sense to compute similarity as the dot product of two users. \n",
    "\n",
    "Use the tests to test your function."
   ]
  },
  {
   "cell_type": "code",
   "execution_count": 50,
   "metadata": {},
   "outputs": [],
   "source": [
    "user_id = 4\n",
    "\n",
    "target_4 = user_item.iloc[user_id-1,:].values"
   ]
  },
  {
   "cell_type": "code",
   "execution_count": 51,
   "metadata": {},
   "outputs": [],
   "source": [
    "user_id = 23\n",
    "\n",
    "target_23 = user_item.iloc[user_id-1,:].values"
   ]
  },
  {
   "cell_type": "code",
   "execution_count": 52,
   "metadata": {},
   "outputs": [
    {
     "data": {
      "text/plain": [
       "16"
      ]
     },
     "execution_count": 52,
     "metadata": {},
     "output_type": "execute_result"
    }
   ],
   "source": [
    "np.dot(target_4, target_23)"
   ]
  },
  {
   "cell_type": "code",
   "execution_count": 53,
   "metadata": {},
   "outputs": [
    {
     "data": {
      "text/plain": [
       "(5148,)"
      ]
     },
     "execution_count": 53,
     "metadata": {},
     "output_type": "execute_result"
    }
   ],
   "source": [
    "df.email.unique().shape"
   ]
  },
  {
   "cell_type": "code",
   "execution_count": 54,
   "metadata": {},
   "outputs": [
    {
     "data": {
      "text/plain": [
       "(5149, 714)"
      ]
     },
     "execution_count": 54,
     "metadata": {},
     "output_type": "execute_result"
    }
   ],
   "source": [
    "user_item.shape"
   ]
  },
  {
   "cell_type": "code",
   "execution_count": 55,
   "metadata": {},
   "outputs": [
    {
     "data": {
      "text/plain": [
       "array([35, 17, 17, ...,  0,  0,  0])"
      ]
     },
     "execution_count": 55,
     "metadata": {},
     "output_type": "execute_result"
    }
   ],
   "source": [
    "user_id = 3933\n",
    "\n",
    "target_array = user_item.iloc[user_id-1,:].values\n",
    "similarity = user_item.dot(target_array).sort_values(ascending=False)\n",
    "similarity[1:].values\n",
    "#user_item.apply(lambda x: np.dot(x,target_array), axis=1).sort_values(ascending=False)"
   ]
  },
  {
   "cell_type": "code",
   "execution_count": 56,
   "metadata": {},
   "outputs": [],
   "source": [
    "def find_similar_users(user_id, user_item=user_item):\n",
    "    '''\n",
    "    INPUT:\n",
    "    user_id - (int) a user_id\n",
    "    user_item - (pandas dataframe) matrix of users by articles: \n",
    "                1's when a user has interacted with an article, 0 otherwise\n",
    "    \n",
    "    OUTPUT:\n",
    "    similar_users - (list) an ordered list where the closest users (largest dot product users)\n",
    "                    are listed first\n",
    "    \n",
    "    Description:\n",
    "    Computes the similarity of every pair of users based on the dot product\n",
    "    Returns an ordered\n",
    "    \n",
    "    '''\n",
    "    # compute similarity of each user to the provided user\n",
    "\n",
    "    # sort by similarity\n",
    "\n",
    "    # create list of just the ids\n",
    "   \n",
    "    # remove the own user's id\n",
    "       \n",
    "    #return most_similar_users # return a list of the users in order from most to least similar\n",
    "     \n",
    "    target_array = user_item.iloc[user_id-1,:].values\n",
    "    return user_item.dot(target_array).sort_values(ascending=False)[1:].values"
   ]
  },
  {
   "cell_type": "code",
   "execution_count": 57,
   "metadata": {},
   "outputs": [
    {
     "name": "stdout",
     "output_type": "stream",
     "text": [
      "The 10 most similar users to user 1 are: [35 17 17 15 15 14 14 13 13 12]\n",
      "The 5 most similar users to user 3933 are: [35 17 17 15 15]\n",
      "The 3 most similar users to user 46 are: [40 26 26]\n"
     ]
    }
   ],
   "source": [
    "# Do a spot check of your function\n",
    "print(\"The 10 most similar users to user 1 are: {}\".format(find_similar_users(1)[:10]))\n",
    "print(\"The 5 most similar users to user 3933 are: {}\".format(find_similar_users(3933)[:5]))\n",
    "print(\"The 3 most similar users to user 46 are: {}\".format(find_similar_users(46)[:3]))"
   ]
  },
  {
   "cell_type": "markdown",
   "metadata": {},
   "source": [
    "`3.` Now that you have a function that provides the most similar users to each user, you will want to use these users to find articles you can recommend.  Complete the functions below to return the articles you would recommend to each user. "
   ]
  },
  {
   "cell_type": "code",
   "execution_count": 58,
   "metadata": {},
   "outputs": [],
   "source": [
    "def get_article_names(article_ids, df=df):\n",
    "    '''\n",
    "    INPUT:\n",
    "    article_ids - (list) a list of article ids\n",
    "    df - (pandas dataframe) df as defined at the top of the notebook\n",
    "    \n",
    "    OUTPUT:\n",
    "    article_names - (list) a list of article names associated with the list of article ids \n",
    "                    (this is identified by the title column)\n",
    "    '''\n",
    "    # Your code here\n",
    "    \n",
    "    article_ids = [float(i) for i in article_ids]\n",
    "    return df.set_index('article_id').loc[article_ids, 'title'].unique().tolist()"
   ]
  },
  {
   "cell_type": "code",
   "execution_count": 59,
   "metadata": {},
   "outputs": [
    {
     "data": {
      "text/plain": [
       "['detect malfunctioning iot sensors with streaming analytics',\n",
       " 'this week in data science (april 18, 2017)']"
      ]
     },
     "execution_count": 59,
     "metadata": {},
     "output_type": "execute_result"
    }
   ],
   "source": [
    "article_ids=[0.0,2.0]\n",
    "get_article_names(article_ids)"
   ]
  },
  {
   "cell_type": "code",
   "execution_count": 60,
   "metadata": {},
   "outputs": [],
   "source": [
    "def get_user_articles(user_id, user_item=user_item):\n",
    "    '''\n",
    "    INPUT:\n",
    "    user_id - (int) a user id\n",
    "    user_item - (pandas dataframe) matrix of users by articles: \n",
    "                1's when a user has interacted with an article, 0 otherwise\n",
    "    \n",
    "    OUTPUT:\n",
    "    article_ids - (list) a list of the article ids seen by the user\n",
    "    article_names - (list) a list of article names associated with the list of article ids \n",
    "                    (this is identified by the doc_full_name column in df_content)\n",
    "    \n",
    "    Description:\n",
    "    Provides a list of the article_ids and article titles that have been seen by a user\n",
    "    '''\n",
    "    # Your code here\n",
    "    article_ids = (user_item.loc[user_id,:]).where(lambda x: x>0).dropna().sort_values(ascending=False).index.tolist()\n",
    "    article_ids = [str(i) for i in article_ids]\n",
    "    article_names = get_article_names(article_ids)\n",
    "    \n",
    "    return article_ids, article_names # return the ids and names\n",
    "\n"
   ]
  },
  {
   "cell_type": "code",
   "execution_count": 61,
   "metadata": {},
   "outputs": [
    {
     "data": {
      "text/plain": [
       "(['1436.0', '1432.0', '788.0', '784.0', '735.0'],\n",
       " ['welcome to pixiedust',\n",
       "  'visualize data with the matplotlib library',\n",
       "  'quick guide to build a recommendation engine in python',\n",
       "  '10 data science, machine learning and ai podcasts you must listen to',\n",
       "  'making sense of the bias / variance trade-off in (deep) reinforcement learning'])"
      ]
     },
     "execution_count": 61,
     "metadata": {},
     "output_type": "execute_result"
    }
   ],
   "source": [
    "user_id = 3\n",
    "\n",
    "article_ids, article_names = get_user_articles(user_id)\n",
    "article_ids[:5], article_names[:5]"
   ]
  },
  {
   "cell_type": "code",
   "execution_count": 62,
   "metadata": {},
   "outputs": [],
   "source": [
    "def user_user_recs(user_id, m=10):\n",
    "    '''\n",
    "    INPUT:\n",
    "    user_id - (int) a user id\n",
    "    m - (int) the number of recommendations you want for the user\n",
    "    \n",
    "    OUTPUT:\n",
    "    recs - (list) a list of recommendations for the user\n",
    "    \n",
    "    Description:\n",
    "    Loops through the users based on closeness to the input user_id\n",
    "    For each user - finds articles the user hasn't seen before and provides them as recs\n",
    "    Does this until m recommendations are found\n",
    "    \n",
    "    Notes:\n",
    "    Users who are the same closeness are chosen arbitrarily as the 'next' user\n",
    "    \n",
    "    For the user where the number of recommended articles starts below m \n",
    "    and ends exceeding m, the last items are chosen arbitrarily\n",
    "    \n",
    "    '''\n",
    "    # Your code here\n",
    "    similar_users = set(find_similar_users(user_id))\n",
    "    recs = []\n",
    "    for user in similar_users:\n",
    "        _, article_names = get_user_articles(user+1)\n",
    "        recs.extend(article_names)\n",
    "\n",
    "    return recs[:m] # return your recommendations for this user_id    "
   ]
  },
  {
   "cell_type": "code",
   "execution_count": 63,
   "metadata": {},
   "outputs": [
    {
     "data": {
      "text/plain": [
       "['working with ibm cloud object storage in r',\n",
       " 'welcome to pixiedust',\n",
       " 'working with ibm cloud object storage in python',\n",
       " 'python if statements explained (python for data science basics #4)',\n",
       " 'rapidly build machine learning flows with dsx',\n",
       " 'shiny: a data scientist’s best friend',\n",
       " 'analyze db2 warehouse on cloud data in rstudio in dsx',\n",
       " 'tidyverse practice: mapping large european cities',\n",
       " 'new shiny cheat sheet and video tutorial',\n",
       " 'python for loops explained (python for data science basics #5)']"
      ]
     },
     "execution_count": 63,
     "metadata": {},
     "output_type": "execute_result"
    }
   ],
   "source": [
    "user_id=1\n",
    "recs = user_user_recs(user_id)\n",
    "recs"
   ]
  },
  {
   "cell_type": "code",
   "execution_count": 64,
   "metadata": {},
   "outputs": [
    {
     "data": {
      "text/plain": [
       "(['1320.0', '844.0', '232.0'],\n",
       " ['housing (2015): united states demographic measures',\n",
       "  'use the cloudant-spark connector in python notebook',\n",
       "  'self-service data preparation with ibm data refinery'])"
      ]
     },
     "execution_count": 64,
     "metadata": {},
     "output_type": "execute_result"
    }
   ],
   "source": [
    "get_user_articles(20)"
   ]
  },
  {
   "cell_type": "code",
   "execution_count": 65,
   "metadata": {},
   "outputs": [
    {
     "name": "stdout",
     "output_type": "stream",
     "text": [
      "If this is all you see, you passed all of our tests!  Nice job!\n"
     ]
    }
   ],
   "source": [
    "# Test your functions here - No need to change this code - just run this cell\n",
    "assert set(get_article_names(['1024.0', '1176.0', '1305.0', '1314.0', '1422.0', '1427.0'])) == set(['using deep learning to reconstruct high-resolution audio', 'build a python app on the streaming analytics service', 'gosales transactions for naive bayes model', 'healthcare python streaming application demo', 'use r dataframes & ibm watson natural language understanding', 'use xgboost, scikit-learn & ibm watson machine learning apis']), \"Oops! Your the get_article_names function doesn't work quite how we expect.\"\n",
    "assert set(get_article_names(['1320.0', '232.0', '844.0'])) == set(['housing (2015): united states demographic measures','self-service data preparation with ibm data refinery','use the cloudant-spark connector in python notebook']), \"Oops! Your the get_article_names function doesn't work quite how we expect.\"\n",
    "assert set(get_user_articles(20)[0]) == set(['1320.0', '232.0', '844.0'])\n",
    "assert set(get_user_articles(20)[1]) == set(['housing (2015): united states demographic measures', 'self-service data preparation with ibm data refinery','use the cloudant-spark connector in python notebook'])\n",
    "assert set(get_user_articles(2)[0]) == set(['1024.0', '1176.0', '1305.0', '1314.0', '1422.0', '1427.0'])\n",
    "assert set(get_user_articles(2)[1]) == set(['using deep learning to reconstruct high-resolution audio', 'build a python app on the streaming analytics service', 'gosales transactions for naive bayes model', 'healthcare python streaming application demo', 'use r dataframes & ibm watson natural language understanding', 'use xgboost, scikit-learn & ibm watson machine learning apis'])\n",
    "print(\"If this is all you see, you passed all of our tests!  Nice job!\")"
   ]
  },
  {
   "cell_type": "markdown",
   "metadata": {},
   "source": [
    "`4.` Now we are going to improve the consistency of the **user_user_recs** function from above.  \n",
    "\n",
    "* Instead of arbitrarily choosing when we obtain users who are all the same closeness to a given user - choose the users that have the most total article interactions before choosing those with fewer article interactions.\n",
    "\n",
    "\n",
    "* Instead of arbitrarily choosing articles from the user where the number of recommended articles starts below m and ends exceeding m, choose articles with the articles with the most total interactions before choosing those with fewer total interactions. This ranking should be  what would be obtained from the **top_articles** function you wrote earlier."
   ]
  },
  {
   "cell_type": "code",
   "execution_count": 66,
   "metadata": {},
   "outputs": [],
   "source": [
    "def get_articles(user_id):\n",
    "    return user_item.loc[user_id,:].where(lambda x: x>0).dropna().index.tolist()"
   ]
  },
  {
   "cell_type": "code",
   "execution_count": 84,
   "metadata": {},
   "outputs": [],
   "source": [
    "def get_top_sorted_users(user_id, df=df, user_item=user_item):\n",
    "    '''\n",
    "    INPUT:\n",
    "    user_id - (int)\n",
    "    df - (pandas dataframe) df as defined at the top of the notebook \n",
    "    user_item - (pandas dataframe) matrix of users by articles: \n",
    "            1's when a user has interacted with an article, 0 otherwise\n",
    "    \n",
    "            \n",
    "    OUTPUT:\n",
    "    neighbors_df - (pandas dataframe) a dataframe with:\n",
    "                    neighbor_id - is a neighbor user_id\n",
    "                    similarity - measure of the similarity of each user to the provided user_id\n",
    "                    num_interactions - the number of articles viewed by the user - if a u\n",
    "                    \n",
    "    Other Details - sort the neighbors_df by the similarity and then by number of interactions where \n",
    "                    highest of each is higher in the dataframe\n",
    "     \n",
    "    '''\n",
    "    # Your code here\n",
    "    \n",
    "    df_ = user_item.dot(target_array).to_frame('similarity').reset_index()\n",
    "    df_['num_interactions'] = df_.apply(lambda x: len(get_articles(x.user_id)), axis=1)\n",
    "\n",
    "    return df_.sort_values(['similarity','num_interactions'], ascending=False).reset_index()[1:]"
   ]
  },
  {
   "cell_type": "code",
   "execution_count": 85,
   "metadata": {},
   "outputs": [
    {
     "data": {
      "text/html": [
       "<div>\n",
       "<style scoped>\n",
       "    .dataframe tbody tr th:only-of-type {\n",
       "        vertical-align: middle;\n",
       "    }\n",
       "\n",
       "    .dataframe tbody tr th {\n",
       "        vertical-align: top;\n",
       "    }\n",
       "\n",
       "    .dataframe thead th {\n",
       "        text-align: right;\n",
       "    }\n",
       "</style>\n",
       "<table border=\"1\" class=\"dataframe\">\n",
       "  <thead>\n",
       "    <tr style=\"text-align: right;\">\n",
       "      <th></th>\n",
       "      <th>index</th>\n",
       "      <th>user_id</th>\n",
       "      <th>similarity</th>\n",
       "      <th>num_interactions</th>\n",
       "    </tr>\n",
       "  </thead>\n",
       "  <tbody>\n",
       "    <tr>\n",
       "      <th>1</th>\n",
       "      <td>3932</td>\n",
       "      <td>3933</td>\n",
       "      <td>35</td>\n",
       "      <td>35</td>\n",
       "    </tr>\n",
       "    <tr>\n",
       "      <th>2</th>\n",
       "      <td>22</td>\n",
       "      <td>23</td>\n",
       "      <td>17</td>\n",
       "      <td>135</td>\n",
       "    </tr>\n",
       "    <tr>\n",
       "      <th>3</th>\n",
       "      <td>3781</td>\n",
       "      <td>3782</td>\n",
       "      <td>17</td>\n",
       "      <td>135</td>\n",
       "    </tr>\n",
       "    <tr>\n",
       "      <th>4</th>\n",
       "      <td>202</td>\n",
       "      <td>203</td>\n",
       "      <td>15</td>\n",
       "      <td>96</td>\n",
       "    </tr>\n",
       "    <tr>\n",
       "      <th>5</th>\n",
       "      <td>4458</td>\n",
       "      <td>4459</td>\n",
       "      <td>15</td>\n",
       "      <td>96</td>\n",
       "    </tr>\n",
       "  </tbody>\n",
       "</table>\n",
       "</div>"
      ],
      "text/plain": [
       "   index  user_id  similarity  num_interactions\n",
       "1   3932     3933          35                35\n",
       "2     22       23          17               135\n",
       "3   3781     3782          17               135\n",
       "4    202      203          15                96\n",
       "5   4458     4459          15                96"
      ]
     },
     "execution_count": 85,
     "metadata": {},
     "output_type": "execute_result"
    }
   ],
   "source": [
    "user_id = 1\n",
    "df_ = get_top_sorted_users(user_id, df=df, user_item=user_item)\n",
    "df_.head()"
   ]
  },
  {
   "cell_type": "code",
   "execution_count": 275,
   "metadata": {},
   "outputs": [],
   "source": [
    "def user_user_recs_part2(user_id, m=10):\n",
    "    '''\n",
    "    INPUT:\n",
    "    user_id - (int) a user id\n",
    "    m - (int) the number of recommendations you want for the user\n",
    "    \n",
    "    OUTPUT:\n",
    "    recs - (list) a list of recommendations for the user by article id\n",
    "    rec_names - (list) a list of recommendations for the user by article title\n",
    "    \n",
    "    Description:\n",
    "    Loops through the users based on closeness to the input user_id\n",
    "    For each user - finds articles the user hasn't seen before and provides them as recs\n",
    "    Does this until m recommendations are found\n",
    "    \n",
    "    Notes:\n",
    "    * Choose the users that have the most total article interactions \n",
    "    before choosing those with fewer article interactions.\n",
    "\n",
    "    * Choose articles with the articles with the most total interactions \n",
    "    before choosing those with fewer total interactions. \n",
    "   \n",
    "    '''\n",
    "    # Your code here\n",
    "    df_ = get_top_sorted_users(user_id, df=df, user_item=user_item)\n",
    "    target_read, _ = get_user_articles(user_id)\n",
    "    rank_articles = df2.groupby('article_id').size().sort_values(ascending=False).index\n",
    "\n",
    "    recommend = []\n",
    "\n",
    "    for user in df_.user_id.tolist():\n",
    "        user_read, _ = get_user_articles(user, user_item=user_item)\n",
    "        recommend.extend([i for i in rank_articles if str(i) in user_read])\n",
    "\n",
    "    recs = (list(OrderedDict.fromkeys(recommend)))\n",
    "    rec_names = get_article_names(recs)\n",
    "    \n",
    "    return recs[:m], rec_names[:m]"
   ]
  },
  {
   "cell_type": "code",
   "execution_count": 276,
   "metadata": {},
   "outputs": [
    {
     "data": {
      "text/plain": [
       "([1429.0,\n",
       "  1431.0,\n",
       "  1427.0,\n",
       "  43.0,\n",
       "  1436.0,\n",
       "  1368.0,\n",
       "  1170.0,\n",
       "  1185.0,\n",
       "  1430.0,\n",
       "  1293.0],\n",
       " ['use deep learning for image classification',\n",
       "  'visualize car data with brunel',\n",
       "  'use xgboost, scikit-learn & ibm watson machine learning apis',\n",
       "  'deep learning with tensorflow course by big data university',\n",
       "  'welcome to pixiedust',\n",
       "  'putting a human face on machine learning',\n",
       "  'apache spark lab, part 1: basic concepts',\n",
       "  'classify tumors with machine learning',\n",
       "  'using pixiedust for fast, flexible, and easier data analysis and experimentation',\n",
       "  'finding optimal locations of new store using decision optimization'])"
      ]
     },
     "execution_count": 276,
     "metadata": {},
     "output_type": "execute_result"
    }
   ],
   "source": [
    "user_user_recs_part2(1, m=10)"
   ]
  },
  {
   "cell_type": "code",
   "execution_count": 251,
   "metadata": {},
   "outputs": [
    {
     "data": {
      "text/plain": [
       "((array([86]),), (array([484]),), (array([381]),))"
      ]
     },
     "execution_count": 251,
     "metadata": {},
     "output_type": "execute_result"
    }
   ],
   "source": [
    "tmp1 = df2.groupby('article_id').size().sort_values(ascending=False).index.values\n",
    "np.where(tmp1==1183.), np.where(tmp1==1232.), np.where(tmp1==1363.)"
   ]
  },
  {
   "cell_type": "code",
   "execution_count": 273,
   "metadata": {},
   "outputs": [
    {
     "name": "stdout",
     "output_type": "stream",
     "text": [
      "33646\n",
      "714\n"
     ]
    }
   ],
   "source": [
    "user_id=1\n",
    "df_ = get_top_sorted_users(user_id, df=df, user_item=user_item)\n",
    "#[user for user in df_.user_id.tolist()]\n",
    "target_read, _ = get_user_articles(user_id)\n",
    "rank_articles = df2.groupby('article_id').size().sort_values(ascending=False).index\n",
    "\n",
    "recommend = []\n",
    "\n",
    "for user in df_.user_id.tolist():\n",
    "    user_read, _ = get_user_articles(user, user_item=user_item)\n",
    "    recommend.extend([i for i in rank_articles if str(i) in user_read])\n",
    "\n",
    "#get_article_names(recommend)\n",
    "print(len(recommend))\n",
    "print(len(list(OrderedDict.fromkeys(recommend))))"
   ]
  },
  {
   "cell_type": "code",
   "execution_count": 268,
   "metadata": {},
   "outputs": [
    {
     "name": "stdout",
     "output_type": "stream",
     "text": [
      "['1363.0' '968.0' '390.0' '151.0' '525.0' '1232.0' '1406.0' '585.0'\n",
      " '268.0' '768.0' '732.0' '1400.0' '626.0' '310.0' '668.0' '346.0' '494.0'\n",
      " '329.0' '1183.0']\n"
     ]
    },
    {
     "data": {
      "text/plain": [
       "[151.0,\n",
       " 390.0,\n",
       " 1400.0,\n",
       " 732.0,\n",
       " 268.0,\n",
       " 1183.0,\n",
       " 310.0,\n",
       " 525.0,\n",
       " 329.0,\n",
       " 494.0,\n",
       " 1406.0,\n",
       " 768.0,\n",
       " 968.0,\n",
       " 585.0,\n",
       " 346.0,\n",
       " 1363.0,\n",
       " 1232.0,\n",
       " 668.0,\n",
       " 626.0]"
      ]
     },
     "execution_count": 268,
     "metadata": {},
     "output_type": "execute_result"
    }
   ],
   "source": [
    "rank_articles = df2.groupby('article_id').size().sort_values(ascending=False).index\n",
    "\n",
    "\n",
    "user=23\n",
    "user_read, _ = get_user_articles(user, user_item=user_item)\n",
    "#recommend = np.array(list(set(target_read).difference(set(user_read))))\n",
    "print(recommend)\n",
    "#print(np.intersect1d(np.array(rank_articles), np.array(recommend)))\n",
    "#print(sorted(zip(np.array(rank_articles), np.array(recommend))))  \n",
    "#    recommend.extend(set(target_read).difference(user_read))\n",
    "#np.sort(recommend, order=rank_articles.values)\n",
    "#rank_articles.values\n",
    "#recommend\n",
    "[i for i in rank_articles if str(i) in recommend]"
   ]
  },
  {
   "cell_type": "code",
   "execution_count": 232,
   "metadata": {},
   "outputs": [
    {
     "data": {
      "text/plain": [
       "Float64Index([1330.0, 1429.0, 1364.0, 1314.0, 1398.0, 1431.0, 1271.0, 1427.0, 1160.0,   43.0,\n",
       "              ...\n",
       "              1344.0,  724.0, 1200.0, 1202.0,  984.0,  974.0, 1233.0, 1237.0, 1266.0, 1119.0], dtype='float64', name='article_id', length=714)"
      ]
     },
     "execution_count": 232,
     "metadata": {},
     "output_type": "execute_result"
    }
   ],
   "source": [
    "for user in df_.user_id.tolist():\n",
    "    user_read, _ = get_user_articles(user, user_item=user_item)\n",
    "    np.intersect1d(np.array(rank_articles), np.array(user_read))\n",
    "    \n",
    "    recommend.extend(set(target_read).difference(user_read))\n",
    "\n",
    "\n",
    "np.intersect1d(np.array(rank_articles), np.array(recommend))\n",
    "#recommend\n",
    "#[x for _,x in sorted(zip(Y,X))]\n",
    "#df2[df2['user_id']==user_id]\n",
    "#rank_articles = {article:n for n, article in enumerate(df2.groupby('article_id').size().sort_values(ascending=False).index)}\n",
    "\n",
    "#df_.head()\n",
    "#df2[df2.user_id==3933]['article_id'].apply(lambda x: x)"
   ]
  },
  {
   "cell_type": "code",
   "execution_count": 233,
   "metadata": {},
   "outputs": [
    {
     "data": {
      "text/plain": [
       "array(['1052.0', '109.0', '1170.0', '1183.0', '1185.0', '1232.0',\n",
       "       '1293.0', '1305.0', '1363.0', '1368.0', '1391.0', '1400.0',\n",
       "       '1406.0', '1427.0', '1429.0', '1430.0', '1431.0', '1436.0',\n",
       "       '1439.0', '151.0', '268.0', '310.0', '329.0', '346.0', '390.0',\n",
       "       '43.0', '494.0', '525.0', '585.0', '626.0', '668.0', '732.0',\n",
       "       '768.0', '910.0', '968.0', '981.0'], dtype='<U32')"
      ]
     },
     "execution_count": 233,
     "metadata": {},
     "output_type": "execute_result"
    }
   ],
   "source": []
  },
  {
   "cell_type": "code",
   "execution_count": 181,
   "metadata": {},
   "outputs": [
    {
     "data": {
      "text/plain": [
       "110"
      ]
     },
     "execution_count": 181,
     "metadata": {},
     "output_type": "execute_result"
    }
   ],
   "source": [
    "df2.groupby('article_id').size().xs(268.0)"
   ]
  },
  {
   "cell_type": "code",
   "execution_count": 184,
   "metadata": {},
   "outputs": [
    {
     "data": {
      "text/plain": [
       "83"
      ]
     },
     "execution_count": 184,
     "metadata": {},
     "output_type": "execute_result"
    }
   ],
   "source": [
    "#df2.groupby('article_id').size()\n",
    "#df2[df2.article_id==268]\n",
    "df2.groupby('article_id').size().xs(268.0)\n",
    "\n",
    "rank_articles[268.0]"
   ]
  },
  {
   "cell_type": "code",
   "execution_count": 109,
   "metadata": {},
   "outputs": [
    {
     "data": {
      "text/html": [
       "<div>\n",
       "<style scoped>\n",
       "    .dataframe tbody tr th:only-of-type {\n",
       "        vertical-align: middle;\n",
       "    }\n",
       "\n",
       "    .dataframe tbody tr th {\n",
       "        vertical-align: top;\n",
       "    }\n",
       "\n",
       "    .dataframe thead th {\n",
       "        text-align: right;\n",
       "    }\n",
       "</style>\n",
       "<table border=\"1\" class=\"dataframe\">\n",
       "  <thead>\n",
       "    <tr style=\"text-align: right;\">\n",
       "      <th></th>\n",
       "      <th>index</th>\n",
       "      <th>user_id</th>\n",
       "      <th>similarity</th>\n",
       "      <th>num_interactions</th>\n",
       "    </tr>\n",
       "  </thead>\n",
       "  <tbody>\n",
       "    <tr>\n",
       "      <th>1</th>\n",
       "      <td>3932</td>\n",
       "      <td>3933</td>\n",
       "      <td>35</td>\n",
       "      <td>35</td>\n",
       "    </tr>\n",
       "    <tr>\n",
       "      <th>2</th>\n",
       "      <td>22</td>\n",
       "      <td>23</td>\n",
       "      <td>17</td>\n",
       "      <td>135</td>\n",
       "    </tr>\n",
       "    <tr>\n",
       "      <th>3</th>\n",
       "      <td>3781</td>\n",
       "      <td>3782</td>\n",
       "      <td>17</td>\n",
       "      <td>135</td>\n",
       "    </tr>\n",
       "    <tr>\n",
       "      <th>4</th>\n",
       "      <td>202</td>\n",
       "      <td>203</td>\n",
       "      <td>15</td>\n",
       "      <td>96</td>\n",
       "    </tr>\n",
       "    <tr>\n",
       "      <th>5</th>\n",
       "      <td>4458</td>\n",
       "      <td>4459</td>\n",
       "      <td>15</td>\n",
       "      <td>96</td>\n",
       "    </tr>\n",
       "  </tbody>\n",
       "</table>\n",
       "</div>"
      ],
      "text/plain": [
       "   index  user_id  similarity  num_interactions\n",
       "1   3932     3933          35                35\n",
       "2     22       23          17               135\n",
       "3   3781     3782          17               135\n",
       "4    202      203          15                96\n",
       "5   4458     4459          15                96"
      ]
     },
     "execution_count": 109,
     "metadata": {},
     "output_type": "execute_result"
    }
   ],
   "source": [
    "user_id=1\n",
    "df_ = get_top_sorted_users(user_id, df=df, user_item=user_item)\n",
    "df_.head()"
   ]
  },
  {
   "cell_type": "code",
   "execution_count": 198,
   "metadata": {},
   "outputs": [
    {
     "data": {
      "text/html": [
       "<div>\n",
       "<style scoped>\n",
       "    .dataframe tbody tr th:only-of-type {\n",
       "        vertical-align: middle;\n",
       "    }\n",
       "\n",
       "    .dataframe tbody tr th {\n",
       "        vertical-align: top;\n",
       "    }\n",
       "\n",
       "    .dataframe thead th {\n",
       "        text-align: right;\n",
       "    }\n",
       "</style>\n",
       "<table border=\"1\" class=\"dataframe\">\n",
       "  <thead>\n",
       "    <tr style=\"text-align: right;\">\n",
       "      <th></th>\n",
       "      <th></th>\n",
       "      <th>article_id</th>\n",
       "      <th>rank_article</th>\n",
       "    </tr>\n",
       "    <tr>\n",
       "      <th>user_id</th>\n",
       "      <th>index_1</th>\n",
       "      <th></th>\n",
       "      <th></th>\n",
       "    </tr>\n",
       "  </thead>\n",
       "  <tbody>\n",
       "    <tr>\n",
       "      <th rowspan=\"5\" valign=\"top\">3933</th>\n",
       "      <th>0</th>\n",
       "      <td>43.0</td>\n",
       "      <td>9</td>\n",
       "    </tr>\n",
       "    <tr>\n",
       "      <th>1</th>\n",
       "      <td>109.0</td>\n",
       "      <td>43</td>\n",
       "    </tr>\n",
       "    <tr>\n",
       "      <th>2</th>\n",
       "      <td>268.0</td>\n",
       "      <td>83</td>\n",
       "    </tr>\n",
       "    <tr>\n",
       "      <th>3</th>\n",
       "      <td>310.0</td>\n",
       "      <td>136</td>\n",
       "    </tr>\n",
       "    <tr>\n",
       "      <th>4</th>\n",
       "      <td>329.0</td>\n",
       "      <td>182</td>\n",
       "    </tr>\n",
       "  </tbody>\n",
       "</table>\n",
       "</div>"
      ],
      "text/plain": [
       "                 article_id  rank_article\n",
       "user_id index_1                          \n",
       "3933    0              43.0             9\n",
       "        1             109.0            43\n",
       "        2             268.0            83\n",
       "        3             310.0           136\n",
       "        4             329.0           182"
      ]
     },
     "execution_count": 198,
     "metadata": {},
     "output_type": "execute_result"
    }
   ],
   "source": [
    "df_2 = df_.copy()\n",
    "df_2['samples'] = df_2.user_id.apply(lambda x: get_articles(x))\n",
    "df_3 = pd.DataFrame(df_2.apply(lambda x: pd.Series(x['samples']),axis=1).stack())\n",
    "df_3.index.set_levels(df_2.user_id, level=0, inplace=True)\n",
    "#df_3['similarity']=df_['similarity']\n",
    "df_3.rename(columns={0:'article_id'},inplace=True)\n",
    "df_3.index.names = ['user_id','index_1']\n",
    "df_3['rank_article'] = df_3['article_id'].map(rank_articles)\n",
    "#pd.concat([df_3], keys=df_['similarity'], names=['Firstlevel'])\n",
    "#.sort_values(ascending=False)\n",
    "df_3.head()\n",
    "#.reset_index(level=1, drop=True)"
   ]
  },
  {
   "cell_type": "code",
   "execution_count": 222,
   "metadata": {},
   "outputs": [
    {
     "data": {
      "text/plain": [
       "user_id\n",
       "2       MultiIndex(levels=[[3933, 23, 3782, 203, 4459,...\n",
       "3       MultiIndex(levels=[[3933, 23, 3782, 203, 4459,...\n",
       "4       MultiIndex(levels=[[3933, 23, 3782, 203, 4459,...\n",
       "5       MultiIndex(levels=[[3933, 23, 3782, 203, 4459,...\n",
       "6       MultiIndex(levels=[[3933, 23, 3782, 203, 4459,...\n",
       "7       MultiIndex(levels=[[3933, 23, 3782, 203, 4459,...\n",
       "8       MultiIndex(levels=[[3933, 23, 3782, 203, 4459,...\n",
       "9       MultiIndex(levels=[[3933, 23, 3782, 203, 4459,...\n",
       "10      MultiIndex(levels=[[3933, 23, 3782, 203, 4459,...\n",
       "11      MultiIndex(levels=[[3933, 23, 3782, 203, 4459,...\n",
       "12      MultiIndex(levels=[[3933, 23, 3782, 203, 4459,...\n",
       "13      MultiIndex(levels=[[3933, 23, 3782, 203, 4459,...\n",
       "14      MultiIndex(levels=[[3933, 23, 3782, 203, 4459,...\n",
       "15      MultiIndex(levels=[[3933, 23, 3782, 203, 4459,...\n",
       "16      MultiIndex(levels=[[3933, 23, 3782, 203, 4459,...\n",
       "17      MultiIndex(levels=[[3933, 23, 3782, 203, 4459,...\n",
       "18      MultiIndex(levels=[[3933, 23, 3782, 203, 4459,...\n",
       "19      MultiIndex(levels=[[3933, 23, 3782, 203, 4459,...\n",
       "20      MultiIndex(levels=[[3933, 23, 3782, 203, 4459,...\n",
       "21      MultiIndex(levels=[[3933, 23, 3782, 203, 4459,...\n",
       "22      MultiIndex(levels=[[3933, 23, 3782, 203, 4459,...\n",
       "23      MultiIndex(levels=[[3933, 23, 3782, 203, 4459,...\n",
       "24      MultiIndex(levels=[[3933, 23, 3782, 203, 4459,...\n",
       "25      MultiIndex(levels=[[3933, 23, 3782, 203, 4459,...\n",
       "26      MultiIndex(levels=[[3933, 23, 3782, 203, 4459,...\n",
       "27      MultiIndex(levels=[[3933, 23, 3782, 203, 4459,...\n",
       "28      MultiIndex(levels=[[3933, 23, 3782, 203, 4459,...\n",
       "29      MultiIndex(levels=[[3933, 23, 3782, 203, 4459,...\n",
       "30      MultiIndex(levels=[[3933, 23, 3782, 203, 4459,...\n",
       "31      MultiIndex(levels=[[3933, 23, 3782, 203, 4459,...\n",
       "32      MultiIndex(levels=[[3933, 23, 3782, 203, 4459,...\n",
       "33      MultiIndex(levels=[[3933, 23, 3782, 203, 4459,...\n",
       "34      MultiIndex(levels=[[3933, 23, 3782, 203, 4459,...\n",
       "35      MultiIndex(levels=[[3933, 23, 3782, 203, 4459,...\n",
       "36      MultiIndex(levels=[[3933, 23, 3782, 203, 4459,...\n",
       "37      MultiIndex(levels=[[3933, 23, 3782, 203, 4459,...\n",
       "38      MultiIndex(levels=[[3933, 23, 3782, 203, 4459,...\n",
       "39      MultiIndex(levels=[[3933, 23, 3782, 203, 4459,...\n",
       "40      MultiIndex(levels=[[3933, 23, 3782, 203, 4459,...\n",
       "41      MultiIndex(levels=[[3933, 23, 3782, 203, 4459,...\n",
       "42      MultiIndex(levels=[[3933, 23, 3782, 203, 4459,...\n",
       "43      MultiIndex(levels=[[3933, 23, 3782, 203, 4459,...\n",
       "44      MultiIndex(levels=[[3933, 23, 3782, 203, 4459,...\n",
       "45      MultiIndex(levels=[[3933, 23, 3782, 203, 4459,...\n",
       "46      MultiIndex(levels=[[3933, 23, 3782, 203, 4459,...\n",
       "47      MultiIndex(levels=[[3933, 23, 3782, 203, 4459,...\n",
       "48      MultiIndex(levels=[[3933, 23, 3782, 203, 4459,...\n",
       "49      MultiIndex(levels=[[3933, 23, 3782, 203, 4459,...\n",
       "50      MultiIndex(levels=[[3933, 23, 3782, 203, 4459,...\n",
       "51      MultiIndex(levels=[[3933, 23, 3782, 203, 4459,...\n",
       "52      MultiIndex(levels=[[3933, 23, 3782, 203, 4459,...\n",
       "53      MultiIndex(levels=[[3933, 23, 3782, 203, 4459,...\n",
       "54      MultiIndex(levels=[[3933, 23, 3782, 203, 4459,...\n",
       "55      MultiIndex(levels=[[3933, 23, 3782, 203, 4459,...\n",
       "56      MultiIndex(levels=[[3933, 23, 3782, 203, 4459,...\n",
       "57      MultiIndex(levels=[[3933, 23, 3782, 203, 4459,...\n",
       "58      MultiIndex(levels=[[3933, 23, 3782, 203, 4459,...\n",
       "59      MultiIndex(levels=[[3933, 23, 3782, 203, 4459,...\n",
       "60      MultiIndex(levels=[[3933, 23, 3782, 203, 4459,...\n",
       "61      MultiIndex(levels=[[3933, 23, 3782, 203, 4459,...\n",
       "62      MultiIndex(levels=[[3933, 23, 3782, 203, 4459,...\n",
       "63      MultiIndex(levels=[[3933, 23, 3782, 203, 4459,...\n",
       "64      MultiIndex(levels=[[3933, 23, 3782, 203, 4459,...\n",
       "65      MultiIndex(levels=[[3933, 23, 3782, 203, 4459,...\n",
       "66      MultiIndex(levels=[[3933, 23, 3782, 203, 4459,...\n",
       "67      MultiIndex(levels=[[3933, 23, 3782, 203, 4459,...\n",
       "68      MultiIndex(levels=[[3933, 23, 3782, 203, 4459,...\n",
       "69      MultiIndex(levels=[[3933, 23, 3782, 203, 4459,...\n",
       "70      MultiIndex(levels=[[3933, 23, 3782, 203, 4459,...\n",
       "71      MultiIndex(levels=[[3933, 23, 3782, 203, 4459,...\n",
       "72      MultiIndex(levels=[[3933, 23, 3782, 203, 4459,...\n",
       "73      MultiIndex(levels=[[3933, 23, 3782, 203, 4459,...\n",
       "74      MultiIndex(levels=[[3933, 23, 3782, 203, 4459,...\n",
       "75      MultiIndex(levels=[[3933, 23, 3782, 203, 4459,...\n",
       "76      MultiIndex(levels=[[3933, 23, 3782, 203, 4459,...\n",
       "77      MultiIndex(levels=[[3933, 23, 3782, 203, 4459,...\n",
       "78      MultiIndex(levels=[[3933, 23, 3782, 203, 4459,...\n",
       "79      MultiIndex(levels=[[3933, 23, 3782, 203, 4459,...\n",
       "80      MultiIndex(levels=[[3933, 23, 3782, 203, 4459,...\n",
       "81      MultiIndex(levels=[[3933, 23, 3782, 203, 4459,...\n",
       "82      MultiIndex(levels=[[3933, 23, 3782, 203, 4459,...\n",
       "83      MultiIndex(levels=[[3933, 23, 3782, 203, 4459,...\n",
       "84      MultiIndex(levels=[[3933, 23, 3782, 203, 4459,...\n",
       "85      MultiIndex(levels=[[3933, 23, 3782, 203, 4459,...\n",
       "86      MultiIndex(levels=[[3933, 23, 3782, 203, 4459,...\n",
       "87      MultiIndex(levels=[[3933, 23, 3782, 203, 4459,...\n",
       "88      MultiIndex(levels=[[3933, 23, 3782, 203, 4459,...\n",
       "89      MultiIndex(levels=[[3933, 23, 3782, 203, 4459,...\n",
       "90      MultiIndex(levels=[[3933, 23, 3782, 203, 4459,...\n",
       "91      MultiIndex(levels=[[3933, 23, 3782, 203, 4459,...\n",
       "92      MultiIndex(levels=[[3933, 23, 3782, 203, 4459,...\n",
       "93      MultiIndex(levels=[[3933, 23, 3782, 203, 4459,...\n",
       "94      MultiIndex(levels=[[3933, 23, 3782, 203, 4459,...\n",
       "95      MultiIndex(levels=[[3933, 23, 3782, 203, 4459,...\n",
       "96      MultiIndex(levels=[[3933, 23, 3782, 203, 4459,...\n",
       "97      MultiIndex(levels=[[3933, 23, 3782, 203, 4459,...\n",
       "98      MultiIndex(levels=[[3933, 23, 3782, 203, 4459,...\n",
       "99      MultiIndex(levels=[[3933, 23, 3782, 203, 4459,...\n",
       "100     MultiIndex(levels=[[3933, 23, 3782, 203, 4459,...\n",
       "101     MultiIndex(levels=[[3933, 23, 3782, 203, 4459,...\n",
       "102     MultiIndex(levels=[[3933, 23, 3782, 203, 4459,...\n",
       "103     MultiIndex(levels=[[3933, 23, 3782, 203, 4459,...\n",
       "104     MultiIndex(levels=[[3933, 23, 3782, 203, 4459,...\n",
       "105     MultiIndex(levels=[[3933, 23, 3782, 203, 4459,...\n",
       "106     MultiIndex(levels=[[3933, 23, 3782, 203, 4459,...\n",
       "107     MultiIndex(levels=[[3933, 23, 3782, 203, 4459,...\n",
       "108     MultiIndex(levels=[[3933, 23, 3782, 203, 4459,...\n",
       "109     MultiIndex(levels=[[3933, 23, 3782, 203, 4459,...\n",
       "110     MultiIndex(levels=[[3933, 23, 3782, 203, 4459,...\n",
       "111     MultiIndex(levels=[[3933, 23, 3782, 203, 4459,...\n",
       "112     MultiIndex(levels=[[3933, 23, 3782, 203, 4459,...\n",
       "113     MultiIndex(levels=[[3933, 23, 3782, 203, 4459,...\n",
       "114     MultiIndex(levels=[[3933, 23, 3782, 203, 4459,...\n",
       "115     MultiIndex(levels=[[3933, 23, 3782, 203, 4459,...\n",
       "116     MultiIndex(levels=[[3933, 23, 3782, 203, 4459,...\n",
       "117     MultiIndex(levels=[[3933, 23, 3782, 203, 4459,...\n",
       "118     MultiIndex(levels=[[3933, 23, 3782, 203, 4459,...\n",
       "119     MultiIndex(levels=[[3933, 23, 3782, 203, 4459,...\n",
       "120     MultiIndex(levels=[[3933, 23, 3782, 203, 4459,...\n",
       "121     MultiIndex(levels=[[3933, 23, 3782, 203, 4459,...\n",
       "122     MultiIndex(levels=[[3933, 23, 3782, 203, 4459,...\n",
       "123     MultiIndex(levels=[[3933, 23, 3782, 203, 4459,...\n",
       "124     MultiIndex(levels=[[3933, 23, 3782, 203, 4459,...\n",
       "125     MultiIndex(levels=[[3933, 23, 3782, 203, 4459,...\n",
       "126     MultiIndex(levels=[[3933, 23, 3782, 203, 4459,...\n",
       "127     MultiIndex(levels=[[3933, 23, 3782, 203, 4459,...\n",
       "128     MultiIndex(levels=[[3933, 23, 3782, 203, 4459,...\n",
       "129     MultiIndex(levels=[[3933, 23, 3782, 203, 4459,...\n",
       "130     MultiIndex(levels=[[3933, 23, 3782, 203, 4459,...\n",
       "131     MultiIndex(levels=[[3933, 23, 3782, 203, 4459,...\n",
       "132     MultiIndex(levels=[[3933, 23, 3782, 203, 4459,...\n",
       "133     MultiIndex(levels=[[3933, 23, 3782, 203, 4459,...\n",
       "134     MultiIndex(levels=[[3933, 23, 3782, 203, 4459,...\n",
       "135     MultiIndex(levels=[[3933, 23, 3782, 203, 4459,...\n",
       "136     MultiIndex(levels=[[3933, 23, 3782, 203, 4459,...\n",
       "137     MultiIndex(levels=[[3933, 23, 3782, 203, 4459,...\n",
       "138     MultiIndex(levels=[[3933, 23, 3782, 203, 4459,...\n",
       "139     MultiIndex(levels=[[3933, 23, 3782, 203, 4459,...\n",
       "140     MultiIndex(levels=[[3933, 23, 3782, 203, 4459,...\n",
       "141     MultiIndex(levels=[[3933, 23, 3782, 203, 4459,...\n",
       "142     MultiIndex(levels=[[3933, 23, 3782, 203, 4459,...\n",
       "143     MultiIndex(levels=[[3933, 23, 3782, 203, 4459,...\n",
       "144     MultiIndex(levels=[[3933, 23, 3782, 203, 4459,...\n",
       "145     MultiIndex(levels=[[3933, 23, 3782, 203, 4459,...\n",
       "146     MultiIndex(levels=[[3933, 23, 3782, 203, 4459,...\n",
       "147     MultiIndex(levels=[[3933, 23, 3782, 203, 4459,...\n",
       "148     MultiIndex(levels=[[3933, 23, 3782, 203, 4459,...\n",
       "149     MultiIndex(levels=[[3933, 23, 3782, 203, 4459,...\n",
       "150     MultiIndex(levels=[[3933, 23, 3782, 203, 4459,...\n",
       "151     MultiIndex(levels=[[3933, 23, 3782, 203, 4459,...\n",
       "152     MultiIndex(levels=[[3933, 23, 3782, 203, 4459,...\n",
       "153     MultiIndex(levels=[[3933, 23, 3782, 203, 4459,...\n",
       "154     MultiIndex(levels=[[3933, 23, 3782, 203, 4459,...\n",
       "155     MultiIndex(levels=[[3933, 23, 3782, 203, 4459,...\n",
       "156     MultiIndex(levels=[[3933, 23, 3782, 203, 4459,...\n",
       "157     MultiIndex(levels=[[3933, 23, 3782, 203, 4459,...\n",
       "158     MultiIndex(levels=[[3933, 23, 3782, 203, 4459,...\n",
       "159     MultiIndex(levels=[[3933, 23, 3782, 203, 4459,...\n",
       "160     MultiIndex(levels=[[3933, 23, 3782, 203, 4459,...\n",
       "161     MultiIndex(levels=[[3933, 23, 3782, 203, 4459,...\n",
       "162     MultiIndex(levels=[[3933, 23, 3782, 203, 4459,...\n",
       "163     MultiIndex(levels=[[3933, 23, 3782, 203, 4459,...\n",
       "164     MultiIndex(levels=[[3933, 23, 3782, 203, 4459,...\n",
       "165     MultiIndex(levels=[[3933, 23, 3782, 203, 4459,...\n",
       "166     MultiIndex(levels=[[3933, 23, 3782, 203, 4459,...\n",
       "167     MultiIndex(levels=[[3933, 23, 3782, 203, 4459,...\n",
       "168     MultiIndex(levels=[[3933, 23, 3782, 203, 4459,...\n",
       "169     MultiIndex(levels=[[3933, 23, 3782, 203, 4459,...\n",
       "170     MultiIndex(levels=[[3933, 23, 3782, 203, 4459,...\n",
       "171     MultiIndex(levels=[[3933, 23, 3782, 203, 4459,...\n",
       "172     MultiIndex(levels=[[3933, 23, 3782, 203, 4459,...\n",
       "173     MultiIndex(levels=[[3933, 23, 3782, 203, 4459,...\n",
       "174     MultiIndex(levels=[[3933, 23, 3782, 203, 4459,...\n",
       "175     MultiIndex(levels=[[3933, 23, 3782, 203, 4459,...\n",
       "176     MultiIndex(levels=[[3933, 23, 3782, 203, 4459,...\n",
       "177     MultiIndex(levels=[[3933, 23, 3782, 203, 4459,...\n",
       "178     MultiIndex(levels=[[3933, 23, 3782, 203, 4459,...\n",
       "179     MultiIndex(levels=[[3933, 23, 3782, 203, 4459,...\n",
       "180     MultiIndex(levels=[[3933, 23, 3782, 203, 4459,...\n",
       "181     MultiIndex(levels=[[3933, 23, 3782, 203, 4459,...\n",
       "182     MultiIndex(levels=[[3933, 23, 3782, 203, 4459,...\n",
       "183     MultiIndex(levels=[[3933, 23, 3782, 203, 4459,...\n",
       "184     MultiIndex(levels=[[3933, 23, 3782, 203, 4459,...\n",
       "185     MultiIndex(levels=[[3933, 23, 3782, 203, 4459,...\n",
       "186     MultiIndex(levels=[[3933, 23, 3782, 203, 4459,...\n",
       "187     MultiIndex(levels=[[3933, 23, 3782, 203, 4459,...\n",
       "188     MultiIndex(levels=[[3933, 23, 3782, 203, 4459,...\n",
       "189     MultiIndex(levels=[[3933, 23, 3782, 203, 4459,...\n",
       "190     MultiIndex(levels=[[3933, 23, 3782, 203, 4459,...\n",
       "191     MultiIndex(levels=[[3933, 23, 3782, 203, 4459,...\n",
       "192     MultiIndex(levels=[[3933, 23, 3782, 203, 4459,...\n",
       "193     MultiIndex(levels=[[3933, 23, 3782, 203, 4459,...\n",
       "194     MultiIndex(levels=[[3933, 23, 3782, 203, 4459,...\n",
       "195     MultiIndex(levels=[[3933, 23, 3782, 203, 4459,...\n",
       "196     MultiIndex(levels=[[3933, 23, 3782, 203, 4459,...\n",
       "197     MultiIndex(levels=[[3933, 23, 3782, 203, 4459,...\n",
       "198     MultiIndex(levels=[[3933, 23, 3782, 203, 4459,...\n",
       "199     MultiIndex(levels=[[3933, 23, 3782, 203, 4459,...\n",
       "200     MultiIndex(levels=[[3933, 23, 3782, 203, 4459,...\n",
       "201     MultiIndex(levels=[[3933, 23, 3782, 203, 4459,...\n",
       "202     MultiIndex(levels=[[3933, 23, 3782, 203, 4459,...\n",
       "203     MultiIndex(levels=[[3933, 23, 3782, 203, 4459,...\n",
       "204     MultiIndex(levels=[[3933, 23, 3782, 203, 4459,...\n",
       "205     MultiIndex(levels=[[3933, 23, 3782, 203, 4459,...\n",
       "206     MultiIndex(levels=[[3933, 23, 3782, 203, 4459,...\n",
       "207     MultiIndex(levels=[[3933, 23, 3782, 203, 4459,...\n",
       "208     MultiIndex(levels=[[3933, 23, 3782, 203, 4459,...\n",
       "209     MultiIndex(levels=[[3933, 23, 3782, 203, 4459,...\n",
       "210     MultiIndex(levels=[[3933, 23, 3782, 203, 4459,...\n",
       "211     MultiIndex(levels=[[3933, 23, 3782, 203, 4459,...\n",
       "212     MultiIndex(levels=[[3933, 23, 3782, 203, 4459,...\n",
       "213     MultiIndex(levels=[[3933, 23, 3782, 203, 4459,...\n",
       "214     MultiIndex(levels=[[3933, 23, 3782, 203, 4459,...\n",
       "215     MultiIndex(levels=[[3933, 23, 3782, 203, 4459,...\n",
       "216     MultiIndex(levels=[[3933, 23, 3782, 203, 4459,...\n",
       "217     MultiIndex(levels=[[3933, 23, 3782, 203, 4459,...\n",
       "218     MultiIndex(levels=[[3933, 23, 3782, 203, 4459,...\n",
       "219     MultiIndex(levels=[[3933, 23, 3782, 203, 4459,...\n",
       "220     MultiIndex(levels=[[3933, 23, 3782, 203, 4459,...\n",
       "221     MultiIndex(levels=[[3933, 23, 3782, 203, 4459,...\n",
       "222     MultiIndex(levels=[[3933, 23, 3782, 203, 4459,...\n",
       "223     MultiIndex(levels=[[3933, 23, 3782, 203, 4459,...\n",
       "224     MultiIndex(levels=[[3933, 23, 3782, 203, 4459,...\n",
       "225     MultiIndex(levels=[[3933, 23, 3782, 203, 4459,...\n",
       "226     MultiIndex(levels=[[3933, 23, 3782, 203, 4459,...\n",
       "227     MultiIndex(levels=[[3933, 23, 3782, 203, 4459,...\n",
       "228     MultiIndex(levels=[[3933, 23, 3782, 203, 4459,...\n",
       "229     MultiIndex(levels=[[3933, 23, 3782, 203, 4459,...\n",
       "230     MultiIndex(levels=[[3933, 23, 3782, 203, 4459,...\n",
       "231     MultiIndex(levels=[[3933, 23, 3782, 203, 4459,...\n",
       "232     MultiIndex(levels=[[3933, 23, 3782, 203, 4459,...\n",
       "233     MultiIndex(levels=[[3933, 23, 3782, 203, 4459,...\n",
       "234     MultiIndex(levels=[[3933, 23, 3782, 203, 4459,...\n",
       "235     MultiIndex(levels=[[3933, 23, 3782, 203, 4459,...\n",
       "236     MultiIndex(levels=[[3933, 23, 3782, 203, 4459,...\n",
       "237     MultiIndex(levels=[[3933, 23, 3782, 203, 4459,...\n",
       "238     MultiIndex(levels=[[3933, 23, 3782, 203, 4459,...\n",
       "239     MultiIndex(levels=[[3933, 23, 3782, 203, 4459,...\n",
       "240     MultiIndex(levels=[[3933, 23, 3782, 203, 4459,...\n",
       "241     MultiIndex(levels=[[3933, 23, 3782, 203, 4459,...\n",
       "242     MultiIndex(levels=[[3933, 23, 3782, 203, 4459,...\n",
       "243     MultiIndex(levels=[[3933, 23, 3782, 203, 4459,...\n",
       "244     MultiIndex(levels=[[3933, 23, 3782, 203, 4459,...\n",
       "245     MultiIndex(levels=[[3933, 23, 3782, 203, 4459,...\n",
       "246     MultiIndex(levels=[[3933, 23, 3782, 203, 4459,...\n",
       "247     MultiIndex(levels=[[3933, 23, 3782, 203, 4459,...\n",
       "248     MultiIndex(levels=[[3933, 23, 3782, 203, 4459,...\n",
       "249     MultiIndex(levels=[[3933, 23, 3782, 203, 4459,...\n",
       "250     MultiIndex(levels=[[3933, 23, 3782, 203, 4459,...\n",
       "251     MultiIndex(levels=[[3933, 23, 3782, 203, 4459,...\n",
       "                              ...                        \n",
       "4900    MultiIndex(levels=[[3933, 23, 3782, 203, 4459,...\n",
       "4901    MultiIndex(levels=[[3933, 23, 3782, 203, 4459,...\n",
       "4902    MultiIndex(levels=[[3933, 23, 3782, 203, 4459,...\n",
       "4903    MultiIndex(levels=[[3933, 23, 3782, 203, 4459,...\n",
       "4904    MultiIndex(levels=[[3933, 23, 3782, 203, 4459,...\n",
       "4905    MultiIndex(levels=[[3933, 23, 3782, 203, 4459,...\n",
       "4906    MultiIndex(levels=[[3933, 23, 3782, 203, 4459,...\n",
       "4907    MultiIndex(levels=[[3933, 23, 3782, 203, 4459,...\n",
       "4908    MultiIndex(levels=[[3933, 23, 3782, 203, 4459,...\n",
       "4909    MultiIndex(levels=[[3933, 23, 3782, 203, 4459,...\n",
       "4910    MultiIndex(levels=[[3933, 23, 3782, 203, 4459,...\n",
       "4911    MultiIndex(levels=[[3933, 23, 3782, 203, 4459,...\n",
       "4912    MultiIndex(levels=[[3933, 23, 3782, 203, 4459,...\n",
       "4913    MultiIndex(levels=[[3933, 23, 3782, 203, 4459,...\n",
       "4914    MultiIndex(levels=[[3933, 23, 3782, 203, 4459,...\n",
       "4915    MultiIndex(levels=[[3933, 23, 3782, 203, 4459,...\n",
       "4916    MultiIndex(levels=[[3933, 23, 3782, 203, 4459,...\n",
       "4917    MultiIndex(levels=[[3933, 23, 3782, 203, 4459,...\n",
       "4918    MultiIndex(levels=[[3933, 23, 3782, 203, 4459,...\n",
       "4919    MultiIndex(levels=[[3933, 23, 3782, 203, 4459,...\n",
       "4920    MultiIndex(levels=[[3933, 23, 3782, 203, 4459,...\n",
       "4921    MultiIndex(levels=[[3933, 23, 3782, 203, 4459,...\n",
       "4922    MultiIndex(levels=[[3933, 23, 3782, 203, 4459,...\n",
       "4923    MultiIndex(levels=[[3933, 23, 3782, 203, 4459,...\n",
       "4924    MultiIndex(levels=[[3933, 23, 3782, 203, 4459,...\n",
       "4925    MultiIndex(levels=[[3933, 23, 3782, 203, 4459,...\n",
       "4926    MultiIndex(levels=[[3933, 23, 3782, 203, 4459,...\n",
       "4927    MultiIndex(levels=[[3933, 23, 3782, 203, 4459,...\n",
       "4928    MultiIndex(levels=[[3933, 23, 3782, 203, 4459,...\n",
       "4929    MultiIndex(levels=[[3933, 23, 3782, 203, 4459,...\n",
       "4930    MultiIndex(levels=[[3933, 23, 3782, 203, 4459,...\n",
       "4931    MultiIndex(levels=[[3933, 23, 3782, 203, 4459,...\n",
       "4932    MultiIndex(levels=[[3933, 23, 3782, 203, 4459,...\n",
       "4933    MultiIndex(levels=[[3933, 23, 3782, 203, 4459,...\n",
       "4934    MultiIndex(levels=[[3933, 23, 3782, 203, 4459,...\n",
       "4935    MultiIndex(levels=[[3933, 23, 3782, 203, 4459,...\n",
       "4936    MultiIndex(levels=[[3933, 23, 3782, 203, 4459,...\n",
       "4937    MultiIndex(levels=[[3933, 23, 3782, 203, 4459,...\n",
       "4938    MultiIndex(levels=[[3933, 23, 3782, 203, 4459,...\n",
       "4939    MultiIndex(levels=[[3933, 23, 3782, 203, 4459,...\n",
       "4940    MultiIndex(levels=[[3933, 23, 3782, 203, 4459,...\n",
       "4941    MultiIndex(levels=[[3933, 23, 3782, 203, 4459,...\n",
       "4942    MultiIndex(levels=[[3933, 23, 3782, 203, 4459,...\n",
       "4943    MultiIndex(levels=[[3933, 23, 3782, 203, 4459,...\n",
       "4944    MultiIndex(levels=[[3933, 23, 3782, 203, 4459,...\n",
       "4945    MultiIndex(levels=[[3933, 23, 3782, 203, 4459,...\n",
       "4946    MultiIndex(levels=[[3933, 23, 3782, 203, 4459,...\n",
       "4947    MultiIndex(levels=[[3933, 23, 3782, 203, 4459,...\n",
       "4948    MultiIndex(levels=[[3933, 23, 3782, 203, 4459,...\n",
       "4949    MultiIndex(levels=[[3933, 23, 3782, 203, 4459,...\n",
       "4950    MultiIndex(levels=[[3933, 23, 3782, 203, 4459,...\n",
       "4951    MultiIndex(levels=[[3933, 23, 3782, 203, 4459,...\n",
       "4952    MultiIndex(levels=[[3933, 23, 3782, 203, 4459,...\n",
       "4953    MultiIndex(levels=[[3933, 23, 3782, 203, 4459,...\n",
       "4954    MultiIndex(levels=[[3933, 23, 3782, 203, 4459,...\n",
       "4955    MultiIndex(levels=[[3933, 23, 3782, 203, 4459,...\n",
       "4956    MultiIndex(levels=[[3933, 23, 3782, 203, 4459,...\n",
       "4957    MultiIndex(levels=[[3933, 23, 3782, 203, 4459,...\n",
       "4958    MultiIndex(levels=[[3933, 23, 3782, 203, 4459,...\n",
       "4959    MultiIndex(levels=[[3933, 23, 3782, 203, 4459,...\n",
       "4960    MultiIndex(levels=[[3933, 23, 3782, 203, 4459,...\n",
       "4961    MultiIndex(levels=[[3933, 23, 3782, 203, 4459,...\n",
       "4962    MultiIndex(levels=[[3933, 23, 3782, 203, 4459,...\n",
       "4963    MultiIndex(levels=[[3933, 23, 3782, 203, 4459,...\n",
       "4964    MultiIndex(levels=[[3933, 23, 3782, 203, 4459,...\n",
       "4965    MultiIndex(levels=[[3933, 23, 3782, 203, 4459,...\n",
       "4966    MultiIndex(levels=[[3933, 23, 3782, 203, 4459,...\n",
       "4967    MultiIndex(levels=[[3933, 23, 3782, 203, 4459,...\n",
       "4968    MultiIndex(levels=[[3933, 23, 3782, 203, 4459,...\n",
       "4969    MultiIndex(levels=[[3933, 23, 3782, 203, 4459,...\n",
       "4970    MultiIndex(levels=[[3933, 23, 3782, 203, 4459,...\n",
       "4971    MultiIndex(levels=[[3933, 23, 3782, 203, 4459,...\n",
       "4972    MultiIndex(levels=[[3933, 23, 3782, 203, 4459,...\n",
       "4973    MultiIndex(levels=[[3933, 23, 3782, 203, 4459,...\n",
       "4974    MultiIndex(levels=[[3933, 23, 3782, 203, 4459,...\n",
       "4975    MultiIndex(levels=[[3933, 23, 3782, 203, 4459,...\n",
       "4976    MultiIndex(levels=[[3933, 23, 3782, 203, 4459,...\n",
       "4977    MultiIndex(levels=[[3933, 23, 3782, 203, 4459,...\n",
       "4978    MultiIndex(levels=[[3933, 23, 3782, 203, 4459,...\n",
       "4979    MultiIndex(levels=[[3933, 23, 3782, 203, 4459,...\n",
       "4980    MultiIndex(levels=[[3933, 23, 3782, 203, 4459,...\n",
       "4981    MultiIndex(levels=[[3933, 23, 3782, 203, 4459,...\n",
       "4982    MultiIndex(levels=[[3933, 23, 3782, 203, 4459,...\n",
       "4983    MultiIndex(levels=[[3933, 23, 3782, 203, 4459,...\n",
       "4984    MultiIndex(levels=[[3933, 23, 3782, 203, 4459,...\n",
       "4985    MultiIndex(levels=[[3933, 23, 3782, 203, 4459,...\n",
       "4986    MultiIndex(levels=[[3933, 23, 3782, 203, 4459,...\n",
       "4987    MultiIndex(levels=[[3933, 23, 3782, 203, 4459,...\n",
       "4988    MultiIndex(levels=[[3933, 23, 3782, 203, 4459,...\n",
       "4989    MultiIndex(levels=[[3933, 23, 3782, 203, 4459,...\n",
       "4990    MultiIndex(levels=[[3933, 23, 3782, 203, 4459,...\n",
       "4991    MultiIndex(levels=[[3933, 23, 3782, 203, 4459,...\n",
       "4992    MultiIndex(levels=[[3933, 23, 3782, 203, 4459,...\n",
       "4993    MultiIndex(levels=[[3933, 23, 3782, 203, 4459,...\n",
       "4994    MultiIndex(levels=[[3933, 23, 3782, 203, 4459,...\n",
       "4995    MultiIndex(levels=[[3933, 23, 3782, 203, 4459,...\n",
       "4996    MultiIndex(levels=[[3933, 23, 3782, 203, 4459,...\n",
       "4997    MultiIndex(levels=[[3933, 23, 3782, 203, 4459,...\n",
       "4998    MultiIndex(levels=[[3933, 23, 3782, 203, 4459,...\n",
       "4999    MultiIndex(levels=[[3933, 23, 3782, 203, 4459,...\n",
       "5000    MultiIndex(levels=[[3933, 23, 3782, 203, 4459,...\n",
       "5001    MultiIndex(levels=[[3933, 23, 3782, 203, 4459,...\n",
       "5002    MultiIndex(levels=[[3933, 23, 3782, 203, 4459,...\n",
       "5003    MultiIndex(levels=[[3933, 23, 3782, 203, 4459,...\n",
       "5004    MultiIndex(levels=[[3933, 23, 3782, 203, 4459,...\n",
       "5005    MultiIndex(levels=[[3933, 23, 3782, 203, 4459,...\n",
       "5006    MultiIndex(levels=[[3933, 23, 3782, 203, 4459,...\n",
       "5007    MultiIndex(levels=[[3933, 23, 3782, 203, 4459,...\n",
       "5008    MultiIndex(levels=[[3933, 23, 3782, 203, 4459,...\n",
       "5009    MultiIndex(levels=[[3933, 23, 3782, 203, 4459,...\n",
       "5010    MultiIndex(levels=[[3933, 23, 3782, 203, 4459,...\n",
       "5011    MultiIndex(levels=[[3933, 23, 3782, 203, 4459,...\n",
       "5012    MultiIndex(levels=[[3933, 23, 3782, 203, 4459,...\n",
       "5013    MultiIndex(levels=[[3933, 23, 3782, 203, 4459,...\n",
       "5014    MultiIndex(levels=[[3933, 23, 3782, 203, 4459,...\n",
       "5015    MultiIndex(levels=[[3933, 23, 3782, 203, 4459,...\n",
       "5016    MultiIndex(levels=[[3933, 23, 3782, 203, 4459,...\n",
       "5017    MultiIndex(levels=[[3933, 23, 3782, 203, 4459,...\n",
       "5018    MultiIndex(levels=[[3933, 23, 3782, 203, 4459,...\n",
       "5019    MultiIndex(levels=[[3933, 23, 3782, 203, 4459,...\n",
       "5020    MultiIndex(levels=[[3933, 23, 3782, 203, 4459,...\n",
       "5021    MultiIndex(levels=[[3933, 23, 3782, 203, 4459,...\n",
       "5022    MultiIndex(levels=[[3933, 23, 3782, 203, 4459,...\n",
       "5023    MultiIndex(levels=[[3933, 23, 3782, 203, 4459,...\n",
       "5024    MultiIndex(levels=[[3933, 23, 3782, 203, 4459,...\n",
       "5025    MultiIndex(levels=[[3933, 23, 3782, 203, 4459,...\n",
       "5026    MultiIndex(levels=[[3933, 23, 3782, 203, 4459,...\n",
       "5027    MultiIndex(levels=[[3933, 23, 3782, 203, 4459,...\n",
       "5028    MultiIndex(levels=[[3933, 23, 3782, 203, 4459,...\n",
       "5029    MultiIndex(levels=[[3933, 23, 3782, 203, 4459,...\n",
       "5030    MultiIndex(levels=[[3933, 23, 3782, 203, 4459,...\n",
       "5031    MultiIndex(levels=[[3933, 23, 3782, 203, 4459,...\n",
       "5032    MultiIndex(levels=[[3933, 23, 3782, 203, 4459,...\n",
       "5033    MultiIndex(levels=[[3933, 23, 3782, 203, 4459,...\n",
       "5034    MultiIndex(levels=[[3933, 23, 3782, 203, 4459,...\n",
       "5035    MultiIndex(levels=[[3933, 23, 3782, 203, 4459,...\n",
       "5036    MultiIndex(levels=[[3933, 23, 3782, 203, 4459,...\n",
       "5037    MultiIndex(levels=[[3933, 23, 3782, 203, 4459,...\n",
       "5038    MultiIndex(levels=[[3933, 23, 3782, 203, 4459,...\n",
       "5039    MultiIndex(levels=[[3933, 23, 3782, 203, 4459,...\n",
       "5040    MultiIndex(levels=[[3933, 23, 3782, 203, 4459,...\n",
       "5041    MultiIndex(levels=[[3933, 23, 3782, 203, 4459,...\n",
       "5042    MultiIndex(levels=[[3933, 23, 3782, 203, 4459,...\n",
       "5043    MultiIndex(levels=[[3933, 23, 3782, 203, 4459,...\n",
       "5044    MultiIndex(levels=[[3933, 23, 3782, 203, 4459,...\n",
       "5045    MultiIndex(levels=[[3933, 23, 3782, 203, 4459,...\n",
       "5046    MultiIndex(levels=[[3933, 23, 3782, 203, 4459,...\n",
       "5047    MultiIndex(levels=[[3933, 23, 3782, 203, 4459,...\n",
       "5048    MultiIndex(levels=[[3933, 23, 3782, 203, 4459,...\n",
       "5049    MultiIndex(levels=[[3933, 23, 3782, 203, 4459,...\n",
       "5050    MultiIndex(levels=[[3933, 23, 3782, 203, 4459,...\n",
       "5051    MultiIndex(levels=[[3933, 23, 3782, 203, 4459,...\n",
       "5052    MultiIndex(levels=[[3933, 23, 3782, 203, 4459,...\n",
       "5053    MultiIndex(levels=[[3933, 23, 3782, 203, 4459,...\n",
       "5054    MultiIndex(levels=[[3933, 23, 3782, 203, 4459,...\n",
       "5055    MultiIndex(levels=[[3933, 23, 3782, 203, 4459,...\n",
       "5056    MultiIndex(levels=[[3933, 23, 3782, 203, 4459,...\n",
       "5057    MultiIndex(levels=[[3933, 23, 3782, 203, 4459,...\n",
       "5058    MultiIndex(levels=[[3933, 23, 3782, 203, 4459,...\n",
       "5059    MultiIndex(levels=[[3933, 23, 3782, 203, 4459,...\n",
       "5060    MultiIndex(levels=[[3933, 23, 3782, 203, 4459,...\n",
       "5061    MultiIndex(levels=[[3933, 23, 3782, 203, 4459,...\n",
       "5062    MultiIndex(levels=[[3933, 23, 3782, 203, 4459,...\n",
       "5063    MultiIndex(levels=[[3933, 23, 3782, 203, 4459,...\n",
       "5064    MultiIndex(levels=[[3933, 23, 3782, 203, 4459,...\n",
       "5065    MultiIndex(levels=[[3933, 23, 3782, 203, 4459,...\n",
       "5066    MultiIndex(levels=[[3933, 23, 3782, 203, 4459,...\n",
       "5067    MultiIndex(levels=[[3933, 23, 3782, 203, 4459,...\n",
       "5068    MultiIndex(levels=[[3933, 23, 3782, 203, 4459,...\n",
       "5069    MultiIndex(levels=[[3933, 23, 3782, 203, 4459,...\n",
       "5070    MultiIndex(levels=[[3933, 23, 3782, 203, 4459,...\n",
       "5071    MultiIndex(levels=[[3933, 23, 3782, 203, 4459,...\n",
       "5072    MultiIndex(levels=[[3933, 23, 3782, 203, 4459,...\n",
       "5073    MultiIndex(levels=[[3933, 23, 3782, 203, 4459,...\n",
       "5074    MultiIndex(levels=[[3933, 23, 3782, 203, 4459,...\n",
       "5075    MultiIndex(levels=[[3933, 23, 3782, 203, 4459,...\n",
       "5076    MultiIndex(levels=[[3933, 23, 3782, 203, 4459,...\n",
       "5077    MultiIndex(levels=[[3933, 23, 3782, 203, 4459,...\n",
       "5078    MultiIndex(levels=[[3933, 23, 3782, 203, 4459,...\n",
       "5079    MultiIndex(levels=[[3933, 23, 3782, 203, 4459,...\n",
       "5080    MultiIndex(levels=[[3933, 23, 3782, 203, 4459,...\n",
       "5081    MultiIndex(levels=[[3933, 23, 3782, 203, 4459,...\n",
       "5082    MultiIndex(levels=[[3933, 23, 3782, 203, 4459,...\n",
       "5083    MultiIndex(levels=[[3933, 23, 3782, 203, 4459,...\n",
       "5084    MultiIndex(levels=[[3933, 23, 3782, 203, 4459,...\n",
       "5085    MultiIndex(levels=[[3933, 23, 3782, 203, 4459,...\n",
       "5086    MultiIndex(levels=[[3933, 23, 3782, 203, 4459,...\n",
       "5087    MultiIndex(levels=[[3933, 23, 3782, 203, 4459,...\n",
       "5088    MultiIndex(levels=[[3933, 23, 3782, 203, 4459,...\n",
       "5089    MultiIndex(levels=[[3933, 23, 3782, 203, 4459,...\n",
       "5090    MultiIndex(levels=[[3933, 23, 3782, 203, 4459,...\n",
       "5091    MultiIndex(levels=[[3933, 23, 3782, 203, 4459,...\n",
       "5092    MultiIndex(levels=[[3933, 23, 3782, 203, 4459,...\n",
       "5093    MultiIndex(levels=[[3933, 23, 3782, 203, 4459,...\n",
       "5094    MultiIndex(levels=[[3933, 23, 3782, 203, 4459,...\n",
       "5095    MultiIndex(levels=[[3933, 23, 3782, 203, 4459,...\n",
       "5096    MultiIndex(levels=[[3933, 23, 3782, 203, 4459,...\n",
       "5097    MultiIndex(levels=[[3933, 23, 3782, 203, 4459,...\n",
       "5098    MultiIndex(levels=[[3933, 23, 3782, 203, 4459,...\n",
       "5099    MultiIndex(levels=[[3933, 23, 3782, 203, 4459,...\n",
       "5100    MultiIndex(levels=[[3933, 23, 3782, 203, 4459,...\n",
       "5101    MultiIndex(levels=[[3933, 23, 3782, 203, 4459,...\n",
       "5102    MultiIndex(levels=[[3933, 23, 3782, 203, 4459,...\n",
       "5103    MultiIndex(levels=[[3933, 23, 3782, 203, 4459,...\n",
       "5104    MultiIndex(levels=[[3933, 23, 3782, 203, 4459,...\n",
       "5105    MultiIndex(levels=[[3933, 23, 3782, 203, 4459,...\n",
       "5106    MultiIndex(levels=[[3933, 23, 3782, 203, 4459,...\n",
       "5107    MultiIndex(levels=[[3933, 23, 3782, 203, 4459,...\n",
       "5108    MultiIndex(levels=[[3933, 23, 3782, 203, 4459,...\n",
       "5109    MultiIndex(levels=[[3933, 23, 3782, 203, 4459,...\n",
       "5110    MultiIndex(levels=[[3933, 23, 3782, 203, 4459,...\n",
       "5111    MultiIndex(levels=[[3933, 23, 3782, 203, 4459,...\n",
       "5112    MultiIndex(levels=[[3933, 23, 3782, 203, 4459,...\n",
       "5113    MultiIndex(levels=[[3933, 23, 3782, 203, 4459,...\n",
       "5114    MultiIndex(levels=[[3933, 23, 3782, 203, 4459,...\n",
       "5115    MultiIndex(levels=[[3933, 23, 3782, 203, 4459,...\n",
       "5116    MultiIndex(levels=[[3933, 23, 3782, 203, 4459,...\n",
       "5117    MultiIndex(levels=[[3933, 23, 3782, 203, 4459,...\n",
       "5118    MultiIndex(levels=[[3933, 23, 3782, 203, 4459,...\n",
       "5119    MultiIndex(levels=[[3933, 23, 3782, 203, 4459,...\n",
       "5120    MultiIndex(levels=[[3933, 23, 3782, 203, 4459,...\n",
       "5121    MultiIndex(levels=[[3933, 23, 3782, 203, 4459,...\n",
       "5122    MultiIndex(levels=[[3933, 23, 3782, 203, 4459,...\n",
       "5123    MultiIndex(levels=[[3933, 23, 3782, 203, 4459,...\n",
       "5124    MultiIndex(levels=[[3933, 23, 3782, 203, 4459,...\n",
       "5125    MultiIndex(levels=[[3933, 23, 3782, 203, 4459,...\n",
       "5126    MultiIndex(levels=[[3933, 23, 3782, 203, 4459,...\n",
       "5127    MultiIndex(levels=[[3933, 23, 3782, 203, 4459,...\n",
       "5128    MultiIndex(levels=[[3933, 23, 3782, 203, 4459,...\n",
       "5129    MultiIndex(levels=[[3933, 23, 3782, 203, 4459,...\n",
       "5130    MultiIndex(levels=[[3933, 23, 3782, 203, 4459,...\n",
       "5131    MultiIndex(levels=[[3933, 23, 3782, 203, 4459,...\n",
       "5132    MultiIndex(levels=[[3933, 23, 3782, 203, 4459,...\n",
       "5133    MultiIndex(levels=[[3933, 23, 3782, 203, 4459,...\n",
       "5134    MultiIndex(levels=[[3933, 23, 3782, 203, 4459,...\n",
       "5135    MultiIndex(levels=[[3933, 23, 3782, 203, 4459,...\n",
       "5136    MultiIndex(levels=[[3933, 23, 3782, 203, 4459,...\n",
       "5137    MultiIndex(levels=[[3933, 23, 3782, 203, 4459,...\n",
       "5138    MultiIndex(levels=[[3933, 23, 3782, 203, 4459,...\n",
       "5139    MultiIndex(levels=[[3933, 23, 3782, 203, 4459,...\n",
       "5140    MultiIndex(levels=[[3933, 23, 3782, 203, 4459,...\n",
       "5141    MultiIndex(levels=[[3933, 23, 3782, 203, 4459,...\n",
       "5142    MultiIndex(levels=[[3933, 23, 3782, 203, 4459,...\n",
       "5143    MultiIndex(levels=[[3933, 23, 3782, 203, 4459,...\n",
       "5144    MultiIndex(levels=[[3933, 23, 3782, 203, 4459,...\n",
       "5145    MultiIndex(levels=[[3933, 23, 3782, 203, 4459,...\n",
       "5146    MultiIndex(levels=[[3933, 23, 3782, 203, 4459,...\n",
       "5147    MultiIndex(levels=[[3933, 23, 3782, 203, 4459,...\n",
       "5148    MultiIndex(levels=[[3933, 23, 3782, 203, 4459,...\n",
       "5149    MultiIndex(levels=[[3933, 23, 3782, 203, 4459,...\n",
       "Length: 5148, dtype: object"
      ]
     },
     "execution_count": 222,
     "metadata": {},
     "output_type": "execute_result"
    }
   ],
   "source": [
    "df_3.groupby(level=0).apply(lambda x: x.index)"
   ]
  },
  {
   "cell_type": "code",
   "execution_count": 185,
   "metadata": {},
   "outputs": [
    {
     "data": {
      "text/plain": [
       "83"
      ]
     },
     "execution_count": 185,
     "metadata": {},
     "output_type": "execute_result"
    }
   ],
   "source": [
    "rank_articles[268.0]"
   ]
  },
  {
   "cell_type": "code",
   "execution_count": 188,
   "metadata": {},
   "outputs": [
    {
     "data": {
      "text/html": [
       "<div>\n",
       "<style scoped>\n",
       "    .dataframe tbody tr th:only-of-type {\n",
       "        vertical-align: middle;\n",
       "    }\n",
       "\n",
       "    .dataframe tbody tr th {\n",
       "        vertical-align: top;\n",
       "    }\n",
       "\n",
       "    .dataframe thead th {\n",
       "        text-align: right;\n",
       "    }\n",
       "</style>\n",
       "<table border=\"1\" class=\"dataframe\">\n",
       "  <thead>\n",
       "    <tr style=\"text-align: right;\">\n",
       "      <th></th>\n",
       "      <th></th>\n",
       "      <th>article_id</th>\n",
       "      <th>rank_article</th>\n",
       "    </tr>\n",
       "    <tr>\n",
       "      <th>user_id</th>\n",
       "      <th>index_1</th>\n",
       "      <th></th>\n",
       "      <th></th>\n",
       "    </tr>\n",
       "  </thead>\n",
       "  <tbody>\n",
       "    <tr>\n",
       "      <th rowspan=\"5\" valign=\"top\">3933</th>\n",
       "      <th>0</th>\n",
       "      <td>43.0</td>\n",
       "      <td>9</td>\n",
       "    </tr>\n",
       "    <tr>\n",
       "      <th>1</th>\n",
       "      <td>109.0</td>\n",
       "      <td>43</td>\n",
       "    </tr>\n",
       "    <tr>\n",
       "      <th>2</th>\n",
       "      <td>268.0</td>\n",
       "      <td>83</td>\n",
       "    </tr>\n",
       "    <tr>\n",
       "      <th>3</th>\n",
       "      <td>310.0</td>\n",
       "      <td>136</td>\n",
       "    </tr>\n",
       "    <tr>\n",
       "      <th>4</th>\n",
       "      <td>329.0</td>\n",
       "      <td>182</td>\n",
       "    </tr>\n",
       "  </tbody>\n",
       "</table>\n",
       "</div>"
      ],
      "text/plain": [
       "                 article_id  rank_article\n",
       "user_id index_1                          \n",
       "3933    0              43.0             9\n",
       "        1             109.0            43\n",
       "        2             268.0            83\n",
       "        3             310.0           136\n",
       "        4             329.0           182"
      ]
     },
     "execution_count": 188,
     "metadata": {},
     "output_type": "execute_result"
    }
   ],
   "source": [
    "#df_3.loc[3933,:]\n",
    "#df_3['article_id']\n",
    "df_3['rank_article'] = df_3['article_id'].map(rank_articles)\n",
    "df_3.head()"
   ]
  },
  {
   "cell_type": "markdown",
   "metadata": {},
   "source": [
    "## Code Bank"
   ]
  },
  {
   "cell_type": "code",
   "execution_count": null,
   "metadata": {},
   "outputs": [],
   "source": [
    "#df_2 = df_.set_index(['user_id'])\n",
    "#df_2.index.get_level_values(0)\n",
    "#df_.set_index('user_id').apply(lambda x: get_articles(x.index), axis=1)\n",
    "#df_.set_index('user_id').apply(lambda x: x.clip(x.name['user_id']))\n",
    "\n",
    "#df_['article_id'] = df_.apply(lambda x: get_articles(x.user_id), axis=1)\n",
    "#pd.DataFrame(df_.apply(lambda x: get_articles(x.user_id), axis=1).tolist()).stack()\n",
    "df_ = user_item.dot(target_array).to_frame('similarity').reset_index()\n",
    "#df_['article_list'] = df_.apply(lambda x: get_articles(x.user_id), axis=1)\n",
    "#df_['article_list'] = \n",
    "df_['num_interactions'] = df_.apply(lambda x: len(get_articles(x.user_id)), axis=1)\n",
    "\n",
    "df_.sort_values(['similarity','num_interactions'], ascending=False).reset_index()\n",
    "#df_ = df_.join(df_['article_list'].apply(pd.Series)).drop('article_list', axis=1)\n",
    "#df_2 = df_.set_index('user_id')\n",
    "#df_.head()\n",
    "#df_2.head()\n",
    "#pd.melt(df_, id_vars=['user_id'], value_vars=df_.columns[1:])\n",
    "#pd.melt(df_, id_vars=['user_id'])\n",
    "#type(df_2)\n",
    "#df_.set_index('user_id')['article_id'].apply(lambda x: pd.Series(x[0]))\n",
    "#df_['article_id'].apply(lambda x: pd.Series(x[0])).stack().reset_index(level=1, drop=True).\\\n",
    "#to_frame('article_id').join(df_, how='right', lsuffix='_left', rsuffix='_right')"
   ]
  },
  {
   "cell_type": "code",
   "execution_count": null,
   "metadata": {},
   "outputs": [],
   "source": [
    "#df_.merge(pd.DataFrame(df_2), left_index=True, right_index=True)\n",
    "df_.join(pd.DataFrame(df_2))\n",
    "#pd.DataFrame(df_.apply(lambda x: get_articles(x['user_id'])).tolist()).stack()\n",
    "#pd.DataFrame(df_.apply(lambda x: get_articles(x['user_id'])))\n",
    "#df_2.head()\n",
    "#df_2.reset_index()\n",
    "#df_.MultiIndex.join(df_2, how='left', level=0)"
   ]
  },
  {
   "cell_type": "code",
   "execution_count": null,
   "metadata": {},
   "outputs": [],
   "source": [
    "#pd.DataFrame(df_.groupby(['user_id']).apply(lambda x: get_articles(x.user_id)).tolist()).stack()\n"
   ]
  },
  {
   "cell_type": "code",
   "execution_count": null,
   "metadata": {},
   "outputs": [],
   "source": [
    "df_ = df_.join(pd.DataFrame(df_.user_id.apply(lambda x: get_articles(x)).tolist()))"
   ]
  },
  {
   "cell_type": "code",
   "execution_count": null,
   "metadata": {},
   "outputs": [],
   "source": [
    "df_.head()"
   ]
  },
  {
   "cell_type": "code",
   "execution_count": null,
   "metadata": {},
   "outputs": [],
   "source": [
    "df_.columns[2:]"
   ]
  },
  {
   "cell_type": "code",
   "execution_count": null,
   "metadata": {},
   "outputs": [],
   "source": [
    "pd.melt(df_, value_vars=df_.columns[2:])"
   ]
  },
  {
   "cell_type": "code",
   "execution_count": null,
   "metadata": {},
   "outputs": [],
   "source": []
  },
  {
   "cell_type": "code",
   "execution_count": null,
   "metadata": {},
   "outputs": [],
   "source": [
    "user_id = 1\n",
    "target_array = user_item.iloc[user_id-1,:].values\n",
    "df_ = user_item.dot(target_array).sort_values(ascending=False).to_frame('similarity').reset_index()\n",
    "df_user_article = df2.groupby('user_id').size().to_frame('user-interaction').reset_index()\n",
    "df_.merge(df_user_article, left_on='user_id', right_on='user_id')\n",
    "df_article_view = df2.groupby('article_id').size().to_frame('article-interaction').reset_index()\n",
    "df_article_view.head()\n",
    "#df_.merge(df_article_view, left_on='article_id', right_on='article_id')\n",
    "#df_group.head()"
   ]
  },
  {
   "cell_type": "code",
   "execution_count": null,
   "metadata": {},
   "outputs": [],
   "source": []
  }
 ],
 "metadata": {
  "kernelspec": {
   "display_name": "Python 3",
   "language": "python",
   "name": "python3"
  },
  "language_info": {
   "codemirror_mode": {
    "name": "ipython",
    "version": 3
   },
   "file_extension": ".py",
   "mimetype": "text/x-python",
   "name": "python",
   "nbconvert_exporter": "python",
   "pygments_lexer": "ipython3",
   "version": "3.6.8"
  }
 },
 "nbformat": 4,
 "nbformat_minor": 2
}
