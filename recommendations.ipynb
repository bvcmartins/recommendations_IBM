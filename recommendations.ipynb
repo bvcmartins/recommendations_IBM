{
 "cells": [
  {
   "cell_type": "markdown",
   "metadata": {},
   "source": [
    "# Recommendations with IBM\n",
    "\n",
    "In this notebook, you will be putting your recommendation skills to use on real data from the IBM Watson Studio platform. \n",
    "\n",
    "\n",
    "You may either submit your notebook through the workspace here, or you may work from your local machine and submit through the next page.  Either way assure that your code passes the project [RUBRIC](https://review.udacity.com/#!/rubrics/2322/view).  **Please save regularly.**\n",
    "\n",
    "By following the table of contents, you will build out a number of different methods for making recommendations that can be used for different situations. \n",
    "\n",
    "\n",
    "## Table of Contents\n",
    "\n",
    "I. [Exploratory Data Analysis](#Exploratory-Data-Analysis)<br>\n",
    "II. [Rank Based Recommendations](#Rank)<br>\n",
    "III. [User-User Based Collaborative Filtering](#User-User)<br>\n",
    "IV. [Content Based Recommendations (EXTRA - NOT REQUIRED)](#Content-Recs)<br>\n",
    "V. [Matrix Factorization](#Matrix-Fact)<br>\n",
    "VI. [Extras & Concluding](#conclusions)\n",
    "\n",
    "At the end of the notebook, you will find directions for how to submit your work.  Let's get started by importing the necessary libraries and reading in the data."
   ]
  },
  {
   "cell_type": "code",
   "execution_count": 287,
   "metadata": {},
   "outputs": [],
   "source": [
    "import pandas as pd\n",
    "import numpy as np\n",
    "import matplotlib.pyplot as plt\n",
    "%matplotlib inline\n",
    "\n",
    "import project_tests as t\n",
    "\n",
    "import itertools\n",
    "from difflib import SequenceMatcher"
   ]
  },
  {
   "cell_type": "code",
   "execution_count": 222,
   "metadata": {},
   "outputs": [],
   "source": [
    "pd.set_option('display.max_rows', 500)\n",
    "pd.set_option('display.max_columns', 500)\n",
    "pd.set_option('display.width', 1000)"
   ]
  },
  {
   "cell_type": "markdown",
   "metadata": {},
   "source": [
    "#### Load user-item interactions file"
   ]
  },
  {
   "cell_type": "code",
   "execution_count": 296,
   "metadata": {},
   "outputs": [
    {
     "data": {
      "text/html": [
       "<div>\n",
       "<style scoped>\n",
       "    .dataframe tbody tr th:only-of-type {\n",
       "        vertical-align: middle;\n",
       "    }\n",
       "\n",
       "    .dataframe tbody tr th {\n",
       "        vertical-align: top;\n",
       "    }\n",
       "\n",
       "    .dataframe thead th {\n",
       "        text-align: right;\n",
       "    }\n",
       "</style>\n",
       "<table border=\"1\" class=\"dataframe\">\n",
       "  <thead>\n",
       "    <tr style=\"text-align: right;\">\n",
       "      <th></th>\n",
       "      <th>article_id</th>\n",
       "      <th>title</th>\n",
       "      <th>email</th>\n",
       "    </tr>\n",
       "  </thead>\n",
       "  <tbody>\n",
       "    <tr>\n",
       "      <th>0</th>\n",
       "      <td>1430.0</td>\n",
       "      <td>using pixiedust for fast, flexible, and easier...</td>\n",
       "      <td>ef5f11f77ba020cd36e1105a00ab868bbdbf7fe7</td>\n",
       "    </tr>\n",
       "    <tr>\n",
       "      <th>1</th>\n",
       "      <td>1314.0</td>\n",
       "      <td>healthcare python streaming application demo</td>\n",
       "      <td>083cbdfa93c8444beaa4c5f5e0f5f9198e4f9e0b</td>\n",
       "    </tr>\n",
       "    <tr>\n",
       "      <th>2</th>\n",
       "      <td>1429.0</td>\n",
       "      <td>use deep learning for image classification</td>\n",
       "      <td>b96a4f2e92d8572034b1e9b28f9ac673765cd074</td>\n",
       "    </tr>\n",
       "    <tr>\n",
       "      <th>3</th>\n",
       "      <td>1338.0</td>\n",
       "      <td>ml optimization using cognitive assistant</td>\n",
       "      <td>06485706b34a5c9bf2a0ecdac41daf7e7654ceb7</td>\n",
       "    </tr>\n",
       "    <tr>\n",
       "      <th>4</th>\n",
       "      <td>1276.0</td>\n",
       "      <td>deploy your python model as a restful api</td>\n",
       "      <td>f01220c46fc92c6e6b161b1849de11faacd7ccb2</td>\n",
       "    </tr>\n",
       "  </tbody>\n",
       "</table>\n",
       "</div>"
      ],
      "text/plain": [
       "   article_id                                              title                                     email\n",
       "0      1430.0  using pixiedust for fast, flexible, and easier...  ef5f11f77ba020cd36e1105a00ab868bbdbf7fe7\n",
       "1      1314.0       healthcare python streaming application demo  083cbdfa93c8444beaa4c5f5e0f5f9198e4f9e0b\n",
       "2      1429.0         use deep learning for image classification  b96a4f2e92d8572034b1e9b28f9ac673765cd074\n",
       "3      1338.0          ml optimization using cognitive assistant  06485706b34a5c9bf2a0ecdac41daf7e7654ceb7\n",
       "4      1276.0          deploy your python model as a restful api  f01220c46fc92c6e6b161b1849de11faacd7ccb2"
      ]
     },
     "execution_count": 296,
     "metadata": {},
     "output_type": "execute_result"
    }
   ],
   "source": [
    "df = pd.read_csv('data/user-item-interactions.csv')\n",
    "df.drop('Unnamed: 0', axis=1, inplace=True)\n",
    "df.head()"
   ]
  },
  {
   "cell_type": "markdown",
   "metadata": {},
   "source": [
    "#### Check number of unique users"
   ]
  },
  {
   "cell_type": "code",
   "execution_count": 297,
   "metadata": {},
   "outputs": [
    {
     "data": {
      "text/plain": [
       "5149"
      ]
     },
     "execution_count": 297,
     "metadata": {},
     "output_type": "execute_result"
    }
   ],
   "source": [
    "df.email.unique().shape[0]"
   ]
  },
  {
   "cell_type": "markdown",
   "metadata": {},
   "source": [
    "#### There are missing emails"
   ]
  },
  {
   "cell_type": "code",
   "execution_count": 298,
   "metadata": {},
   "outputs": [
    {
     "data": {
      "text/html": [
       "<div>\n",
       "<style scoped>\n",
       "    .dataframe tbody tr th:only-of-type {\n",
       "        vertical-align: middle;\n",
       "    }\n",
       "\n",
       "    .dataframe tbody tr th {\n",
       "        vertical-align: top;\n",
       "    }\n",
       "\n",
       "    .dataframe thead th {\n",
       "        text-align: right;\n",
       "    }\n",
       "</style>\n",
       "<table border=\"1\" class=\"dataframe\">\n",
       "  <thead>\n",
       "    <tr style=\"text-align: right;\">\n",
       "      <th></th>\n",
       "      <th>article_id</th>\n",
       "      <th>title</th>\n",
       "      <th>email</th>\n",
       "    </tr>\n",
       "  </thead>\n",
       "  <tbody>\n",
       "    <tr>\n",
       "      <th>25131</th>\n",
       "      <td>1016.0</td>\n",
       "      <td>why you should master r (even if it might even...</td>\n",
       "      <td>NaN</td>\n",
       "    </tr>\n",
       "    <tr>\n",
       "      <th>29758</th>\n",
       "      <td>1393.0</td>\n",
       "      <td>the nurse assignment problem</td>\n",
       "      <td>NaN</td>\n",
       "    </tr>\n",
       "    <tr>\n",
       "      <th>29759</th>\n",
       "      <td>20.0</td>\n",
       "      <td>working interactively with rstudio and noteboo...</td>\n",
       "      <td>NaN</td>\n",
       "    </tr>\n",
       "    <tr>\n",
       "      <th>29760</th>\n",
       "      <td>1174.0</td>\n",
       "      <td>breast cancer wisconsin (diagnostic) data set</td>\n",
       "      <td>NaN</td>\n",
       "    </tr>\n",
       "    <tr>\n",
       "      <th>29761</th>\n",
       "      <td>62.0</td>\n",
       "      <td>data visualization: the importance of excludin...</td>\n",
       "      <td>NaN</td>\n",
       "    </tr>\n",
       "    <tr>\n",
       "      <th>35264</th>\n",
       "      <td>224.0</td>\n",
       "      <td>using apply, sapply, lapply in r</td>\n",
       "      <td>NaN</td>\n",
       "    </tr>\n",
       "    <tr>\n",
       "      <th>35276</th>\n",
       "      <td>961.0</td>\n",
       "      <td>beyond parallelize and collect</td>\n",
       "      <td>NaN</td>\n",
       "    </tr>\n",
       "    <tr>\n",
       "      <th>35277</th>\n",
       "      <td>268.0</td>\n",
       "      <td>sector correlations shiny app</td>\n",
       "      <td>NaN</td>\n",
       "    </tr>\n",
       "    <tr>\n",
       "      <th>35278</th>\n",
       "      <td>268.0</td>\n",
       "      <td>sector correlations shiny app</td>\n",
       "      <td>NaN</td>\n",
       "    </tr>\n",
       "    <tr>\n",
       "      <th>35279</th>\n",
       "      <td>268.0</td>\n",
       "      <td>sector correlations shiny app</td>\n",
       "      <td>NaN</td>\n",
       "    </tr>\n",
       "    <tr>\n",
       "      <th>35280</th>\n",
       "      <td>268.0</td>\n",
       "      <td>sector correlations shiny app</td>\n",
       "      <td>NaN</td>\n",
       "    </tr>\n",
       "    <tr>\n",
       "      <th>35281</th>\n",
       "      <td>415.0</td>\n",
       "      <td>using machine learning to predict value of hom...</td>\n",
       "      <td>NaN</td>\n",
       "    </tr>\n",
       "    <tr>\n",
       "      <th>35282</th>\n",
       "      <td>846.0</td>\n",
       "      <td>pearson correlation aggregation on sparksql</td>\n",
       "      <td>NaN</td>\n",
       "    </tr>\n",
       "    <tr>\n",
       "      <th>35283</th>\n",
       "      <td>268.0</td>\n",
       "      <td>sector correlations shiny app</td>\n",
       "      <td>NaN</td>\n",
       "    </tr>\n",
       "    <tr>\n",
       "      <th>35284</th>\n",
       "      <td>162.0</td>\n",
       "      <td>an introduction to stock market data analysis ...</td>\n",
       "      <td>NaN</td>\n",
       "    </tr>\n",
       "    <tr>\n",
       "      <th>42749</th>\n",
       "      <td>647.0</td>\n",
       "      <td>getting started with apache mahout</td>\n",
       "      <td>NaN</td>\n",
       "    </tr>\n",
       "    <tr>\n",
       "      <th>42750</th>\n",
       "      <td>965.0</td>\n",
       "      <td>data visualization playbook: revisiting the ba...</td>\n",
       "      <td>NaN</td>\n",
       "    </tr>\n",
       "  </tbody>\n",
       "</table>\n",
       "</div>"
      ],
      "text/plain": [
       "       article_id                                              title email\n",
       "25131      1016.0  why you should master r (even if it might even...   NaN\n",
       "29758      1393.0                       the nurse assignment problem   NaN\n",
       "29759        20.0  working interactively with rstudio and noteboo...   NaN\n",
       "29760      1174.0      breast cancer wisconsin (diagnostic) data set   NaN\n",
       "29761        62.0  data visualization: the importance of excludin...   NaN\n",
       "35264       224.0                   using apply, sapply, lapply in r   NaN\n",
       "35276       961.0                     beyond parallelize and collect   NaN\n",
       "35277       268.0                      sector correlations shiny app   NaN\n",
       "35278       268.0                      sector correlations shiny app   NaN\n",
       "35279       268.0                      sector correlations shiny app   NaN\n",
       "35280       268.0                      sector correlations shiny app   NaN\n",
       "35281       415.0  using machine learning to predict value of hom...   NaN\n",
       "35282       846.0        pearson correlation aggregation on sparksql   NaN\n",
       "35283       268.0                      sector correlations shiny app   NaN\n",
       "35284       162.0  an introduction to stock market data analysis ...   NaN\n",
       "42749       647.0                 getting started with apache mahout   NaN\n",
       "42750       965.0  data visualization playbook: revisiting the ba...   NaN"
      ]
     },
     "execution_count": 298,
     "metadata": {},
     "output_type": "execute_result"
    }
   ],
   "source": [
    "df[df.email.isnull()]"
   ]
  },
  {
   "cell_type": "markdown",
   "metadata": {},
   "source": [
    "#### Load contents file"
   ]
  },
  {
   "cell_type": "code",
   "execution_count": 299,
   "metadata": {},
   "outputs": [
    {
     "data": {
      "text/html": [
       "<div>\n",
       "<style scoped>\n",
       "    .dataframe tbody tr th:only-of-type {\n",
       "        vertical-align: middle;\n",
       "    }\n",
       "\n",
       "    .dataframe tbody tr th {\n",
       "        vertical-align: top;\n",
       "    }\n",
       "\n",
       "    .dataframe thead th {\n",
       "        text-align: right;\n",
       "    }\n",
       "</style>\n",
       "<table border=\"1\" class=\"dataframe\">\n",
       "  <thead>\n",
       "    <tr style=\"text-align: right;\">\n",
       "      <th></th>\n",
       "      <th>doc_body</th>\n",
       "      <th>doc_description</th>\n",
       "      <th>doc_full_name</th>\n",
       "      <th>doc_status</th>\n",
       "      <th>article_id</th>\n",
       "    </tr>\n",
       "  </thead>\n",
       "  <tbody>\n",
       "    <tr>\n",
       "      <th>0</th>\n",
       "      <td>Skip navigation Sign in SearchLoading...\\r\\n\\r...</td>\n",
       "      <td>Detect bad readings in real time using Python ...</td>\n",
       "      <td>Detect Malfunctioning IoT Sensors with Streami...</td>\n",
       "      <td>Live</td>\n",
       "      <td>0</td>\n",
       "    </tr>\n",
       "    <tr>\n",
       "      <th>1</th>\n",
       "      <td>No Free Hunch Navigation * kaggle.com\\r\\n\\r\\n ...</td>\n",
       "      <td>See the forest, see the trees. Here lies the c...</td>\n",
       "      <td>Communicating data science: A guide to present...</td>\n",
       "      <td>Live</td>\n",
       "      <td>1</td>\n",
       "    </tr>\n",
       "    <tr>\n",
       "      <th>2</th>\n",
       "      <td>☰ * Login\\r\\n * Sign Up\\r\\n\\r\\n * Learning Pat...</td>\n",
       "      <td>Here’s this week’s news in Data Science and Bi...</td>\n",
       "      <td>This Week in Data Science (April 18, 2017)</td>\n",
       "      <td>Live</td>\n",
       "      <td>2</td>\n",
       "    </tr>\n",
       "    <tr>\n",
       "      <th>3</th>\n",
       "      <td>DATALAYER: HIGH THROUGHPUT, LOW LATENCY AT SCA...</td>\n",
       "      <td>Learn how distributed DBs solve the problem of...</td>\n",
       "      <td>DataLayer Conference: Boost the performance of...</td>\n",
       "      <td>Live</td>\n",
       "      <td>3</td>\n",
       "    </tr>\n",
       "    <tr>\n",
       "      <th>4</th>\n",
       "      <td>Skip navigation Sign in SearchLoading...\\r\\n\\r...</td>\n",
       "      <td>This video demonstrates the power of IBM DataS...</td>\n",
       "      <td>Analyze NY Restaurant data using Spark in DSX</td>\n",
       "      <td>Live</td>\n",
       "      <td>4</td>\n",
       "    </tr>\n",
       "  </tbody>\n",
       "</table>\n",
       "</div>"
      ],
      "text/plain": [
       "                                            doc_body                                    doc_description                                      doc_full_name doc_status  article_id\n",
       "0  Skip navigation Sign in SearchLoading...\\r\\n\\r...  Detect bad readings in real time using Python ...  Detect Malfunctioning IoT Sensors with Streami...       Live           0\n",
       "1  No Free Hunch Navigation * kaggle.com\\r\\n\\r\\n ...  See the forest, see the trees. Here lies the c...  Communicating data science: A guide to present...       Live           1\n",
       "2  ☰ * Login\\r\\n * Sign Up\\r\\n\\r\\n * Learning Pat...  Here’s this week’s news in Data Science and Bi...         This Week in Data Science (April 18, 2017)       Live           2\n",
       "3  DATALAYER: HIGH THROUGHPUT, LOW LATENCY AT SCA...  Learn how distributed DBs solve the problem of...  DataLayer Conference: Boost the performance of...       Live           3\n",
       "4  Skip navigation Sign in SearchLoading...\\r\\n\\r...  This video demonstrates the power of IBM DataS...      Analyze NY Restaurant data using Spark in DSX       Live           4"
      ]
     },
     "execution_count": 299,
     "metadata": {},
     "output_type": "execute_result"
    }
   ],
   "source": [
    "df_content = pd.read_csv('data/articles_community.csv')\n",
    "df_content.drop('Unnamed: 0', axis=1, inplace=True)\n",
    "df_content.head()"
   ]
  },
  {
   "cell_type": "markdown",
   "metadata": {},
   "source": [
    "### <a class=\"anchor\" id=\"Exploratory-Data-Analysis\">Part I : Exploratory Data Analysis</a>\n",
    "\n",
    "Use the dictionary and cells below to provide some insight into the descriptive statistics of the data.\n",
    "\n",
    "`1.` What is the distribution of how many articles a user interacts with in the dataset?  Provide a visual and descriptive statistics to assist with giving a look at the number of times each user interacts with an article.  "
   ]
  },
  {
   "cell_type": "markdown",
   "metadata": {},
   "source": [
    "#### There are 5148 unique users with valid emails and 17 null emails that are grouped as a single email."
   ]
  },
  {
   "cell_type": "code",
   "execution_count": 348,
   "metadata": {},
   "outputs": [
    {
     "name": "stdout",
     "output_type": "stream",
     "text": [
      "Total email entries:  5149\n",
      "Null email entries:  17\n",
      "Valid users:  5148\n"
     ]
    }
   ],
   "source": [
    "total_email_entries = df.email.unique().shape[0] \n",
    "null_email_entries = df[df.email.isnull()].shape[0]\n",
    "print('Total email entries: ', total_email_entries)\n",
    "print('Null email entries: ', null_email_entries)\n",
    "print('Valid users: ', total_email_entries - 1)"
   ]
  },
  {
   "cell_type": "code",
   "execution_count": 349,
   "metadata": {},
   "outputs": [],
   "source": [
    "df.dropna(inplace=True)"
   ]
  },
  {
   "cell_type": "markdown",
   "metadata": {},
   "source": [
    "#### 50% of users interact with 3 articles. Outliers interacted with as many as 364 articles. "
   ]
  },
  {
   "cell_type": "code",
   "execution_count": 302,
   "metadata": {},
   "outputs": [
    {
     "data": {
      "text/html": [
       "<div>\n",
       "<style scoped>\n",
       "    .dataframe tbody tr th:only-of-type {\n",
       "        vertical-align: middle;\n",
       "    }\n",
       "\n",
       "    .dataframe tbody tr th {\n",
       "        vertical-align: top;\n",
       "    }\n",
       "\n",
       "    .dataframe thead th {\n",
       "        text-align: right;\n",
       "    }\n",
       "</style>\n",
       "<table border=\"1\" class=\"dataframe\">\n",
       "  <thead>\n",
       "    <tr style=\"text-align: right;\">\n",
       "      <th></th>\n",
       "      <th>number_articles</th>\n",
       "    </tr>\n",
       "  </thead>\n",
       "  <tbody>\n",
       "    <tr>\n",
       "      <th>count</th>\n",
       "      <td>5148.000000</td>\n",
       "    </tr>\n",
       "    <tr>\n",
       "      <th>mean</th>\n",
       "      <td>8.930847</td>\n",
       "    </tr>\n",
       "    <tr>\n",
       "      <th>std</th>\n",
       "      <td>16.802267</td>\n",
       "    </tr>\n",
       "    <tr>\n",
       "      <th>min</th>\n",
       "      <td>1.000000</td>\n",
       "    </tr>\n",
       "    <tr>\n",
       "      <th>25%</th>\n",
       "      <td>1.000000</td>\n",
       "    </tr>\n",
       "    <tr>\n",
       "      <th>50%</th>\n",
       "      <td>3.000000</td>\n",
       "    </tr>\n",
       "    <tr>\n",
       "      <th>75%</th>\n",
       "      <td>9.000000</td>\n",
       "    </tr>\n",
       "    <tr>\n",
       "      <th>max</th>\n",
       "      <td>364.000000</td>\n",
       "    </tr>\n",
       "  </tbody>\n",
       "</table>\n",
       "</div>"
      ],
      "text/plain": [
       "       number_articles\n",
       "count      5148.000000\n",
       "mean          8.930847\n",
       "std          16.802267\n",
       "min           1.000000\n",
       "25%           1.000000\n",
       "50%           3.000000\n",
       "75%           9.000000\n",
       "max         364.000000"
      ]
     },
     "execution_count": 302,
     "metadata": {},
     "output_type": "execute_result"
    }
   ],
   "source": [
    "df_ = df.groupby('email').agg({'article_id':'size'})\\\n",
    ".rename(columns={'article_id':'number_articles'})\n",
    "df_.describe()"
   ]
  },
  {
   "cell_type": "code",
   "execution_count": 303,
   "metadata": {},
   "outputs": [
    {
     "data": {
      "image/png": "[encoded data removed]",
      "text/plain": [
       "<Figure size 432x288 with 1 Axes>"
      ]
     },
     "metadata": {
      "needs_background": "light"
     },
     "output_type": "display_data"
    }
   ],
   "source": [
    "plt.hist(df_.number_articles, bins=30, log=True)\n",
    "plt.xlabel('Number of articles')\n",
    "plt.ylabel('Count')\n",
    "plt.title('Number of articles viewed by user');\n",
    "#df_.number_articles.hist(bins=30, log=True)"
   ]
  },
  {
   "cell_type": "code",
   "execution_count": 304,
   "metadata": {},
   "outputs": [
    {
     "data": {
      "text/plain": [
       "(3.0, 364)"
      ]
     },
     "execution_count": 304,
     "metadata": {},
     "output_type": "execute_result"
    }
   ],
   "source": [
    "# Fill in the median and maximum number of user_article interactios below\n",
    "\n",
    "median_val = df_.median()[0] # 50% of individuals interact with _ number of articles or fewer.\n",
    "max_views_by_user = df_.max()[0] # The maximum number of user-article interactions by any 1 user is _.\n",
    "median_val, max_views_by_user"
   ]
  },
  {
   "cell_type": "markdown",
   "metadata": {},
   "source": [
    "`2.` Explore and remove duplicate articles from the **df_content** dataframe.  "
   ]
  },
  {
   "cell_type": "markdown",
   "metadata": {},
   "source": [
    "#### No obvious duplicates. Shape is the same after drop_duplicates"
   ]
  },
  {
   "cell_type": "code",
   "execution_count": 305,
   "metadata": {},
   "outputs": [
    {
     "data": {
      "text/plain": [
       "((1056, 5), (1056, 5))"
      ]
     },
     "execution_count": 305,
     "metadata": {},
     "output_type": "execute_result"
    }
   ],
   "source": [
    "df_content.shape, df_content.drop_duplicates().shape"
   ]
  },
  {
   "cell_type": "markdown",
   "metadata": {},
   "source": [
    "#### There are article_id duplicates"
   ]
  },
  {
   "cell_type": "code",
   "execution_count": 306,
   "metadata": {},
   "outputs": [
    {
     "data": {
      "text/plain": [
       "(1051, 5)"
      ]
     },
     "execution_count": 306,
     "metadata": {},
     "output_type": "execute_result"
    }
   ],
   "source": [
    "df_content.drop_duplicates(subset=['article_id']).shape"
   ]
  },
  {
   "cell_type": "markdown",
   "metadata": {},
   "source": [
    "#### All were dropped except for the first occurrence"
   ]
  },
  {
   "cell_type": "code",
   "execution_count": 307,
   "metadata": {},
   "outputs": [],
   "source": [
    "df_content.drop_duplicates(subset=['article_id'], inplace=True)"
   ]
  },
  {
   "cell_type": "markdown",
   "metadata": {},
   "source": [
    "#### I can also see that articles 1 and 4 are close"
   ]
  },
  {
   "cell_type": "code",
   "execution_count": 308,
   "metadata": {},
   "outputs": [
    {
     "data": {
      "text/html": [
       "<div>\n",
       "<style scoped>\n",
       "    .dataframe tbody tr th:only-of-type {\n",
       "        vertical-align: middle;\n",
       "    }\n",
       "\n",
       "    .dataframe tbody tr th {\n",
       "        vertical-align: top;\n",
       "    }\n",
       "\n",
       "    .dataframe thead th {\n",
       "        text-align: right;\n",
       "    }\n",
       "</style>\n",
       "<table border=\"1\" class=\"dataframe\">\n",
       "  <thead>\n",
       "    <tr style=\"text-align: right;\">\n",
       "      <th></th>\n",
       "      <th>doc_body</th>\n",
       "      <th>doc_description</th>\n",
       "      <th>doc_full_name</th>\n",
       "      <th>doc_status</th>\n",
       "      <th>article_id</th>\n",
       "    </tr>\n",
       "  </thead>\n",
       "  <tbody>\n",
       "    <tr>\n",
       "      <th>0</th>\n",
       "      <td>Skip navigation Sign in SearchLoading...\\r\\n\\r...</td>\n",
       "      <td>Detect bad readings in real time using Python ...</td>\n",
       "      <td>Detect Malfunctioning IoT Sensors with Streami...</td>\n",
       "      <td>Live</td>\n",
       "      <td>0</td>\n",
       "    </tr>\n",
       "    <tr>\n",
       "      <th>1</th>\n",
       "      <td>No Free Hunch Navigation * kaggle.com\\r\\n\\r\\n ...</td>\n",
       "      <td>See the forest, see the trees. Here lies the c...</td>\n",
       "      <td>Communicating data science: A guide to present...</td>\n",
       "      <td>Live</td>\n",
       "      <td>1</td>\n",
       "    </tr>\n",
       "    <tr>\n",
       "      <th>2</th>\n",
       "      <td>☰ * Login\\r\\n * Sign Up\\r\\n\\r\\n * Learning Pat...</td>\n",
       "      <td>Here’s this week’s news in Data Science and Bi...</td>\n",
       "      <td>This Week in Data Science (April 18, 2017)</td>\n",
       "      <td>Live</td>\n",
       "      <td>2</td>\n",
       "    </tr>\n",
       "    <tr>\n",
       "      <th>3</th>\n",
       "      <td>DATALAYER: HIGH THROUGHPUT, LOW LATENCY AT SCA...</td>\n",
       "      <td>Learn how distributed DBs solve the problem of...</td>\n",
       "      <td>DataLayer Conference: Boost the performance of...</td>\n",
       "      <td>Live</td>\n",
       "      <td>3</td>\n",
       "    </tr>\n",
       "    <tr>\n",
       "      <th>4</th>\n",
       "      <td>Skip navigation Sign in SearchLoading...\\r\\n\\r...</td>\n",
       "      <td>This video demonstrates the power of IBM DataS...</td>\n",
       "      <td>Analyze NY Restaurant data using Spark in DSX</td>\n",
       "      <td>Live</td>\n",
       "      <td>4</td>\n",
       "    </tr>\n",
       "  </tbody>\n",
       "</table>\n",
       "</div>"
      ],
      "text/plain": [
       "                                            doc_body                                    doc_description                                      doc_full_name doc_status  article_id\n",
       "0  Skip navigation Sign in SearchLoading...\\r\\n\\r...  Detect bad readings in real time using Python ...  Detect Malfunctioning IoT Sensors with Streami...       Live           0\n",
       "1  No Free Hunch Navigation * kaggle.com\\r\\n\\r\\n ...  See the forest, see the trees. Here lies the c...  Communicating data science: A guide to present...       Live           1\n",
       "2  ☰ * Login\\r\\n * Sign Up\\r\\n\\r\\n * Learning Pat...  Here’s this week’s news in Data Science and Bi...         This Week in Data Science (April 18, 2017)       Live           2\n",
       "3  DATALAYER: HIGH THROUGHPUT, LOW LATENCY AT SCA...  Learn how distributed DBs solve the problem of...  DataLayer Conference: Boost the performance of...       Live           3\n",
       "4  Skip navigation Sign in SearchLoading...\\r\\n\\r...  This video demonstrates the power of IBM DataS...      Analyze NY Restaurant data using Spark in DSX       Live           4"
      ]
     },
     "execution_count": 308,
     "metadata": {},
     "output_type": "execute_result"
    }
   ],
   "source": [
    "df_content.head()"
   ]
  },
  {
   "cell_type": "markdown",
   "metadata": {},
   "source": [
    "#### They are 40% similar. Is that sufficient to consider them duplicates? I consider not."
   ]
  },
  {
   "cell_type": "code",
   "execution_count": 165,
   "metadata": {},
   "outputs": [
    {
     "data": {
      "text/plain": [
       "0.39732239257179874"
      ]
     },
     "execution_count": 165,
     "metadata": {},
     "output_type": "execute_result"
    }
   ],
   "source": [
    "SequenceMatcher(None, df_content.doc_body[0], df_content.doc_body[4]).ratio()"
   ]
  },
  {
   "cell_type": "markdown",
   "metadata": {},
   "source": [
    "#### Are there any highly-similar pairs?"
   ]
  },
  {
   "cell_type": "code",
   "execution_count": 212,
   "metadata": {},
   "outputs": [],
   "source": [
    "combinations = list(itertools.combinations(df_content.index, 2))\n",
    "#match_dict = {comb: SequenceMatcher(None, df_content.doc_body[comb[0]], df_content.doc_body[comb[1]]).ratio() for comb in combinations}\n",
    "match_list = [{'element_1':comb[0], 'element_2':comb[1], 'ratio': SequenceMatcher(None, df_content.doc_body[comb[0]], df_content.doc_body[comb[1]]).ratio()} for comb in combinations]"
   ]
  },
  {
   "cell_type": "code",
   "execution_count": 220,
   "metadata": {},
   "outputs": [
    {
     "data": {
      "text/plain": [
       "(100, 3)"
      ]
     },
     "metadata": {},
     "output_type": "display_data"
    },
    {
     "data": {
      "text/html": [
       "<div>\n",
       "<style scoped>\n",
       "    .dataframe tbody tr th:only-of-type {\n",
       "        vertical-align: middle;\n",
       "    }\n",
       "\n",
       "    .dataframe tbody tr th {\n",
       "        vertical-align: top;\n",
       "    }\n",
       "\n",
       "    .dataframe thead th {\n",
       "        text-align: right;\n",
       "    }\n",
       "</style>\n",
       "<table border=\"1\" class=\"dataframe\">\n",
       "  <thead>\n",
       "    <tr style=\"text-align: right;\">\n",
       "      <th></th>\n",
       "      <th>element_1</th>\n",
       "      <th>element_2</th>\n",
       "      <th>ratio</th>\n",
       "    </tr>\n",
       "  </thead>\n",
       "  <tbody>\n",
       "    <tr>\n",
       "      <th>34456</th>\n",
       "      <td>33</td>\n",
       "      <td>369</td>\n",
       "      <td>1.0</td>\n",
       "    </tr>\n",
       "    <tr>\n",
       "      <th>34970</th>\n",
       "      <td>33</td>\n",
       "      <td>885</td>\n",
       "      <td>1.0</td>\n",
       "    </tr>\n",
       "    <tr>\n",
       "      <th>35103</th>\n",
       "      <td>33</td>\n",
       "      <td>1020</td>\n",
       "      <td>1.0</td>\n",
       "    </tr>\n",
       "    <tr>\n",
       "      <th>195254</th>\n",
       "      <td>206</td>\n",
       "      <td>276</td>\n",
       "      <td>1.0</td>\n",
       "    </tr>\n",
       "    <tr>\n",
       "      <th>195461</th>\n",
       "      <td>206</td>\n",
       "      <td>484</td>\n",
       "      <td>1.0</td>\n",
       "    </tr>\n",
       "    <tr>\n",
       "      <th>195485</th>\n",
       "      <td>206</td>\n",
       "      <td>508</td>\n",
       "      <td>1.0</td>\n",
       "    </tr>\n",
       "    <tr>\n",
       "      <th>195517</th>\n",
       "      <td>206</td>\n",
       "      <td>540</td>\n",
       "      <td>1.0</td>\n",
       "    </tr>\n",
       "    <tr>\n",
       "      <th>195615</th>\n",
       "      <td>206</td>\n",
       "      <td>638</td>\n",
       "      <td>1.0</td>\n",
       "    </tr>\n",
       "    <tr>\n",
       "      <th>195644</th>\n",
       "      <td>206</td>\n",
       "      <td>667</td>\n",
       "      <td>1.0</td>\n",
       "    </tr>\n",
       "    <tr>\n",
       "      <th>195682</th>\n",
       "      <td>206</td>\n",
       "      <td>706</td>\n",
       "      <td>1.0</td>\n",
       "    </tr>\n",
       "    <tr>\n",
       "      <th>195817</th>\n",
       "      <td>206</td>\n",
       "      <td>842</td>\n",
       "      <td>1.0</td>\n",
       "    </tr>\n",
       "    <tr>\n",
       "      <th>195851</th>\n",
       "      <td>206</td>\n",
       "      <td>876</td>\n",
       "      <td>1.0</td>\n",
       "    </tr>\n",
       "    <tr>\n",
       "      <th>195864</th>\n",
       "      <td>206</td>\n",
       "      <td>889</td>\n",
       "      <td>1.0</td>\n",
       "    </tr>\n",
       "    <tr>\n",
       "      <th>195922</th>\n",
       "      <td>206</td>\n",
       "      <td>947</td>\n",
       "      <td>1.0</td>\n",
       "    </tr>\n",
       "    <tr>\n",
       "      <th>196010</th>\n",
       "      <td>206</td>\n",
       "      <td>1037</td>\n",
       "      <td>1.0</td>\n",
       "    </tr>\n",
       "    <tr>\n",
       "      <th>196027</th>\n",
       "      <td>206</td>\n",
       "      <td>1054</td>\n",
       "      <td>1.0</td>\n",
       "    </tr>\n",
       "    <tr>\n",
       "      <th>226782</th>\n",
       "      <td>244</td>\n",
       "      <td>474</td>\n",
       "      <td>1.0</td>\n",
       "    </tr>\n",
       "    <tr>\n",
       "      <th>252056</th>\n",
       "      <td>276</td>\n",
       "      <td>484</td>\n",
       "      <td>1.0</td>\n",
       "    </tr>\n",
       "    <tr>\n",
       "      <th>252080</th>\n",
       "      <td>276</td>\n",
       "      <td>508</td>\n",
       "      <td>1.0</td>\n",
       "    </tr>\n",
       "    <tr>\n",
       "      <th>252112</th>\n",
       "      <td>276</td>\n",
       "      <td>540</td>\n",
       "      <td>1.0</td>\n",
       "    </tr>\n",
       "    <tr>\n",
       "      <th>252210</th>\n",
       "      <td>276</td>\n",
       "      <td>638</td>\n",
       "      <td>1.0</td>\n",
       "    </tr>\n",
       "    <tr>\n",
       "      <th>252239</th>\n",
       "      <td>276</td>\n",
       "      <td>667</td>\n",
       "      <td>1.0</td>\n",
       "    </tr>\n",
       "    <tr>\n",
       "      <th>252277</th>\n",
       "      <td>276</td>\n",
       "      <td>706</td>\n",
       "      <td>1.0</td>\n",
       "    </tr>\n",
       "    <tr>\n",
       "      <th>252412</th>\n",
       "      <td>276</td>\n",
       "      <td>842</td>\n",
       "      <td>1.0</td>\n",
       "    </tr>\n",
       "    <tr>\n",
       "      <th>252446</th>\n",
       "      <td>276</td>\n",
       "      <td>876</td>\n",
       "      <td>1.0</td>\n",
       "    </tr>\n",
       "    <tr>\n",
       "      <th>252459</th>\n",
       "      <td>276</td>\n",
       "      <td>889</td>\n",
       "      <td>1.0</td>\n",
       "    </tr>\n",
       "    <tr>\n",
       "      <th>252517</th>\n",
       "      <td>276</td>\n",
       "      <td>947</td>\n",
       "      <td>1.0</td>\n",
       "    </tr>\n",
       "    <tr>\n",
       "      <th>252605</th>\n",
       "      <td>276</td>\n",
       "      <td>1037</td>\n",
       "      <td>1.0</td>\n",
       "    </tr>\n",
       "    <tr>\n",
       "      <th>252622</th>\n",
       "      <td>276</td>\n",
       "      <td>1054</td>\n",
       "      <td>1.0</td>\n",
       "    </tr>\n",
       "    <tr>\n",
       "      <th>319385</th>\n",
       "      <td>369</td>\n",
       "      <td>885</td>\n",
       "      <td>1.0</td>\n",
       "    </tr>\n",
       "    <tr>\n",
       "      <th>319518</th>\n",
       "      <td>369</td>\n",
       "      <td>1020</td>\n",
       "      <td>1.0</td>\n",
       "    </tr>\n",
       "    <tr>\n",
       "      <th>390770</th>\n",
       "      <td>484</td>\n",
       "      <td>508</td>\n",
       "      <td>1.0</td>\n",
       "    </tr>\n",
       "    <tr>\n",
       "      <th>390802</th>\n",
       "      <td>484</td>\n",
       "      <td>540</td>\n",
       "      <td>1.0</td>\n",
       "    </tr>\n",
       "    <tr>\n",
       "      <th>390900</th>\n",
       "      <td>484</td>\n",
       "      <td>638</td>\n",
       "      <td>1.0</td>\n",
       "    </tr>\n",
       "    <tr>\n",
       "      <th>390929</th>\n",
       "      <td>484</td>\n",
       "      <td>667</td>\n",
       "      <td>1.0</td>\n",
       "    </tr>\n",
       "    <tr>\n",
       "      <th>390967</th>\n",
       "      <td>484</td>\n",
       "      <td>706</td>\n",
       "      <td>1.0</td>\n",
       "    </tr>\n",
       "    <tr>\n",
       "      <th>391102</th>\n",
       "      <td>484</td>\n",
       "      <td>842</td>\n",
       "      <td>1.0</td>\n",
       "    </tr>\n",
       "    <tr>\n",
       "      <th>391136</th>\n",
       "      <td>484</td>\n",
       "      <td>876</td>\n",
       "      <td>1.0</td>\n",
       "    </tr>\n",
       "    <tr>\n",
       "      <th>391149</th>\n",
       "      <td>484</td>\n",
       "      <td>889</td>\n",
       "      <td>1.0</td>\n",
       "    </tr>\n",
       "    <tr>\n",
       "      <th>391207</th>\n",
       "      <td>484</td>\n",
       "      <td>947</td>\n",
       "      <td>1.0</td>\n",
       "    </tr>\n",
       "    <tr>\n",
       "      <th>391295</th>\n",
       "      <td>484</td>\n",
       "      <td>1037</td>\n",
       "      <td>1.0</td>\n",
       "    </tr>\n",
       "    <tr>\n",
       "      <th>391312</th>\n",
       "      <td>484</td>\n",
       "      <td>1054</td>\n",
       "      <td>1.0</td>\n",
       "    </tr>\n",
       "    <tr>\n",
       "      <th>404110</th>\n",
       "      <td>508</td>\n",
       "      <td>540</td>\n",
       "      <td>1.0</td>\n",
       "    </tr>\n",
       "    <tr>\n",
       "      <th>404208</th>\n",
       "      <td>508</td>\n",
       "      <td>638</td>\n",
       "      <td>1.0</td>\n",
       "    </tr>\n",
       "    <tr>\n",
       "      <th>404237</th>\n",
       "      <td>508</td>\n",
       "      <td>667</td>\n",
       "      <td>1.0</td>\n",
       "    </tr>\n",
       "    <tr>\n",
       "      <th>404275</th>\n",
       "      <td>508</td>\n",
       "      <td>706</td>\n",
       "      <td>1.0</td>\n",
       "    </tr>\n",
       "    <tr>\n",
       "      <th>404410</th>\n",
       "      <td>508</td>\n",
       "      <td>842</td>\n",
       "      <td>1.0</td>\n",
       "    </tr>\n",
       "    <tr>\n",
       "      <th>404444</th>\n",
       "      <td>508</td>\n",
       "      <td>876</td>\n",
       "      <td>1.0</td>\n",
       "    </tr>\n",
       "    <tr>\n",
       "      <th>404457</th>\n",
       "      <td>508</td>\n",
       "      <td>889</td>\n",
       "      <td>1.0</td>\n",
       "    </tr>\n",
       "    <tr>\n",
       "      <th>404515</th>\n",
       "      <td>508</td>\n",
       "      <td>947</td>\n",
       "      <td>1.0</td>\n",
       "    </tr>\n",
       "    <tr>\n",
       "      <th>404603</th>\n",
       "      <td>508</td>\n",
       "      <td>1037</td>\n",
       "      <td>1.0</td>\n",
       "    </tr>\n",
       "    <tr>\n",
       "      <th>404620</th>\n",
       "      <td>508</td>\n",
       "      <td>1054</td>\n",
       "      <td>1.0</td>\n",
       "    </tr>\n",
       "    <tr>\n",
       "      <th>421056</th>\n",
       "      <td>540</td>\n",
       "      <td>638</td>\n",
       "      <td>1.0</td>\n",
       "    </tr>\n",
       "    <tr>\n",
       "      <th>421085</th>\n",
       "      <td>540</td>\n",
       "      <td>667</td>\n",
       "      <td>1.0</td>\n",
       "    </tr>\n",
       "    <tr>\n",
       "      <th>421123</th>\n",
       "      <td>540</td>\n",
       "      <td>706</td>\n",
       "      <td>1.0</td>\n",
       "    </tr>\n",
       "    <tr>\n",
       "      <th>421258</th>\n",
       "      <td>540</td>\n",
       "      <td>842</td>\n",
       "      <td>1.0</td>\n",
       "    </tr>\n",
       "    <tr>\n",
       "      <th>421292</th>\n",
       "      <td>540</td>\n",
       "      <td>876</td>\n",
       "      <td>1.0</td>\n",
       "    </tr>\n",
       "    <tr>\n",
       "      <th>421305</th>\n",
       "      <td>540</td>\n",
       "      <td>889</td>\n",
       "      <td>1.0</td>\n",
       "    </tr>\n",
       "    <tr>\n",
       "      <th>421363</th>\n",
       "      <td>540</td>\n",
       "      <td>947</td>\n",
       "      <td>1.0</td>\n",
       "    </tr>\n",
       "    <tr>\n",
       "      <th>421451</th>\n",
       "      <td>540</td>\n",
       "      <td>1037</td>\n",
       "      <td>1.0</td>\n",
       "    </tr>\n",
       "    <tr>\n",
       "      <th>421468</th>\n",
       "      <td>540</td>\n",
       "      <td>1054</td>\n",
       "      <td>1.0</td>\n",
       "    </tr>\n",
       "    <tr>\n",
       "      <th>433060</th>\n",
       "      <td>564</td>\n",
       "      <td>678</td>\n",
       "      <td>1.0</td>\n",
       "    </tr>\n",
       "    <tr>\n",
       "      <th>466312</th>\n",
       "      <td>638</td>\n",
       "      <td>667</td>\n",
       "      <td>1.0</td>\n",
       "    </tr>\n",
       "    <tr>\n",
       "      <th>466350</th>\n",
       "      <td>638</td>\n",
       "      <td>706</td>\n",
       "      <td>1.0</td>\n",
       "    </tr>\n",
       "    <tr>\n",
       "      <th>466485</th>\n",
       "      <td>638</td>\n",
       "      <td>842</td>\n",
       "      <td>1.0</td>\n",
       "    </tr>\n",
       "    <tr>\n",
       "      <th>466519</th>\n",
       "      <td>638</td>\n",
       "      <td>876</td>\n",
       "      <td>1.0</td>\n",
       "    </tr>\n",
       "    <tr>\n",
       "      <th>466532</th>\n",
       "      <td>638</td>\n",
       "      <td>889</td>\n",
       "      <td>1.0</td>\n",
       "    </tr>\n",
       "    <tr>\n",
       "      <th>466590</th>\n",
       "      <td>638</td>\n",
       "      <td>947</td>\n",
       "      <td>1.0</td>\n",
       "    </tr>\n",
       "    <tr>\n",
       "      <th>466678</th>\n",
       "      <td>638</td>\n",
       "      <td>1037</td>\n",
       "      <td>1.0</td>\n",
       "    </tr>\n",
       "    <tr>\n",
       "      <th>466695</th>\n",
       "      <td>638</td>\n",
       "      <td>1054</td>\n",
       "      <td>1.0</td>\n",
       "    </tr>\n",
       "    <tr>\n",
       "      <th>477892</th>\n",
       "      <td>667</td>\n",
       "      <td>706</td>\n",
       "      <td>1.0</td>\n",
       "    </tr>\n",
       "    <tr>\n",
       "      <th>478027</th>\n",
       "      <td>667</td>\n",
       "      <td>842</td>\n",
       "      <td>1.0</td>\n",
       "    </tr>\n",
       "    <tr>\n",
       "      <th>478061</th>\n",
       "      <td>667</td>\n",
       "      <td>876</td>\n",
       "      <td>1.0</td>\n",
       "    </tr>\n",
       "    <tr>\n",
       "      <th>478074</th>\n",
       "      <td>667</td>\n",
       "      <td>889</td>\n",
       "      <td>1.0</td>\n",
       "    </tr>\n",
       "    <tr>\n",
       "      <th>478132</th>\n",
       "      <td>667</td>\n",
       "      <td>947</td>\n",
       "      <td>1.0</td>\n",
       "    </tr>\n",
       "    <tr>\n",
       "      <th>478220</th>\n",
       "      <td>667</td>\n",
       "      <td>1037</td>\n",
       "      <td>1.0</td>\n",
       "    </tr>\n",
       "    <tr>\n",
       "      <th>478237</th>\n",
       "      <td>667</td>\n",
       "      <td>1054</td>\n",
       "      <td>1.0</td>\n",
       "    </tr>\n",
       "    <tr>\n",
       "      <th>491878</th>\n",
       "      <td>706</td>\n",
       "      <td>842</td>\n",
       "      <td>1.0</td>\n",
       "    </tr>\n",
       "    <tr>\n",
       "      <th>491912</th>\n",
       "      <td>706</td>\n",
       "      <td>876</td>\n",
       "      <td>1.0</td>\n",
       "    </tr>\n",
       "    <tr>\n",
       "      <th>491925</th>\n",
       "      <td>706</td>\n",
       "      <td>889</td>\n",
       "      <td>1.0</td>\n",
       "    </tr>\n",
       "    <tr>\n",
       "      <th>491983</th>\n",
       "      <td>706</td>\n",
       "      <td>947</td>\n",
       "      <td>1.0</td>\n",
       "    </tr>\n",
       "    <tr>\n",
       "      <th>492071</th>\n",
       "      <td>706</td>\n",
       "      <td>1037</td>\n",
       "      <td>1.0</td>\n",
       "    </tr>\n",
       "    <tr>\n",
       "      <th>492088</th>\n",
       "      <td>706</td>\n",
       "      <td>1054</td>\n",
       "      <td>1.0</td>\n",
       "    </tr>\n",
       "    <tr>\n",
       "      <th>529442</th>\n",
       "      <td>842</td>\n",
       "      <td>876</td>\n",
       "      <td>1.0</td>\n",
       "    </tr>\n",
       "    <tr>\n",
       "      <th>529455</th>\n",
       "      <td>842</td>\n",
       "      <td>889</td>\n",
       "      <td>1.0</td>\n",
       "    </tr>\n",
       "    <tr>\n",
       "      <th>529513</th>\n",
       "      <td>842</td>\n",
       "      <td>947</td>\n",
       "      <td>1.0</td>\n",
       "    </tr>\n",
       "    <tr>\n",
       "      <th>529601</th>\n",
       "      <td>842</td>\n",
       "      <td>1037</td>\n",
       "      <td>1.0</td>\n",
       "    </tr>\n",
       "    <tr>\n",
       "      <th>529618</th>\n",
       "      <td>842</td>\n",
       "      <td>1054</td>\n",
       "      <td>1.0</td>\n",
       "    </tr>\n",
       "    <tr>\n",
       "      <th>536034</th>\n",
       "      <td>876</td>\n",
       "      <td>889</td>\n",
       "      <td>1.0</td>\n",
       "    </tr>\n",
       "    <tr>\n",
       "      <th>536092</th>\n",
       "      <td>876</td>\n",
       "      <td>947</td>\n",
       "      <td>1.0</td>\n",
       "    </tr>\n",
       "    <tr>\n",
       "      <th>536180</th>\n",
       "      <td>876</td>\n",
       "      <td>1037</td>\n",
       "      <td>1.0</td>\n",
       "    </tr>\n",
       "    <tr>\n",
       "      <th>536197</th>\n",
       "      <td>876</td>\n",
       "      <td>1054</td>\n",
       "      <td>1.0</td>\n",
       "    </tr>\n",
       "    <tr>\n",
       "      <th>537711</th>\n",
       "      <td>885</td>\n",
       "      <td>1020</td>\n",
       "      <td>1.0</td>\n",
       "    </tr>\n",
       "    <tr>\n",
       "      <th>538302</th>\n",
       "      <td>889</td>\n",
       "      <td>947</td>\n",
       "      <td>1.0</td>\n",
       "    </tr>\n",
       "    <tr>\n",
       "      <th>538390</th>\n",
       "      <td>889</td>\n",
       "      <td>1037</td>\n",
       "      <td>1.0</td>\n",
       "    </tr>\n",
       "    <tr>\n",
       "      <th>538407</th>\n",
       "      <td>889</td>\n",
       "      <td>1054</td>\n",
       "      <td>1.0</td>\n",
       "    </tr>\n",
       "    <tr>\n",
       "      <th>538836</th>\n",
       "      <td>892</td>\n",
       "      <td>997</td>\n",
       "      <td>1.0</td>\n",
       "    </tr>\n",
       "    <tr>\n",
       "      <th>546191</th>\n",
       "      <td>947</td>\n",
       "      <td>1037</td>\n",
       "      <td>1.0</td>\n",
       "    </tr>\n",
       "    <tr>\n",
       "      <th>546208</th>\n",
       "      <td>947</td>\n",
       "      <td>1054</td>\n",
       "      <td>1.0</td>\n",
       "    </tr>\n",
       "    <tr>\n",
       "      <th>551620</th>\n",
       "      <td>1037</td>\n",
       "      <td>1054</td>\n",
       "      <td>1.0</td>\n",
       "    </tr>\n",
       "  </tbody>\n",
       "</table>\n",
       "</div>"
      ],
      "text/plain": [
       "        element_1  element_2  ratio\n",
       "34456          33        369    1.0\n",
       "34970          33        885    1.0\n",
       "35103          33       1020    1.0\n",
       "195254        206        276    1.0\n",
       "195461        206        484    1.0\n",
       "195485        206        508    1.0\n",
       "195517        206        540    1.0\n",
       "195615        206        638    1.0\n",
       "195644        206        667    1.0\n",
       "195682        206        706    1.0\n",
       "195817        206        842    1.0\n",
       "195851        206        876    1.0\n",
       "195864        206        889    1.0\n",
       "195922        206        947    1.0\n",
       "196010        206       1037    1.0\n",
       "196027        206       1054    1.0\n",
       "226782        244        474    1.0\n",
       "252056        276        484    1.0\n",
       "252080        276        508    1.0\n",
       "252112        276        540    1.0\n",
       "252210        276        638    1.0\n",
       "252239        276        667    1.0\n",
       "252277        276        706    1.0\n",
       "252412        276        842    1.0\n",
       "252446        276        876    1.0\n",
       "252459        276        889    1.0\n",
       "252517        276        947    1.0\n",
       "252605        276       1037    1.0\n",
       "252622        276       1054    1.0\n",
       "319385        369        885    1.0\n",
       "319518        369       1020    1.0\n",
       "390770        484        508    1.0\n",
       "390802        484        540    1.0\n",
       "390900        484        638    1.0\n",
       "390929        484        667    1.0\n",
       "390967        484        706    1.0\n",
       "391102        484        842    1.0\n",
       "391136        484        876    1.0\n",
       "391149        484        889    1.0\n",
       "391207        484        947    1.0\n",
       "391295        484       1037    1.0\n",
       "391312        484       1054    1.0\n",
       "404110        508        540    1.0\n",
       "404208        508        638    1.0\n",
       "404237        508        667    1.0\n",
       "404275        508        706    1.0\n",
       "404410        508        842    1.0\n",
       "404444        508        876    1.0\n",
       "404457        508        889    1.0\n",
       "404515        508        947    1.0\n",
       "404603        508       1037    1.0\n",
       "404620        508       1054    1.0\n",
       "421056        540        638    1.0\n",
       "421085        540        667    1.0\n",
       "421123        540        706    1.0\n",
       "421258        540        842    1.0\n",
       "421292        540        876    1.0\n",
       "421305        540        889    1.0\n",
       "421363        540        947    1.0\n",
       "421451        540       1037    1.0\n",
       "421468        540       1054    1.0\n",
       "433060        564        678    1.0\n",
       "466312        638        667    1.0\n",
       "466350        638        706    1.0\n",
       "466485        638        842    1.0\n",
       "466519        638        876    1.0\n",
       "466532        638        889    1.0\n",
       "466590        638        947    1.0\n",
       "466678        638       1037    1.0\n",
       "466695        638       1054    1.0\n",
       "477892        667        706    1.0\n",
       "478027        667        842    1.0\n",
       "478061        667        876    1.0\n",
       "478074        667        889    1.0\n",
       "478132        667        947    1.0\n",
       "478220        667       1037    1.0\n",
       "478237        667       1054    1.0\n",
       "491878        706        842    1.0\n",
       "491912        706        876    1.0\n",
       "491925        706        889    1.0\n",
       "491983        706        947    1.0\n",
       "492071        706       1037    1.0\n",
       "492088        706       1054    1.0\n",
       "529442        842        876    1.0\n",
       "529455        842        889    1.0\n",
       "529513        842        947    1.0\n",
       "529601        842       1037    1.0\n",
       "529618        842       1054    1.0\n",
       "536034        876        889    1.0\n",
       "536092        876        947    1.0\n",
       "536180        876       1037    1.0\n",
       "536197        876       1054    1.0\n",
       "537711        885       1020    1.0\n",
       "538302        889        947    1.0\n",
       "538390        889       1037    1.0\n",
       "538407        889       1054    1.0\n",
       "538836        892        997    1.0\n",
       "546191        947       1037    1.0\n",
       "546208        947       1054    1.0\n",
       "551620       1037       1054    1.0"
      ]
     },
     "execution_count": 220,
     "metadata": {},
     "output_type": "execute_result"
    }
   ],
   "source": [
    "df_match = pd.DataFrame(match_list)\n",
    "display(df_match[df_match.ratio==1].shape)\n",
    "df_match[df_match.ratio==1]"
   ]
  },
  {
   "cell_type": "code",
   "execution_count": 241,
   "metadata": {},
   "outputs": [
    {
     "data": {
      "text/plain": [
       "array([\"DATALAYER: HIGH THROUGHPUT, LOW LATENCY AT SCALE - BOOST THE PERFORMANCE OF YOUR\\r\\nDISTRIBUTED DATABASE\\r\\nShare on Twitter Share on Facebook Share on Google+ Vote on Hacker News Published Dec 29, 2016Learn how distributed DBs (Cassandra, MongoDB, RethinkDB, etc) solve the problem\\r\\nof scaling persistent storage, but introduce latency as data size increases and\\r\\nbecome I/O bound. In single server DBs, latency is solved by introducing\\r\\ncaching. In this talk, Akbar Ahmed shows you how to improve the performance of\\r\\ndistributed DBs by using a distributed cache to move the data layer performance\\r\\nlimitation from I/O bound to network bound.\\r\\n\\r\\nAkbar is the CEO and founder of DynomiteDB, a framework for turning single\\r\\nserver data stores into linearly scalable, distributed databases. He is an\\r\\nApache Cassandra certified developer and a Cassandra MVP, enjoys the\\r\\nexpressiveness of both SQL and alternative query languages, and evaluates the\\r\\nentire database ecosystem every 6 months and has an MBA in Information Systems.\\r\\n\\r\\n\\r\\n--------------------------------------------------------------------------------\\r\\n\\r\\nIf you have any feedback about this or any other Compose article, drop the\\r\\nCompose Articles team a line at articles@compose.com . We're happy to hear from you.\\r\\n\\r\\nShare on Twitter Share on Facebook Share on Google+ Vote on Hacker News Subscribe Thom Crowe is a marketing and community guy at Compose, who enjoys long walks on the\\r\\nbeach, reading, spending time with his wife and daughter and tinkering. Love\\r\\nthis article? Head over to Thom Crowe’s author page and keep reading. Company About Us We’re Hiring Articles Write Stuff Plans & Pricing Customer Stories Compose Webinars Support System Status Support Documentation Security Privacy Policy Terms of Service Products MongoDB Elasticsearch RethinkDB Redis PostgreSQL etcd RabbitMQ ScyllaDB MySQL Enterprise Add-ons * Deployments AWS SoftLayer Google Cloud\"],\n",
       "      dtype=object)"
      ]
     },
     "execution_count": 241,
     "metadata": {},
     "output_type": "execute_result"
    }
   ],
   "source": [
    "df_content[df_content.article_id==3]['doc_body'].values"
   ]
  },
  {
   "cell_type": "code",
   "execution_count": 242,
   "metadata": {},
   "outputs": [
    {
     "data": {
      "text/plain": [
       "array(['Homepage Follow Sign in / Sign up Homepage * Home\\r\\n * Data Science Experience\\r\\n * \\r\\n * Watson Data Platform\\r\\n * \\r\\n\\r\\nArmand Ruiz Blocked Unblock Follow Following Lead Product Manager Data Science Experience #IBM #BigData #Analytics #RStats\\r\\n#Cloud - Born in Barcelona Living in Chicago - All tweets and opinions are my\\r\\nown Aug 15, 2016\\r\\n--------------------------------------------------------------------------------\\r\\n\\r\\nUPLOAD DATA AND CREATE DATA FRAMES IN JUPYTER NOTEBOOKS\\r\\nWhen you create an account in IBM Data Science Experience we provision a free\\r\\nApache Spark Cluster and 5 GB of Free IBM Object Storage . Some of our users shared that they are having trouble loading data in\\r\\nnotebooks due to inexperience working with Cloud Data Services. Most of them are\\r\\nused to working with data hosted on their own laptop. We want to provide for you\\r\\nthe easiest experience to work with your data, and with the tools and libraries\\r\\nthat you already know.\\r\\n\\r\\nWe are excited to announce a new feature in IBM Data Science Experience that\\r\\nwill help users create data frames in one click using the Jupyter Notebooks\\r\\ninterface.\\r\\n\\r\\nUPLOAD DATA TO OBJECT STORAGE\\r\\nUploading data to Object Storage is very simple. Just drag and drop your file in\\r\\nthe notebook and, Magic! ✨ , the file is uploaded and you will see it available\\r\\nin the Notebook palette. There is a progress bar to show how long the upload\\r\\nprocess will take, which depends on the file size.\\r\\n\\r\\nCREATE DATA FRAMES TO START YOUR ANALYSIS\\r\\nA data frame is a two-dimensional labeled data structure with columns of\\r\\npotentially different types. You can think of it like a spreadsheet or SQL\\r\\ntable.\\r\\n\\r\\nOnce your file is uploaded, it appears in the Notebook palette. Now, click Insert Code , which will open a drop-down menu with different options to create different\\r\\ntypes of data frames depending on your preference and language:\\r\\n\\r\\nPython Notebook\\r\\n\\r\\n * Pandas DataFrame\\r\\n * Spark SQL DataFrame\\r\\n * Spark RDD\\r\\n * Insert Credentials\\r\\n\\r\\nR Notebook\\r\\n\\r\\n * R base DataFrame\\r\\n * Spark SQL DataFrame\\r\\n * Insert Credentials\\r\\n\\r\\nNote that today this feature is only supported in CSV files but if you like it\\r\\nwe will extend it quickly to other file formats!\\r\\n\\r\\nThis action will create a new cell in the notebook that will perform four\\r\\nactions:\\r\\n\\r\\n 1. Install and import all the needed libraries to load the data. This action happens only the\\r\\n    first time that you use this feature in the notebook, since you need only to\\r\\n    load the libraries once.\\r\\n 2. Connect to the Object Storage object, automatically inserting the credentials for\\r\\n    you.\\r\\n 3. Load the data frame.\\r\\n 4. Display a preview of the data frame.\\r\\n\\r\\nSee a demo in action here:\\r\\n\\r\\n * Machine Learning\\r\\n * IBM\\r\\n * Data Science\\r\\n\\r\\n\\r\\n\\r\\nBlocked Unblock Follow FollowingARMAND RUIZ\\r\\nLead Product Manager Data Science Experience #IBM #BigData #Analytics #RStats\\r\\n#Cloud - Born in Barcelona Living in Chicago - All tweets and opinions are my\\r\\nown\\r\\n\\r\\nFollowIBM WATSON DATA PLATFORM\\r\\nBuild smarter applications and quickly visualize, share, and gain insights\\r\\n\\r\\n * \\r\\n * \\r\\n * \\r\\n * \\r\\n\\r\\nNever miss a story from IBM Watson Data Platform , when you sign up for Medium. Learn more Never miss a story from IBM Watson Data Platform Get updates Get updates'],\n",
       "      dtype=object)"
      ]
     },
     "execution_count": 242,
     "metadata": {},
     "output_type": "execute_result"
    }
   ],
   "source": [
    "df_content[df_content.article_id==369]['doc_body'].values"
   ]
  },
  {
   "cell_type": "markdown",
   "metadata": {},
   "source": [
    "`3.` Use the cells below to find:\n",
    "\n",
    "**a.** The number of unique articles that have an interaction with a user.  \n",
    "**b.** The number of unique articles in the dataset (whether they have any interactions or not).<br>\n",
    "**c.** The number of unique users in the dataset. (excluding null values) <br>\n",
    "**d.** The number of user-article interactions in the dataset."
   ]
  },
  {
   "cell_type": "markdown",
   "metadata": {},
   "source": [
    "#### Number of unique articles that have an interaction with a user: 714\n"
   ]
  },
  {
   "cell_type": "code",
   "execution_count": 324,
   "metadata": {},
   "outputs": [
    {
     "data": {
      "text/plain": [
       "True"
      ]
     },
     "metadata": {},
     "output_type": "display_data"
    },
    {
     "data": {
      "text/plain": [
       "714"
      ]
     },
     "execution_count": 324,
     "metadata": {},
     "output_type": "execute_result"
    }
   ],
   "source": [
    "df_merge = df.merge(df_content, left_on='article_id', right_on='article_id', how='left')\n",
    "display(df_merge.isnull().values.any())\n",
    "unique_articles = df_merge.article_id.unique().shape[0]\n",
    "unique_articles"
   ]
  },
  {
   "cell_type": "markdown",
   "metadata": {},
   "source": [
    "#### Number of unique articles in dataset: 1051"
   ]
  },
  {
   "cell_type": "code",
   "execution_count": 327,
   "metadata": {},
   "outputs": [
    {
     "data": {
      "text/plain": [
       "1051"
      ]
     },
     "execution_count": 327,
     "metadata": {},
     "output_type": "execute_result"
    }
   ],
   "source": [
    "total_articles = df_content.article_id.unique().shape[0]\n",
    "total_articles"
   ]
  },
  {
   "cell_type": "markdown",
   "metadata": {},
   "source": [
    "#### Number of unique users in dataset: 5148 counting null"
   ]
  },
  {
   "cell_type": "code",
   "execution_count": 350,
   "metadata": {},
   "outputs": [
    {
     "data": {
      "text/plain": [
       "5148"
      ]
     },
     "execution_count": 350,
     "metadata": {},
     "output_type": "execute_result"
    }
   ],
   "source": [
    "unique_users = df.email.unique().shape[0]\n",
    "unique_users"
   ]
  },
  {
   "cell_type": "markdown",
   "metadata": {},
   "source": [
    "#### Number of user-article interactions in dataset: 45993"
   ]
  },
  {
   "cell_type": "code",
   "execution_count": 329,
   "metadata": {},
   "outputs": [
    {
     "data": {
      "text/plain": [
       "45993"
      ]
     },
     "execution_count": 329,
     "metadata": {},
     "output_type": "execute_result"
    }
   ],
   "source": [
    "user_article_interactions = df_merge.shape[0]\n",
    "user_article_interactions"
   ]
  },
  {
   "cell_type": "markdown",
   "metadata": {},
   "source": [
    "`4.` Use the cells below to find the most viewed **article_id**, as well as how often it was viewed.  After talking to the company leaders, the `email_mapper` function was deemed a reasonable way to map users to ids.  There were a small number of null values, and it was found that all of these null values likely belonged to a single user (which is how they are stored using the function below)."
   ]
  },
  {
   "cell_type": "markdown",
   "metadata": {},
   "source": [
    "#### Top 5 most viewed articles were 43, 151, 124, 390, 20"
   ]
  },
  {
   "cell_type": "code",
   "execution_count": 334,
   "metadata": {},
   "outputs": [
    {
     "data": {
      "text/html": [
       "<div>\n",
       "<style scoped>\n",
       "    .dataframe tbody tr th:only-of-type {\n",
       "        vertical-align: middle;\n",
       "    }\n",
       "\n",
       "    .dataframe tbody tr th {\n",
       "        vertical-align: top;\n",
       "    }\n",
       "\n",
       "    .dataframe thead th {\n",
       "        text-align: right;\n",
       "    }\n",
       "</style>\n",
       "<table border=\"1\" class=\"dataframe\">\n",
       "  <thead>\n",
       "    <tr style=\"text-align: right;\">\n",
       "      <th></th>\n",
       "      <th>article_id</th>\n",
       "      <th>email</th>\n",
       "    </tr>\n",
       "  </thead>\n",
       "  <tbody>\n",
       "    <tr>\n",
       "      <th>0</th>\n",
       "      <td>1429.0</td>\n",
       "      <td>937</td>\n",
       "    </tr>\n",
       "    <tr>\n",
       "      <th>1</th>\n",
       "      <td>1330.0</td>\n",
       "      <td>927</td>\n",
       "    </tr>\n",
       "    <tr>\n",
       "      <th>2</th>\n",
       "      <td>1431.0</td>\n",
       "      <td>671</td>\n",
       "    </tr>\n",
       "    <tr>\n",
       "      <th>3</th>\n",
       "      <td>1427.0</td>\n",
       "      <td>643</td>\n",
       "    </tr>\n",
       "    <tr>\n",
       "      <th>4</th>\n",
       "      <td>1364.0</td>\n",
       "      <td>627</td>\n",
       "    </tr>\n",
       "  </tbody>\n",
       "</table>\n",
       "</div>"
      ],
      "text/plain": [
       "   article_id  email\n",
       "0      1429.0    937\n",
       "1      1330.0    927\n",
       "2      1431.0    671\n",
       "3      1427.0    643\n",
       "4      1364.0    627"
      ]
     },
     "execution_count": 334,
     "metadata": {},
     "output_type": "execute_result"
    }
   ],
   "source": [
    "top5 = df_merge.groupby('article_id').agg({'email':'size'}).sort_values('email', ascending=False).\\\n",
    "reset_index().head()\n",
    "top5"
   ]
  },
  {
   "cell_type": "code",
   "execution_count": 346,
   "metadata": {},
   "outputs": [],
   "source": [
    "most_viewed_article_id = str(top5.iloc[0,0]) # The most viewed article in the dataset as a string with one value following the decimal \n",
    "max_views = top5.iloc[0,1] # The most viewed article in the dataset was viewed how many times?"
   ]
  },
  {
   "cell_type": "code",
   "execution_count": 343,
   "metadata": {},
   "outputs": [
    {
     "data": {
      "text/html": [
       "<div>\n",
       "<style scoped>\n",
       "    .dataframe tbody tr th:only-of-type {\n",
       "        vertical-align: middle;\n",
       "    }\n",
       "\n",
       "    .dataframe tbody tr th {\n",
       "        vertical-align: top;\n",
       "    }\n",
       "\n",
       "    .dataframe thead th {\n",
       "        text-align: right;\n",
       "    }\n",
       "</style>\n",
       "<table border=\"1\" class=\"dataframe\">\n",
       "  <thead>\n",
       "    <tr style=\"text-align: right;\">\n",
       "      <th></th>\n",
       "      <th>article_id</th>\n",
       "      <th>title</th>\n",
       "      <th>email</th>\n",
       "      <th>user_id</th>\n",
       "      <th>doc_body</th>\n",
       "      <th>doc_description</th>\n",
       "      <th>doc_full_name</th>\n",
       "      <th>doc_status</th>\n",
       "    </tr>\n",
       "  </thead>\n",
       "  <tbody>\n",
       "    <tr>\n",
       "      <th>0</th>\n",
       "      <td>1430.0</td>\n",
       "      <td>using pixiedust for fast, flexible, and easier...</td>\n",
       "      <td>ef5f11f77ba020cd36e1105a00ab868bbdbf7fe7</td>\n",
       "      <td>0</td>\n",
       "      <td>NaN</td>\n",
       "      <td>NaN</td>\n",
       "      <td>NaN</td>\n",
       "      <td>NaN</td>\n",
       "    </tr>\n",
       "    <tr>\n",
       "      <th>1</th>\n",
       "      <td>1314.0</td>\n",
       "      <td>healthcare python streaming application demo</td>\n",
       "      <td>083cbdfa93c8444beaa4c5f5e0f5f9198e4f9e0b</td>\n",
       "      <td>1</td>\n",
       "      <td>NaN</td>\n",
       "      <td>NaN</td>\n",
       "      <td>NaN</td>\n",
       "      <td>NaN</td>\n",
       "    </tr>\n",
       "    <tr>\n",
       "      <th>2</th>\n",
       "      <td>1429.0</td>\n",
       "      <td>use deep learning for image classification</td>\n",
       "      <td>b96a4f2e92d8572034b1e9b28f9ac673765cd074</td>\n",
       "      <td>2</td>\n",
       "      <td>NaN</td>\n",
       "      <td>NaN</td>\n",
       "      <td>NaN</td>\n",
       "      <td>NaN</td>\n",
       "    </tr>\n",
       "    <tr>\n",
       "      <th>3</th>\n",
       "      <td>1338.0</td>\n",
       "      <td>ml optimization using cognitive assistant</td>\n",
       "      <td>06485706b34a5c9bf2a0ecdac41daf7e7654ceb7</td>\n",
       "      <td>3</td>\n",
       "      <td>NaN</td>\n",
       "      <td>NaN</td>\n",
       "      <td>NaN</td>\n",
       "      <td>NaN</td>\n",
       "    </tr>\n",
       "    <tr>\n",
       "      <th>4</th>\n",
       "      <td>1276.0</td>\n",
       "      <td>deploy your python model as a restful api</td>\n",
       "      <td>f01220c46fc92c6e6b161b1849de11faacd7ccb2</td>\n",
       "      <td>4</td>\n",
       "      <td>NaN</td>\n",
       "      <td>NaN</td>\n",
       "      <td>NaN</td>\n",
       "      <td>NaN</td>\n",
       "    </tr>\n",
       "  </tbody>\n",
       "</table>\n",
       "</div>"
      ],
      "text/plain": [
       "   article_id                                              title                                     email  user_id doc_body doc_description doc_full_name doc_status\n",
       "0      1430.0  using pixiedust for fast, flexible, and easier...  ef5f11f77ba020cd36e1105a00ab868bbdbf7fe7        0      NaN             NaN           NaN        NaN\n",
       "1      1314.0       healthcare python streaming application demo  083cbdfa93c8444beaa4c5f5e0f5f9198e4f9e0b        1      NaN             NaN           NaN        NaN\n",
       "2      1429.0         use deep learning for image classification  b96a4f2e92d8572034b1e9b28f9ac673765cd074        2      NaN             NaN           NaN        NaN\n",
       "3      1338.0          ml optimization using cognitive assistant  06485706b34a5c9bf2a0ecdac41daf7e7654ceb7        3      NaN             NaN           NaN        NaN\n",
       "4      1276.0          deploy your python model as a restful api  f01220c46fc92c6e6b161b1849de11faacd7ccb2        4      NaN             NaN           NaN        NaN"
      ]
     },
     "execution_count": 343,
     "metadata": {},
     "output_type": "execute_result"
    }
   ],
   "source": [
    "df_merge.head()"
   ]
  },
  {
   "cell_type": "code",
   "execution_count": 315,
   "metadata": {},
   "outputs": [],
   "source": [
    "user_dict = {email:i for i, email in enumerate(df.email.unique())}\n",
    "df['user_id'] = df.email.apply(lambda x: user_dict[x])"
   ]
  },
  {
   "cell_type": "code",
   "execution_count": 352,
   "metadata": {},
   "outputs": [
    {
     "name": "stdout",
     "output_type": "stream",
     "text": [
      "It looks like you have everything right here! Nice job!\n"
     ]
    }
   ],
   "source": [
    "## If you stored all your results in the variable names above, \n",
    "## you shouldn't need to change anything in this cell\n",
    "\n",
    "\n",
    "sol_1_dict = {\n",
    "    '`50% of individuals have _____ or fewer interactions.`': median_val,\n",
    "    '`The total number of user-article interactions in the dataset is ______.`': user_article_interactions,\n",
    "    '`The maximum number of user-article interactions by any 1 user is ______.`': max_views_by_user,\n",
    "    '`The most viewed article in the dataset was viewed _____ times.`': max_views,\n",
    "    '`The article_id of the most viewed article is ______.`': most_viewed_article_id,\n",
    "    '`The number of unique articles that have at least 1 rating ______.`': unique_articles,\n",
    "    '`The number of unique users in the dataset is ______`': unique_users,\n",
    "    '`The number of unique articles on the IBM platform`': total_articles\n",
    "}\n",
    "\n",
    "# Test your dictionary against the solution\n",
    "t.sol_1_test(sol_1_dict)"
   ]
  },
  {
   "cell_type": "markdown",
   "metadata": {},
   "source": [
    "### <a class=\"anchor\" id=\"Rank\">Part II: Rank-Based Recommendations</a>\n",
    "\n",
    "Unlike in the earlier lessons, we don't actually have ratings for whether a user liked an article or not.  We only know that a user has interacted with an article.  In these cases, the popularity of an article can really only be based on how often an article was interacted with.\n",
    "\n",
    "`1.` Fill in the function below to return the **n** top articles ordered with most interactions as the top. Test your function using the tests below."
   ]
  },
  {
   "cell_type": "code",
   "execution_count": 400,
   "metadata": {},
   "outputs": [],
   "source": [
    "def get_top_articles(n, df=df):\n",
    "    '''\n",
    "    INPUT:\n",
    "    n - (int) the number of top articles to return\n",
    "    df - (pandas dataframe) df as defined at the top of the notebook \n",
    "    \n",
    "    OUTPUT:\n",
    "    top_articles - (list) A list of the top 'n' article titles \n",
    "    \n",
    "    '''\n",
    "    list_top = df.\\\n",
    "    groupby('article_id').\\\n",
    "    agg({'email':'size'}).\\\n",
    "    sort_values('email', ascending=False).\\\n",
    "    reset_index().iloc[0:n,0].values\n",
    "\n",
    "    return df[df.article_id.isin(list_top)]['title'].values"
   ]
  },
  {
   "cell_type": "code",
   "execution_count": 401,
   "metadata": {},
   "outputs": [
    {
     "name": "stdout",
     "output_type": "stream",
     "text": [
      "['healthcare python streaming application demo'\n",
      " 'use deep learning for image classification'\n",
      " 'use deep learning for image classification' ...\n",
      " 'insights from new york car accident reports'\n",
      " 'visualize car data with brunel'\n",
      " 'insights from new york car accident reports']\n"
     ]
    }
   ],
   "source": [
    "print(get_top_articles(10, df))"
   ]
  },
  {
   "cell_type": "code",
   "execution_count": 374,
   "metadata": {},
   "outputs": [],
   "source": [
    "def get_top_article_ids(n, df=df):\n",
    "    '''\n",
    "    INPUT:\n",
    "    n - (int) the number of top articles to return\n",
    "    df - (pandas dataframe) df as defined at the top of the notebook \n",
    "    \n",
    "    OUTPUT:\n",
    "    top_articles - (list) A list of the top 'n' article titles \n",
    "    \n",
    "    '''\n",
    "    # Your code here\n",
    "    return df.\\\n",
    "        groupby('article_id').\\\n",
    "        agg({'email':'size'}).\\\n",
    "        sort_values('email', ascending=False).reset_index().iloc[0:n,0].values"
   ]
  },
  {
   "cell_type": "code",
   "execution_count": 402,
   "metadata": {},
   "outputs": [
    {
     "name": "stdout",
     "output_type": "stream",
     "text": [
      "[1429. 1330. 1431. 1427. 1364. 1314. 1293. 1170. 1162. 1304.]\n"
     ]
    }
   ],
   "source": [
    "print(get_top_article_ids(10))"
   ]
  },
  {
   "cell_type": "code",
   "execution_count": null,
   "metadata": {},
   "outputs": [],
   "source": []
  }
 ],
 "metadata": {
  "kernelspec": {
   "display_name": "Python 3",
   "language": "python",
   "name": "python3"
  },
  "language_info": {
   "codemirror_mode": {
    "name": "ipython",
    "version": 3
   },
   "file_extension": ".py",
   "mimetype": "text/x-python",
   "name": "python",
   "nbconvert_exporter": "python",
   "pygments_lexer": "ipython3",
   "version": "3.6.8"
  }
 },
 "nbformat": 4,
 "nbformat_minor": 2
}
